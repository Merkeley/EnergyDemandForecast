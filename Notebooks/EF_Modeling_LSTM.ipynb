{
 "cells": [
  {
   "cell_type": "markdown",
   "metadata": {},
   "source": [
    " # Electrical Demand Forecasting\n",
    " \n",
    " ## LSTM Recurrant Neural Network Modeling"
   ]
  },
  {
   "cell_type": "markdown",
   "metadata": {},
   "source": [
    "### 1. Import Modules <a id='import'></a>"
   ]
  },
  {
   "cell_type": "code",
   "execution_count": 1,
   "metadata": {},
   "outputs": [],
   "source": [
    "import os\n",
    "import sys\n",
    "\n",
    "import numpy as np\n",
    "import pandas as pd\n",
    "\n",
    "import seaborn as sns\n",
    "import matplotlib.pyplot as plt\n",
    "\n",
    "import datetime as dt\n",
    "from dateutil import parser\n",
    "\n",
    "import torch\n",
    "import torch.nn as nn\n",
    "\n",
    "%matplotlib inline"
   ]
  },
  {
   "cell_type": "markdown",
   "metadata": {},
   "source": [
    "#### 2. Read the datafile and adjust"
   ]
  },
  {
   "cell_type": "code",
   "execution_count": 2,
   "metadata": {},
   "outputs": [],
   "source": [
    "data_file = '../data/big_demand_temp_train.csv'"
   ]
  },
  {
   "cell_type": "code",
   "execution_count": 3,
   "metadata": {},
   "outputs": [
    {
     "data": {
      "text/html": [
       "<div>\n",
       "<style scoped>\n",
       "    .dataframe tbody tr th:only-of-type {\n",
       "        vertical-align: middle;\n",
       "    }\n",
       "\n",
       "    .dataframe tbody tr th {\n",
       "        vertical-align: top;\n",
       "    }\n",
       "\n",
       "    .dataframe thead th {\n",
       "        text-align: right;\n",
       "    }\n",
       "</style>\n",
       "<table border=\"1\" class=\"dataframe\">\n",
       "  <thead>\n",
       "    <tr style=\"text-align: right;\">\n",
       "      <th></th>\n",
       "      <th>demand</th>\n",
       "      <th>Los Angeles</th>\n",
       "      <th>San Diego</th>\n",
       "      <th>San Jose</th>\n",
       "      <th>San Francisco</th>\n",
       "      <th>Sacramento</th>\n",
       "      <th>Fresno</th>\n",
       "      <th>Mon</th>\n",
       "      <th>Tue</th>\n",
       "      <th>Wed</th>\n",
       "      <th>Thur</th>\n",
       "      <th>Fri</th>\n",
       "      <th>Sat</th>\n",
       "      <th>Sun</th>\n",
       "      <th>DOW</th>\n",
       "    </tr>\n",
       "  </thead>\n",
       "  <tbody>\n",
       "    <tr>\n",
       "      <th>2015-07-01 08:00:00+00:00</th>\n",
       "      <td>38210</td>\n",
       "      <td>71.60</td>\n",
       "      <td>68.76</td>\n",
       "      <td>70.89</td>\n",
       "      <td>59.32</td>\n",
       "      <td>79.80</td>\n",
       "      <td>86.04</td>\n",
       "      <td>0</td>\n",
       "      <td>0</td>\n",
       "      <td>1</td>\n",
       "      <td>0</td>\n",
       "      <td>0</td>\n",
       "      <td>0</td>\n",
       "      <td>0</td>\n",
       "      <td>2</td>\n",
       "    </tr>\n",
       "    <tr>\n",
       "      <th>2015-07-01 09:00:00+00:00</th>\n",
       "      <td>35171</td>\n",
       "      <td>70.93</td>\n",
       "      <td>68.19</td>\n",
       "      <td>69.78</td>\n",
       "      <td>58.96</td>\n",
       "      <td>77.77</td>\n",
       "      <td>86.35</td>\n",
       "      <td>0</td>\n",
       "      <td>0</td>\n",
       "      <td>1</td>\n",
       "      <td>0</td>\n",
       "      <td>0</td>\n",
       "      <td>0</td>\n",
       "      <td>0</td>\n",
       "      <td>2</td>\n",
       "    </tr>\n",
       "    <tr>\n",
       "      <th>2015-07-01 10:00:00+00:00</th>\n",
       "      <td>33243</td>\n",
       "      <td>70.43</td>\n",
       "      <td>68.29</td>\n",
       "      <td>68.07</td>\n",
       "      <td>58.63</td>\n",
       "      <td>76.51</td>\n",
       "      <td>82.74</td>\n",
       "      <td>0</td>\n",
       "      <td>0</td>\n",
       "      <td>1</td>\n",
       "      <td>0</td>\n",
       "      <td>0</td>\n",
       "      <td>0</td>\n",
       "      <td>0</td>\n",
       "      <td>2</td>\n",
       "    </tr>\n",
       "    <tr>\n",
       "      <th>2015-07-01 11:00:00+00:00</th>\n",
       "      <td>31955</td>\n",
       "      <td>70.87</td>\n",
       "      <td>68.32</td>\n",
       "      <td>66.92</td>\n",
       "      <td>58.11</td>\n",
       "      <td>74.94</td>\n",
       "      <td>82.04</td>\n",
       "      <td>0</td>\n",
       "      <td>0</td>\n",
       "      <td>1</td>\n",
       "      <td>0</td>\n",
       "      <td>0</td>\n",
       "      <td>0</td>\n",
       "      <td>0</td>\n",
       "      <td>2</td>\n",
       "    </tr>\n",
       "    <tr>\n",
       "      <th>2015-07-01 12:00:00+00:00</th>\n",
       "      <td>31199</td>\n",
       "      <td>71.58</td>\n",
       "      <td>68.46</td>\n",
       "      <td>66.16</td>\n",
       "      <td>57.90</td>\n",
       "      <td>73.80</td>\n",
       "      <td>80.37</td>\n",
       "      <td>0</td>\n",
       "      <td>0</td>\n",
       "      <td>1</td>\n",
       "      <td>0</td>\n",
       "      <td>0</td>\n",
       "      <td>0</td>\n",
       "      <td>0</td>\n",
       "      <td>2</td>\n",
       "    </tr>\n",
       "  </tbody>\n",
       "</table>\n",
       "</div>"
      ],
      "text/plain": [
       "                           demand  Los Angeles  San Diego  San Jose  \\\n",
       "2015-07-01 08:00:00+00:00   38210        71.60      68.76     70.89   \n",
       "2015-07-01 09:00:00+00:00   35171        70.93      68.19     69.78   \n",
       "2015-07-01 10:00:00+00:00   33243        70.43      68.29     68.07   \n",
       "2015-07-01 11:00:00+00:00   31955        70.87      68.32     66.92   \n",
       "2015-07-01 12:00:00+00:00   31199        71.58      68.46     66.16   \n",
       "\n",
       "                           San Francisco  Sacramento  Fresno  Mon  Tue  Wed  \\\n",
       "2015-07-01 08:00:00+00:00          59.32       79.80   86.04    0    0    1   \n",
       "2015-07-01 09:00:00+00:00          58.96       77.77   86.35    0    0    1   \n",
       "2015-07-01 10:00:00+00:00          58.63       76.51   82.74    0    0    1   \n",
       "2015-07-01 11:00:00+00:00          58.11       74.94   82.04    0    0    1   \n",
       "2015-07-01 12:00:00+00:00          57.90       73.80   80.37    0    0    1   \n",
       "\n",
       "                           Thur  Fri  Sat  Sun  DOW  \n",
       "2015-07-01 08:00:00+00:00     0    0    0    0    2  \n",
       "2015-07-01 09:00:00+00:00     0    0    0    0    2  \n",
       "2015-07-01 10:00:00+00:00     0    0    0    0    2  \n",
       "2015-07-01 11:00:00+00:00     0    0    0    0    2  \n",
       "2015-07-01 12:00:00+00:00     0    0    0    0    2  "
      ]
     },
     "execution_count": 3,
     "metadata": {},
     "output_type": "execute_result"
    }
   ],
   "source": [
    "full_df = pd.read_csv(data_file, index_col=0)\n",
    "dt_index = [parser.isoparse(x) for x in full_df.index]\n",
    "full_df.index = dt_index\n",
    "full_df.head()"
   ]
  },
  {
   "cell_type": "code",
   "execution_count": 4,
   "metadata": {},
   "outputs": [],
   "source": [
    "from sklearn.preprocessing import MinMaxScaler\n",
    "\n",
    "scaler = MinMaxScaler(feature_range=(-1, 1))\n",
    "demand_normalized = scaler.fit_transform(np.array(full_df['demand']).reshape(-1,1))\n",
    "full_df['demand'] = demand_normalized"
   ]
  },
  {
   "cell_type": "code",
   "execution_count": 5,
   "metadata": {},
   "outputs": [],
   "source": [
    "# Split the data frame into two parts\n",
    "data_len = full_df.shape[0]\n",
    "train_len = int(0.5 * data_len)\n",
    "window_len = int(0.1 * data_len)\n",
    "validation_len = int(0.8 * data_len)"
   ]
  },
  {
   "cell_type": "code",
   "execution_count": 6,
   "metadata": {},
   "outputs": [],
   "source": [
    "# Make the primary train/validation split\n",
    "X_train = full_df.iloc[:train_len, :]\n",
    "\n",
    "# Make intermediate trail windows for walk forward validation\n",
    "X_walk1 = full_df.iloc[train_len:train_len+window_len, :]\n",
    "X_walk2 = full_df.iloc[train_len+window_len:train_len+2*window_len, :]\n",
    "X_walk3 = full_df.iloc[train_len+2*window_len:train_len+3*window_len, :]"
   ]
  },
  {
   "cell_type": "markdown",
   "metadata": {},
   "source": [
    "#### 3. Determine the configuration for the Neural Net and shape the input data\n",
    "\n",
    "We would like to predict the electricity demand as far out as possible.  We saw that the SARIMAX model performance began to deteriorate after 3-ish weeks.  Given that weather forecasts (and therefore exogenous data) are roughly accurate for 2 weeks we'll try to get a 2 week estimate from our model.\n",
    "\n",
    "For inputs we will start by using 6 weeks of prior data to to get a 2 week estimate.  So, for our model:\n",
    "\n",
    "    inputs = 24 hours * 7 days * 6 weeks * 14 features\n",
    "           = 14112\n",
    "           \n",
    "    outputs = 24 hours * 7 days * 2 weeks = 336\n",
    "    \n",
    "For hidden layers we'll start with 1 layer of 3000 nodes"
   ]
  },
  {
   "cell_type": "code",
   "execution_count": 7,
   "metadata": {},
   "outputs": [],
   "source": [
    "def choose_train_data_block(X, start, in_size, out_size, step_size) :\n",
    "    head = start+in_size+out_size\n",
    "    tail = start\n",
    "    while(head < len(X)) :\n",
    "        # Implement this as a generator so we don't have to keep all the data in memory\n",
    "        model_inputs = X[tail:tail+in_size]\n",
    "        actual_y = X[tail+in_size:tail+in_size+out_size]\n",
    "        \n",
    "        head += step_size\n",
    "        tail += step_size\n",
    "        \n",
    "        # Return a tuple of input values for 6 weeks and output values for 2 weeks.\n",
    "        yield [model_inputs, actual_y]\n",
    "    "
   ]
  },
  {
   "cell_type": "markdown",
   "metadata": {},
   "source": [
    "#### 4. Build/Configure the model"
   ]
  },
  {
   "cell_type": "code",
   "execution_count": 8,
   "metadata": {},
   "outputs": [],
   "source": [
    "class EF_LSTM(nn.Module):\n",
    "    def __init__(self, input_size=1, hidden_layer_size=100, output_size=1):\n",
    "        super().__init__()\n",
    "        self.hidden_layer_size1 = hidden_layer_size\n",
    "        self.hidden_layer_size2 = hidden_layer_size << 1\n",
    "\n",
    "        self.lstm1 = nn.LSTM(input_size, self.hidden_layer_size1)\n",
    "        self.lstm2 = nn.LSTM(self.hidden_layer_size1, self.hidden_layer_size2)\n",
    "\n",
    "        self.linear = nn.Linear(self.hidden_layer_size2, output_size)\n",
    "\n",
    "        self.hidden_cell1 = (torch.zeros(1,1,self.hidden_layer_size1),\n",
    "                            torch.zeros(1,1,self.hidden_layer_size1))\n",
    "        self.hidden_cell2 = (torch.zeros(1,1,self.hidden_layer_size2),\n",
    "                            torch.zeros(1,1,self.hidden_layer_size2))\n",
    "\n",
    "    def forward(self, input_seq):\n",
    "        lstm_out1, self.hidden_cell1 = \\\n",
    "            self.lstm1(input_seq.view(len(input_seq) ,1, -1), self.hidden_cell1)\n",
    "        lstm_out2, self.hidden_cell2 = \\\n",
    "            self.lstm2(lstm_out1.view(len(lstm_out1) ,1, -1), self.hidden_cell2)\n",
    "        predictions = self.linear(lstm_out2.view(len(input_seq), -1))\n",
    "        return predictions[-1]\n",
    "        \n",
    "    '''\n",
    "    def forward(self, input_seq):\n",
    "        lstm_out1, self.hidden_cell1 = \\\n",
    "            self.lstm1(input_seq.view(len(input_seq) ,1, -1))\n",
    "        lstm_out2, self.hidden_cell2 = \\\n",
    "            self.lstm2(lstm_out1.view(len(lstm_out1) ,1, -1))\n",
    "        predictions = self.linear(lstm_out2.view(len(input_seq), -1))\n",
    "        return predictions[-1]\n",
    "    '''"
   ]
  },
  {
   "cell_type": "markdown",
   "metadata": {},
   "source": [
    "#### 5. Train the model"
   ]
  },
  {
   "cell_type": "code",
   "execution_count": 9,
   "metadata": {},
   "outputs": [],
   "source": [
    "model = EF_LSTM(input_size=168*2, hidden_layer_size=2000, output_size=24)\n",
    "loss_function = nn.MSELoss()\n",
    "optimizer = torch.optim.Adam(model.parameters(), lr=0.001)"
   ]
  },
  {
   "cell_type": "code",
   "execution_count": 10,
   "metadata": {},
   "outputs": [],
   "source": [
    "# convert the pandas df to a pytorch tensor\n",
    "X_train_t = torch.tensor(X_train.loc[:, 'demand':'Los Angeles'].values, dtype=torch.double)"
   ]
  },
  {
   "cell_type": "code",
   "execution_count": 11,
   "metadata": {},
   "outputs": [
    {
     "data": {
      "text/plain": [
       "(2, 168, 2, 24)"
      ]
     },
     "execution_count": 11,
     "metadata": {},
     "output_type": "execute_result"
    }
   ],
   "source": [
    "seq = choose_train_data_block(X_train_t, 0, 168, 24, 1)\n",
    "data = next(seq)\n",
    "len(data), len(data[0]), len(data[0][0]), len(data[1])"
   ]
  },
  {
   "cell_type": "code",
   "execution_count": 12,
   "metadata": {},
   "outputs": [],
   "source": [
    "y = data[1]\n",
    "y = torch.tensor([y[x][0] for x in range(len(y))]).float()\n",
    "model_inputs = data[0][:]\n",
    "model_inputs = model_inputs.reshape(1,-1)[0]"
   ]
  },
  {
   "cell_type": "code",
   "execution_count": null,
   "metadata": {},
   "outputs": [],
   "source": [
    "epochs = 200\n",
    "\n",
    "inputs_block_size = 7 * 24 * 6\n",
    "outputs = 7 * 24 * 2\n",
    "\n",
    "for i in range(epochs):\n",
    "    for data in choose_train_data_block(X_train_t, len(X_train_t)-200, 168, 24, 1):\n",
    "        y = data[1]\n",
    "        y = torch.tensor([y[x][0] for x in range(len(y))]).float()\n",
    "        model_inputs = data[0][:].reshape(1,-1).float().clone().detach().requires_grad_(True)\n",
    "        optimizer.zero_grad()\n",
    "        model.hidden_cell1 = (torch.zeros(1, 1, model.hidden_layer_size1),\n",
    "                        torch.zeros(1, 1, model.hidden_layer_size1))\n",
    "        model.hidden_cell2 = (torch.zeros(1, 1, model.hidden_layer_size2),\n",
    "                        torch.zeros(1, 1, model.hidden_layer_size2))\n",
    "\n",
    "        y_pred = model(model_inputs)\n",
    "\n",
    "        single_loss = loss_function(y_pred, y)\n",
    "        single_loss.backward()\n",
    "        optimizer.step()\n",
    "\n",
    "    if i%10 == 1:\n",
    "        print(f'epoch: {i:3} loss: {single_loss.item():10.8f}')\n",
    "\n",
    "\n",
    "print(f'epoch: {i:3} loss: {single_loss.item():10.10f}')"
   ]
  },
  {
   "cell_type": "code",
   "execution_count": 53,
   "metadata": {},
   "outputs": [],
   "source": [
    "# Check out model predictions"
   ]
  },
  {
   "cell_type": "code",
   "execution_count": null,
   "metadata": {},
   "outputs": [],
   "source": []
  },
  {
   "cell_type": "code",
   "execution_count": 14,
   "metadata": {},
   "outputs": [],
   "source": [
    "# convert the pandas df to a pytorch tensor\n",
    "X_walk1_t = torch.tensor(X_walk1.loc[:, 'demand':'Los Angeles'].values, dtype=torch.double)"
   ]
  },
  {
   "cell_type": "code",
   "execution_count": 54,
   "metadata": {},
   "outputs": [
    {
     "data": {
      "text/plain": [
       "(2, 168, 2, 24)"
      ]
     },
     "execution_count": 54,
     "metadata": {},
     "output_type": "execute_result"
    }
   ],
   "source": [
    "seq = choose_train_data_block(X_walk1_t, 0, 168, 24, 1)\n",
    "data = next(seq)\n",
    "len(data), len(data[0]), len(data[0][0]), len(data[1])"
   ]
  },
  {
   "cell_type": "code",
   "execution_count": 55,
   "metadata": {
    "collapsed": true,
    "jupyter": {
     "outputs_hidden": true
    }
   },
   "outputs": [
    {
     "data": {
      "text/plain": [
       "(tensor([-2.2646e-01,  5.2610e+01, -1.6400e-01,  5.4600e+01, -1.0858e-01,\n",
       "          5.7350e+01, -9.5184e-02,  5.9050e+01, -7.2098e-02,  6.1030e+01,\n",
       "         -6.0164e-02,  6.2800e+01, -6.3564e-02,  6.3940e+01, -6.8596e-02,\n",
       "          6.5210e+01, -6.3734e-02,  6.5500e+01, -6.6148e-02,  6.5470e+01,\n",
       "         -9.0118e-02,  6.4990e+01, -5.4281e-02,  6.4520e+01, -5.4893e-02,\n",
       "          6.3260e+01, -5.0031e-02,  6.1520e+01, -1.9567e-02,  6.0300e+01,\n",
       "          2.3647e-02,  5.9440e+01, -1.1305e-02,  5.8740e+01, -9.3756e-02,\n",
       "          5.8060e+01, -1.7709e-01,  5.7360e+01, -2.2632e-01,  5.7120e+01,\n",
       "         -2.5196e-01,  5.6500e+01, -2.7392e-01,  5.6030e+01, -2.7930e-01,\n",
       "          5.5760e+01, -2.6389e-01,  5.5650e+01, -2.2228e-01,  5.5860e+01,\n",
       "         -1.5696e-01,  5.6650e+01, -1.0287e-01,  5.8010e+01, -9.2464e-02,\n",
       "          5.9260e+01, -8.4032e-02,  6.1590e+01, -6.4380e-02,  6.3730e+01,\n",
       "         -7.0466e-02,  6.4430e+01, -7.9918e-02,  6.5270e+01, -7.9034e-02,\n",
       "          6.5640e+01, -7.7776e-02,  6.5560e+01, -7.3186e-02,  6.5810e+01,\n",
       "         -6.1456e-02,  6.5670e+01, -4.5509e-02,  6.5060e+01, -4.4319e-02,\n",
       "          6.3350e+01, -2.0451e-02,  6.0850e+01,  2.0349e-02,  5.9220e+01,\n",
       "         -1.1373e-02,  5.8380e+01, -9.0186e-02,  5.7930e+01, -1.7175e-01,\n",
       "          5.7220e+01, -2.2989e-01,  5.6350e+01, -2.5754e-01,  5.5730e+01,\n",
       "         -2.7284e-01,  5.5180e+01, -2.8266e-01,  5.4560e+01, -2.7416e-01,\n",
       "          5.4160e+01, -2.2578e-01,  5.4120e+01, -1.6750e-01,  5.6590e+01,\n",
       "         -1.1875e-01,  6.0090e+01, -1.1388e-01,  6.3420e+01, -1.0606e-01,\n",
       "          6.6460e+01, -7.8286e-02,  6.9820e+01, -6.9786e-02,  7.2150e+01,\n",
       "         -6.5570e-02,  7.2660e+01, -4.8365e-02,  7.3080e+01, -3.1263e-02,\n",
       "          7.3400e+01, -3.1127e-02,  7.3540e+01, -8.3301e-04,  7.2560e+01,\n",
       "          2.4191e-02,  7.0750e+01,  3.5955e-02,  6.8580e+01,  4.8501e-02,\n",
       "          6.5810e+01,  8.1074e-02,  6.4020e+01,  4.1021e-02,  6.3140e+01,\n",
       "         -4.8229e-02,  6.2850e+01, -1.3398e-01,  6.1230e+01, -1.9929e-01,\n",
       "          6.1390e+01, -2.4016e-01,  6.0960e+01, -2.6542e-01,  6.0390e+01,\n",
       "         -2.8001e-01,  5.9930e+01, -2.6780e-01,  5.9690e+01, -2.2816e-01,\n",
       "          6.0300e+01, -1.6971e-01,  6.2720e+01, -1.1293e-01,  6.9550e+01,\n",
       "         -8.1380e-02,  7.3980e+01, -4.6359e-02,  7.8540e+01, -1.9601e-02,\n",
       "          8.1750e+01,  4.8110e-03,  8.3780e+01,  2.9529e-02,  8.4520e+01,\n",
       "          4.7617e-02,  8.3720e+01,  6.3156e-02,  8.0390e+01,  9.3722e-02,\n",
       "          7.8890e+01,  1.2925e-01,  7.8570e+01,  1.4894e-01,  7.8120e+01,\n",
       "          1.4197e-01,  7.6400e+01,  1.3129e-01,  7.3180e+01,  1.3493e-01,\n",
       "          7.0780e+01,  8.8418e-02,  6.9460e+01, -7.6331e-03,  6.8650e+01,\n",
       "         -9.5898e-02,  6.6370e+01, -1.6760e-01,  6.5530e+01, -2.2051e-01,\n",
       "          6.4540e+01, -2.5570e-01,  6.4370e+01, -2.7974e-01,  6.3280e+01,\n",
       "         -2.7991e-01,  6.2410e+01, -2.6784e-01,  6.2660e+01, -2.6219e-01,\n",
       "          6.5060e+01, -2.1969e-01,  7.1240e+01, -1.7124e-01,  7.8170e+01,\n",
       "         -1.4013e-01,  8.2860e+01, -1.0042e-01,  8.7090e+01, -5.6016e-02,\n",
       "          9.0040e+01, -1.1747e-02,  9.0680e+01,  3.8063e-02,  8.9450e+01,\n",
       "          7.9408e-02,  8.7980e+01,  1.2738e-01,  8.7350e+01,  1.7430e-01,\n",
       "          8.6870e+01,  2.1242e-01,  8.6280e+01,  2.2527e-01,  8.3990e+01,\n",
       "          1.9827e-01,  8.0540e+01,  1.8593e-01,  7.6480e+01,  1.3881e-01,\n",
       "          7.5070e+01,  4.1565e-02,  7.2810e+01, -6.0980e-02,  7.1010e+01,\n",
       "         -1.4207e-01,  7.0440e+01, -2.0120e-01,  6.8520e+01, -2.4363e-01,\n",
       "          6.7260e+01, -2.7154e-01,  6.5350e+01, -2.8317e-01,  6.4310e+01,\n",
       "         -2.8691e-01,  6.3810e+01, -2.9946e-01,  6.5650e+01, -2.6124e-01,\n",
       "          7.0560e+01, -2.2081e-01,  7.4740e+01, -1.7998e-01,  7.9090e+01,\n",
       "         -1.3007e-01,  8.3390e+01, -7.2880e-02,  8.5120e+01, -8.9251e-03,\n",
       "          8.6520e+01,  5.8022e-02,  8.6020e+01,  1.0566e-01,  8.4610e+01,\n",
       "          1.6641e-01,  8.4090e+01,  2.2030e-01,  8.1800e+01,  2.6308e-01,\n",
       "          7.8830e+01,  2.7188e-01,  7.5360e+01,  2.3901e-01,  7.2160e+01,\n",
       "          2.2360e-01,  6.9170e+01,  1.5876e-01,  6.7260e+01,  4.2075e-02,\n",
       "          6.5930e+01, -7.3628e-02,  6.4490e+01, -1.5683e-01,  6.3480e+01,\n",
       "         -2.1211e-01,  6.2660e+01, -2.4451e-01,  6.1970e+01, -2.5920e-01,\n",
       "          6.1350e+01, -2.4237e-01,  6.1000e+01, -1.9667e-01,  6.0820e+01,\n",
       "         -1.3510e-01,  6.1740e+01, -6.7032e-02,  6.3880e+01, -2.4497e-02,\n",
       "          6.6240e+01,  1.5521e-02,  7.1640e+01,  5.9416e-02,  7.6540e+01,\n",
       "          1.1174e-01,  8.0350e+01,  1.5904e-01,  8.1480e+01,  2.2717e-01,\n",
       "          8.1520e+01,  2.8613e-01,  8.0270e+01,  3.4791e-01,  7.9240e+01,\n",
       "          4.0139e-01,  7.7630e+01,  4.2390e-01,  7.4360e+01,  4.0448e-01,\n",
       "          7.1870e+01,  3.6324e-01,  6.9690e+01,  3.3645e-01,  6.8250e+01,\n",
       "          2.5478e-01,  6.5560e+01,  1.1079e-01,  6.4280e+01, -1.5963e-02,\n",
       "          6.2280e+01, -9.9774e-02,  6.1350e+01, -1.5802e-01,  6.0760e+01,\n",
       "         -1.8780e-01,  6.0280e+01, -1.9973e-01,  6.0390e+01, -2.0330e-01,\n",
       "          6.0530e+01], dtype=torch.float64),\n",
       " tensor([-1.6070e-01, -1.0351e-01, -3.9491e-02, -1.8700e-04,  5.9586e-02,\n",
       "          1.1001e-01,  1.4843e-01,  1.7495e-01,  2.3248e-01,  2.9157e-01,\n",
       "          3.5284e-01,  4.0394e-01,  4.1893e-01,  4.0170e-01,  3.5243e-01,\n",
       "          3.2231e-01,  2.3091e-01,  9.8108e-02, -2.1505e-02, -1.0756e-01,\n",
       "         -1.6594e-01, -2.0222e-01, -2.2119e-01, -2.1327e-01]))"
      ]
     },
     "execution_count": 55,
     "metadata": {},
     "output_type": "execute_result"
    }
   ],
   "source": [
    "y = data[1]\n",
    "y = torch.tensor([y[x][0] for x in range(len(y))]).float()\n",
    "model_inputs = data[0][:]\n",
    "model_inputs = model_inputs.reshape(1,-1)[0]\n",
    "model_inputs, y"
   ]
  },
  {
   "cell_type": "code",
   "execution_count": 56,
   "metadata": {},
   "outputs": [],
   "source": [
    "model_inputs = data[0][:].reshape(1,-1).float().clone().detach().requires_grad_(True)\n",
    "y_pred = model(model_inputs)"
   ]
  },
  {
   "cell_type": "code",
   "execution_count": 57,
   "metadata": {},
   "outputs": [],
   "source": [
    "y_full_scale_pred = scaler.inverse_transform(y_pred.detach().numpy().reshape(-1,1))\n",
    "y_full_scale = scaler.inverse_transform(y.reshape(-1,1))"
   ]
  },
  {
   "cell_type": "code",
   "execution_count": 59,
   "metadata": {},
   "outputs": [
    {
     "data": {
      "text/plain": [
       "[<matplotlib.lines.Line2D at 0x7fa8d0dfec90>]"
      ]
     },
     "execution_count": 59,
     "metadata": {},
     "output_type": "execute_result"
    },
    {
     "data": {
      "image/png": "[encoded data removed]",
      "text/plain": [
       "<Figure size 720x576 with 1 Axes>"
      ]
     },
     "metadata": {
      "needs_background": "light"
     },
     "output_type": "display_data"
    }
   ],
   "source": [
    "fig = plt.figure(figsize=[10,8])\n",
    "\n",
    "plt.ylim(0, 50000)\n",
    "plt.plot(y_full_scale)\n",
    "plt.plot(y_full_scale_pred)"
   ]
  },
  {
   "cell_type": "code",
   "execution_count": null,
   "metadata": {},
   "outputs": [],
   "source": []
  }
 ],
 "metadata": {
  "kernelspec": {
   "display_name": "Python 3",
   "language": "python",
   "name": "python3"
  },
  "language_info": {
   "codemirror_mode": {
    "name": "ipython",
    "version": 3
   },
   "file_extension": ".py",
   "mimetype": "text/x-python",
   "name": "python",
   "nbconvert_exporter": "python",
   "pygments_lexer": "ipython3",
   "version": "3.7.4"
  }
 },
 "nbformat": 4,
 "nbformat_minor": 4
}
