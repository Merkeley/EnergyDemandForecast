{
 "cells": [
  {
   "cell_type": "code",
   "execution_count": 49,
   "metadata": {},
   "outputs": [],
   "source": [
    "import os\n",
    "import sys\n",
    "\n",
    "import requests\n",
    "from census import Census\n",
    "from us import states\n",
    "\n",
    "import pandas as pd\n",
    "import numpy as np\n",
    "\n",
    "import datetime as dt\n",
    "from dateutil import parser"
   ]
  },
  {
   "cell_type": "code",
   "execution_count": 7,
   "metadata": {},
   "outputs": [],
   "source": [
    "CENSUS_API_KEY = os.environ.get('CensusDotGovAPIKey')  "
   ]
  },
  {
   "cell_type": "code",
   "execution_count": 17,
   "metadata": {},
   "outputs": [],
   "source": [
    "c = Census(CENSUS_API_KEY, year=2018)"
   ]
  },
  {
   "cell_type": "code",
   "execution_count": 28,
   "metadata": {},
   "outputs": [
    {
     "name": "stdout",
     "output_type": "stream",
     "text": [
      "[{'NAME': 'California', 'B25001_001E': 13845790.0, 'state': '06'}]\n"
     ]
    }
   ],
   "source": [
    "field_name = 'B25001_001E'\n",
    "print(c.acs5.state(('NAME', field_name), states.CA.fips))"
   ]
  },
  {
   "cell_type": "code",
   "execution_count": 29,
   "metadata": {},
   "outputs": [],
   "source": [
    "data_years = [2018, 2017, 2016, 2015]\n",
    "pop_data = []\n",
    "\n",
    "for year in data_years :\n",
    "    c = Census(CENSUS_API_KEY, year=year)\n",
    "    pop_data.append((year, \\\n",
    "        c.acs5.state(('NAME', field_name), states.CA.fips)[0][field_name]))"
   ]
  },
  {
   "cell_type": "code",
   "execution_count": 30,
   "metadata": {},
   "outputs": [
    {
     "data": {
      "text/plain": [
       "[(2018, 14084824.0),\n",
       " (2017, 13996299.0),\n",
       " (2016, 13911737.0),\n",
       " (2015, 13845790.0)]"
      ]
     },
     "execution_count": 30,
     "metadata": {},
     "output_type": "execute_result"
    }
   ],
   "source": [
    "pop_data"
   ]
  },
  {
   "cell_type": "code",
   "execution_count": 38,
   "metadata": {},
   "outputs": [],
   "source": [
    "pop_dict = dict(pop_data)\n",
    "\n",
    "# Add entries for 2019 and 2020 by extrapolating\n",
    "pop_dict[2019] = 2 * pop_dict[2018] - pop_dict[2017]\n",
    "pop_dict[2020] = pop_dict[2018] - pop_dict[2017] + pop_dict[2019]"
   ]
  },
  {
   "cell_type": "code",
   "execution_count": 39,
   "metadata": {},
   "outputs": [
    {
     "data": {
      "text/plain": [
       "{2018: 14084824.0,\n",
       " 2017: 13996299.0,\n",
       " 2016: 13911737.0,\n",
       " 2015: 13845790.0,\n",
       " 2019: 14173349.0,\n",
       " 2020: 14261874.0}"
      ]
     },
     "execution_count": 39,
     "metadata": {},
     "output_type": "execute_result"
    }
   ],
   "source": [
    "pop_dict"
   ]
  },
  {
   "cell_type": "code",
   "execution_count": 35,
   "metadata": {},
   "outputs": [],
   "source": [
    "big_df = pd.read_csv('../src/big_demand_temp.csv')"
   ]
  },
  {
   "cell_type": "code",
   "execution_count": 53,
   "metadata": {},
   "outputs": [],
   "source": [
    "pop_list = []\n",
    "\n",
    "for date in big_df['time'] :\n",
    "    dt_date = parser.isoparse(date)\n",
    "    pop_list.append(dt_date.year)"
   ]
  },
  {
   "cell_type": "code",
   "execution_count": 56,
   "metadata": {},
   "outputs": [
    {
     "data": {
      "text/plain": [
       "(41114, 2015, 2020)"
      ]
     },
     "execution_count": 56,
     "metadata": {},
     "output_type": "execute_result"
    }
   ],
   "source": [
    "len(pop_list), min(pop_list), max(pop_list)"
   ]
  },
  {
   "cell_type": "code",
   "execution_count": 50,
   "metadata": {},
   "outputs": [],
   "source": [
    "dt_date = parser.isoparse(date)"
   ]
  },
  {
   "cell_type": "code",
   "execution_count": 51,
   "metadata": {},
   "outputs": [
    {
     "data": {
      "text/plain": [
       "datetime.datetime(2020, 3, 9, 14, 0, tzinfo=tzutc())"
      ]
     },
     "execution_count": 51,
     "metadata": {},
     "output_type": "execute_result"
    }
   ],
   "source": [
    "dt_date"
   ]
  },
  {
   "cell_type": "code",
   "execution_count": 52,
   "metadata": {},
   "outputs": [
    {
     "data": {
      "text/plain": [
       "2020"
      ]
     },
     "execution_count": 52,
     "metadata": {},
     "output_type": "execute_result"
    }
   ],
   "source": [
    "dt_date.year"
   ]
  },
  {
   "cell_type": "code",
   "execution_count": null,
   "metadata": {},
   "outputs": [],
   "source": []
  }
 ],
 "metadata": {
  "kernelspec": {
   "display_name": "Python 3",
   "language": "python",
   "name": "python3"
  },
  "language_info": {
   "codemirror_mode": {
    "name": "ipython",
    "version": 3
   },
   "file_extension": ".py",
   "mimetype": "text/x-python",
   "name": "python",
   "nbconvert_exporter": "python",
   "pygments_lexer": "ipython3",
   "version": "3.7.4"
  }
 },
 "nbformat": 4,
 "nbformat_minor": 4
}
