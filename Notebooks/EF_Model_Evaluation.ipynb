{
 "cells": [
  {
   "cell_type": "markdown",
   "metadata": {},
   "source": [
    "# Electricity Demand Forecasting\n",
    "\n",
    "## Model Evaluation\n",
    "\n",
    "For the final model evaluation we choose the best prophet model and evaluate\n",
    "the model with out of sample data.  Because some of the exogeneous data is\n",
    "weather related and we would not know the exact weather prior to the day we\n",
    "will add some random variation to the data before using it for input to the\n",
    "prediction portion of the model.\n",
    "\n",
    "## <table id='Table_Of_Contents'>Table Of Contents</table>\n",
    "\n",
    "1. [Import Modules](#import)<br>\n",
    "2. [Read Data File](#read_data)<br>\n",
    "    1. [Clean Data Frame](#clean_data)<br>\n",
    "    2. [Data Split](#data_split)<br>\n",
    "\n",
    "\n"
   ]
  },
  {
   "cell_type": "code",
   "execution_count": 43,
   "metadata": {},
   "outputs": [],
   "source": [
    "import os\n",
    "import sys\n",
    "\n",
    "import numpy as np\n",
    "import pandas as pd\n",
    "\n",
    "import re\n",
    "\n",
    "import json\n",
    "import datetime\n",
    "\n",
    "\n",
    "from statsmodels.graphics.tsaplots import plot_acf,plot_pacf \n",
    "from statsmodels.tsa.seasonal import seasonal_decompose\n",
    "\n",
    "from sklearn.preprocessing import StandardScaler\n",
    "\n",
    "from sklearn.metrics import mean_squared_error\n",
    "from statsmodels.tools.eval_measures import rmse\n",
    "\n",
    "import pickle\n",
    "import warnings\n",
    "\n",
    "from dateutil import parser\n",
    "import dateutil\n",
    "\n",
    "from fbprophet import Prophet\n",
    "\n",
    "import matplotlib.pyplot as plt\n",
    "\n",
    "from statsmodels.tsa.statespace.sarimax import SARIMAX\n",
    "from statsmodels.tsa.arima.model import ARIMA\n",
    "import statsmodels.tsa.statespace.mlemodel"
   ]
  },
  {
   "cell_type": "code",
   "execution_count": 44,
   "metadata": {},
   "outputs": [],
   "source": [
    "# Read in the training and test data sets\n",
    "X_train = pd.read_csv('../data/big_demand_temp_train.csv', index_col=0)\n",
    "X_val = pd.read_csv('../data/big_demand_temp_validation.csv', index_col=0)\n",
    "\n",
    "X_train.index = pd.DatetimeIndex(X_train.index)\n",
    "X_val.index = pd.DatetimeIndex(X_val.index)"
   ]
  },
  {
   "cell_type": "code",
   "execution_count": 45,
   "metadata": {},
   "outputs": [
    {
     "data": {
      "text/html": [
       "<div>\n",
       "<style scoped>\n",
       "    .dataframe tbody tr th:only-of-type {\n",
       "        vertical-align: middle;\n",
       "    }\n",
       "\n",
       "    .dataframe tbody tr th {\n",
       "        vertical-align: top;\n",
       "    }\n",
       "\n",
       "    .dataframe thead th {\n",
       "        text-align: right;\n",
       "    }\n",
       "</style>\n",
       "<table border=\"1\" class=\"dataframe\">\n",
       "  <thead>\n",
       "    <tr style=\"text-align: right;\">\n",
       "      <th></th>\n",
       "      <th>demand</th>\n",
       "      <th>Los Angeles</th>\n",
       "      <th>San Diego</th>\n",
       "      <th>San Jose</th>\n",
       "      <th>San Francisco</th>\n",
       "      <th>Sacramento</th>\n",
       "      <th>Fresno</th>\n",
       "      <th>CA_pop</th>\n",
       "      <th>Mon</th>\n",
       "      <th>Tue</th>\n",
       "      <th>Wed</th>\n",
       "      <th>Thur</th>\n",
       "      <th>Fri</th>\n",
       "      <th>Sat</th>\n",
       "      <th>Sun</th>\n",
       "      <th>DOW</th>\n",
       "    </tr>\n",
       "  </thead>\n",
       "  <tbody>\n",
       "    <tr>\n",
       "      <th>2019-03-31 19:00:00+00:00</th>\n",
       "      <td>21782</td>\n",
       "      <td>78.14</td>\n",
       "      <td>76.39</td>\n",
       "      <td>66.93</td>\n",
       "      <td>60.40</td>\n",
       "      <td>61.51</td>\n",
       "      <td>63.82</td>\n",
       "      <td>14173349.0</td>\n",
       "      <td>0</td>\n",
       "      <td>0</td>\n",
       "      <td>0</td>\n",
       "      <td>0</td>\n",
       "      <td>0</td>\n",
       "      <td>0</td>\n",
       "      <td>1</td>\n",
       "      <td>6</td>\n",
       "    </tr>\n",
       "    <tr>\n",
       "      <th>2019-03-31 20:00:00+00:00</th>\n",
       "      <td>21851</td>\n",
       "      <td>81.11</td>\n",
       "      <td>79.76</td>\n",
       "      <td>69.05</td>\n",
       "      <td>62.56</td>\n",
       "      <td>64.24</td>\n",
       "      <td>67.47</td>\n",
       "      <td>14173349.0</td>\n",
       "      <td>0</td>\n",
       "      <td>0</td>\n",
       "      <td>0</td>\n",
       "      <td>0</td>\n",
       "      <td>0</td>\n",
       "      <td>0</td>\n",
       "      <td>1</td>\n",
       "      <td>6</td>\n",
       "    </tr>\n",
       "    <tr>\n",
       "      <th>2019-03-31 21:00:00+00:00</th>\n",
       "      <td>21960</td>\n",
       "      <td>81.93</td>\n",
       "      <td>78.97</td>\n",
       "      <td>72.43</td>\n",
       "      <td>66.71</td>\n",
       "      <td>67.20</td>\n",
       "      <td>70.13</td>\n",
       "      <td>14173349.0</td>\n",
       "      <td>0</td>\n",
       "      <td>0</td>\n",
       "      <td>0</td>\n",
       "      <td>0</td>\n",
       "      <td>0</td>\n",
       "      <td>0</td>\n",
       "      <td>1</td>\n",
       "      <td>6</td>\n",
       "    </tr>\n",
       "    <tr>\n",
       "      <th>2019-03-31 22:00:00+00:00</th>\n",
       "      <td>22742</td>\n",
       "      <td>82.54</td>\n",
       "      <td>77.68</td>\n",
       "      <td>74.24</td>\n",
       "      <td>67.60</td>\n",
       "      <td>70.43</td>\n",
       "      <td>72.52</td>\n",
       "      <td>14173349.0</td>\n",
       "      <td>0</td>\n",
       "      <td>0</td>\n",
       "      <td>0</td>\n",
       "      <td>0</td>\n",
       "      <td>0</td>\n",
       "      <td>0</td>\n",
       "      <td>1</td>\n",
       "      <td>6</td>\n",
       "    </tr>\n",
       "    <tr>\n",
       "      <th>2019-03-31 23:00:00+00:00</th>\n",
       "      <td>23027</td>\n",
       "      <td>82.41</td>\n",
       "      <td>76.83</td>\n",
       "      <td>74.12</td>\n",
       "      <td>68.53</td>\n",
       "      <td>72.14</td>\n",
       "      <td>74.41</td>\n",
       "      <td>14173349.0</td>\n",
       "      <td>0</td>\n",
       "      <td>0</td>\n",
       "      <td>0</td>\n",
       "      <td>0</td>\n",
       "      <td>0</td>\n",
       "      <td>0</td>\n",
       "      <td>1</td>\n",
       "      <td>6</td>\n",
       "    </tr>\n",
       "  </tbody>\n",
       "</table>\n",
       "</div>"
      ],
      "text/plain": [
       "                           demand  Los Angeles  San Diego  San Jose  \\\n",
       "2019-03-31 19:00:00+00:00   21782        78.14      76.39     66.93   \n",
       "2019-03-31 20:00:00+00:00   21851        81.11      79.76     69.05   \n",
       "2019-03-31 21:00:00+00:00   21960        81.93      78.97     72.43   \n",
       "2019-03-31 22:00:00+00:00   22742        82.54      77.68     74.24   \n",
       "2019-03-31 23:00:00+00:00   23027        82.41      76.83     74.12   \n",
       "\n",
       "                           San Francisco  Sacramento  Fresno      CA_pop  Mon  \\\n",
       "2019-03-31 19:00:00+00:00          60.40       61.51   63.82  14173349.0    0   \n",
       "2019-03-31 20:00:00+00:00          62.56       64.24   67.47  14173349.0    0   \n",
       "2019-03-31 21:00:00+00:00          66.71       67.20   70.13  14173349.0    0   \n",
       "2019-03-31 22:00:00+00:00          67.60       70.43   72.52  14173349.0    0   \n",
       "2019-03-31 23:00:00+00:00          68.53       72.14   74.41  14173349.0    0   \n",
       "\n",
       "                           Tue  Wed  Thur  Fri  Sat  Sun  DOW  \n",
       "2019-03-31 19:00:00+00:00    0    0     0    0    0    1    6  \n",
       "2019-03-31 20:00:00+00:00    0    0     0    0    0    1    6  \n",
       "2019-03-31 21:00:00+00:00    0    0     0    0    0    1    6  \n",
       "2019-03-31 22:00:00+00:00    0    0     0    0    0    1    6  \n",
       "2019-03-31 23:00:00+00:00    0    0     0    0    0    1    6  "
      ]
     },
     "execution_count": 45,
     "metadata": {},
     "output_type": "execute_result"
    }
   ],
   "source": [
    "X_train.tail()"
   ]
  },
  {
   "cell_type": "code",
   "execution_count": 46,
   "metadata": {},
   "outputs": [
    {
     "data": {
      "text/html": [
       "<div>\n",
       "<style scoped>\n",
       "    .dataframe tbody tr th:only-of-type {\n",
       "        vertical-align: middle;\n",
       "    }\n",
       "\n",
       "    .dataframe tbody tr th {\n",
       "        vertical-align: top;\n",
       "    }\n",
       "\n",
       "    .dataframe thead th {\n",
       "        text-align: right;\n",
       "    }\n",
       "</style>\n",
       "<table border=\"1\" class=\"dataframe\">\n",
       "  <thead>\n",
       "    <tr style=\"text-align: right;\">\n",
       "      <th></th>\n",
       "      <th>demand</th>\n",
       "      <th>Los Angeles</th>\n",
       "      <th>San Diego</th>\n",
       "      <th>San Jose</th>\n",
       "      <th>San Francisco</th>\n",
       "      <th>Sacramento</th>\n",
       "      <th>Fresno</th>\n",
       "      <th>CA_pop</th>\n",
       "      <th>Mon</th>\n",
       "      <th>Tue</th>\n",
       "      <th>Wed</th>\n",
       "      <th>Thur</th>\n",
       "      <th>Fri</th>\n",
       "      <th>Sat</th>\n",
       "      <th>Sun</th>\n",
       "      <th>DOW</th>\n",
       "    </tr>\n",
       "  </thead>\n",
       "  <tbody>\n",
       "    <tr>\n",
       "      <th>2019-04-01 00:00:00+00:00</th>\n",
       "      <td>24233</td>\n",
       "      <td>81.03</td>\n",
       "      <td>76.26</td>\n",
       "      <td>73.87</td>\n",
       "      <td>65.30</td>\n",
       "      <td>73.42</td>\n",
       "      <td>75.23</td>\n",
       "      <td>14173349.0</td>\n",
       "      <td>1</td>\n",
       "      <td>0</td>\n",
       "      <td>0</td>\n",
       "      <td>0</td>\n",
       "      <td>0</td>\n",
       "      <td>0</td>\n",
       "      <td>0</td>\n",
       "      <td>0</td>\n",
       "    </tr>\n",
       "    <tr>\n",
       "      <th>2019-04-01 01:00:00+00:00</th>\n",
       "      <td>25377</td>\n",
       "      <td>77.71</td>\n",
       "      <td>73.92</td>\n",
       "      <td>71.25</td>\n",
       "      <td>62.63</td>\n",
       "      <td>73.58</td>\n",
       "      <td>74.98</td>\n",
       "      <td>14173349.0</td>\n",
       "      <td>1</td>\n",
       "      <td>0</td>\n",
       "      <td>0</td>\n",
       "      <td>0</td>\n",
       "      <td>0</td>\n",
       "      <td>0</td>\n",
       "      <td>0</td>\n",
       "      <td>0</td>\n",
       "    </tr>\n",
       "    <tr>\n",
       "      <th>2019-04-01 02:00:00+00:00</th>\n",
       "      <td>25263</td>\n",
       "      <td>74.85</td>\n",
       "      <td>71.90</td>\n",
       "      <td>68.08</td>\n",
       "      <td>60.05</td>\n",
       "      <td>73.29</td>\n",
       "      <td>73.82</td>\n",
       "      <td>14173349.0</td>\n",
       "      <td>1</td>\n",
       "      <td>0</td>\n",
       "      <td>0</td>\n",
       "      <td>0</td>\n",
       "      <td>0</td>\n",
       "      <td>0</td>\n",
       "      <td>0</td>\n",
       "      <td>0</td>\n",
       "    </tr>\n",
       "    <tr>\n",
       "      <th>2019-04-01 03:00:00+00:00</th>\n",
       "      <td>26855</td>\n",
       "      <td>71.74</td>\n",
       "      <td>70.20</td>\n",
       "      <td>64.87</td>\n",
       "      <td>58.02</td>\n",
       "      <td>64.46</td>\n",
       "      <td>71.32</td>\n",
       "      <td>14173349.0</td>\n",
       "      <td>1</td>\n",
       "      <td>0</td>\n",
       "      <td>0</td>\n",
       "      <td>0</td>\n",
       "      <td>0</td>\n",
       "      <td>0</td>\n",
       "      <td>0</td>\n",
       "      <td>0</td>\n",
       "    </tr>\n",
       "    <tr>\n",
       "      <th>2019-04-01 04:00:00+00:00</th>\n",
       "      <td>26907</td>\n",
       "      <td>70.26</td>\n",
       "      <td>69.32</td>\n",
       "      <td>61.56</td>\n",
       "      <td>57.41</td>\n",
       "      <td>67.34</td>\n",
       "      <td>67.98</td>\n",
       "      <td>14173349.0</td>\n",
       "      <td>1</td>\n",
       "      <td>0</td>\n",
       "      <td>0</td>\n",
       "      <td>0</td>\n",
       "      <td>0</td>\n",
       "      <td>0</td>\n",
       "      <td>0</td>\n",
       "      <td>0</td>\n",
       "    </tr>\n",
       "  </tbody>\n",
       "</table>\n",
       "</div>"
      ],
      "text/plain": [
       "                           demand  Los Angeles  San Diego  San Jose  \\\n",
       "2019-04-01 00:00:00+00:00   24233        81.03      76.26     73.87   \n",
       "2019-04-01 01:00:00+00:00   25377        77.71      73.92     71.25   \n",
       "2019-04-01 02:00:00+00:00   25263        74.85      71.90     68.08   \n",
       "2019-04-01 03:00:00+00:00   26855        71.74      70.20     64.87   \n",
       "2019-04-01 04:00:00+00:00   26907        70.26      69.32     61.56   \n",
       "\n",
       "                           San Francisco  Sacramento  Fresno      CA_pop  Mon  \\\n",
       "2019-04-01 00:00:00+00:00          65.30       73.42   75.23  14173349.0    1   \n",
       "2019-04-01 01:00:00+00:00          62.63       73.58   74.98  14173349.0    1   \n",
       "2019-04-01 02:00:00+00:00          60.05       73.29   73.82  14173349.0    1   \n",
       "2019-04-01 03:00:00+00:00          58.02       64.46   71.32  14173349.0    1   \n",
       "2019-04-01 04:00:00+00:00          57.41       67.34   67.98  14173349.0    1   \n",
       "\n",
       "                           Tue  Wed  Thur  Fri  Sat  Sun  DOW  \n",
       "2019-04-01 00:00:00+00:00    0    0     0    0    0    0    0  \n",
       "2019-04-01 01:00:00+00:00    0    0     0    0    0    0    0  \n",
       "2019-04-01 02:00:00+00:00    0    0     0    0    0    0    0  \n",
       "2019-04-01 03:00:00+00:00    0    0     0    0    0    0    0  \n",
       "2019-04-01 04:00:00+00:00    0    0     0    0    0    0    0  "
      ]
     },
     "execution_count": 46,
     "metadata": {},
     "output_type": "execute_result"
    }
   ],
   "source": [
    "X_val.head()"
   ]
  },
  {
   "cell_type": "markdown",
   "metadata": {},
   "source": [
    "Align the data frame to the start of a week"
   ]
  },
  {
   "cell_type": "code",
   "execution_count": 47,
   "metadata": {},
   "outputs": [],
   "source": [
    "def agg_weekly(data_frame) :\n",
    "    # Aggregate data on a weekly basis\n",
    "    current_day = data_frame.index[0].date()\n",
    "    row = data_frame.index[0]\n",
    "    current_dow = data_frame.loc[row, 'DOW']\n",
    "    week_demand = 0.0\n",
    "    X_by_week = pd.DataFrame([], index=[current_day], \\\n",
    "        columns=['week_demand', 'CA_pop', 'la_high', 'sd_high', 'sj_high', 'sf_high',\\\n",
    "                 'sac_high', 'f_high', 'DOW' ])\n",
    "\n",
    "    la_high = 0\n",
    "    sd_high = 0\n",
    "    f_high = 0\n",
    "    sj_high = 0\n",
    "    sf_high = 0\n",
    "    sac_high = 0\n",
    "    pop=0\n",
    "    found_tue = False\n",
    "\n",
    "    print(current_dow)\n",
    "    for row in data_frame.index :\n",
    "        next_dow = data_frame.loc[row].DOW\n",
    "        if next_dow == 0 and found_tue == False :\n",
    "            current_day = row.date()\n",
    "\n",
    "        if next_dow == 1 :\n",
    "            found_tue = 1\n",
    "\n",
    "        if next_dow == 0 and found_tue :\n",
    "            X_by_week.loc[current_day] = [week_demand, pop, \\\n",
    "                la_high, sd_high, sj_high, sf_high, sac_high, f_high, current_day.weekday()]\n",
    "            '''\n",
    "            {'day_demand' :day_demand, 'la_high': la_high,\\\n",
    "                'sd_high' : sd_high, 'f_high' : f_high, 'DOW' : current_day.weekday()}\n",
    "            '''\n",
    "            current_dow = next_dow\n",
    "            found_tue = False\n",
    "            la_high = 0\n",
    "            sd_high = 0\n",
    "            f_high = 0\n",
    "            sj_high = 0\n",
    "            sf_high = 0\n",
    "            sac_high = 0\n",
    "            pop=0\n",
    "            week_demand = 0\n",
    "        else :\n",
    "            week_demand += data_frame.loc[row, 'demand']\n",
    "            pop = data_frame.loc[row, 'CA_pop']\n",
    "            if data_frame.loc[row, 'Los Angeles'] > la_high :\n",
    "                la_high = data_frame.loc[row, 'Los Angeles']\n",
    "            if data_frame.loc[row, 'San Diego'] > sd_high :\n",
    "                sd_high = data_frame.loc[row, 'San Diego']\n",
    "            if data_frame.loc[row, 'Fresno'] > f_high :\n",
    "                f_high = data_frame.loc[row, 'Fresno']\n",
    "            if data_frame.loc[row, 'San Francisco'] > sf_high :\n",
    "                sf_high = data_frame.loc[row, 'San Francisco']\n",
    "            if data_frame.loc[row, 'San Jose'] > sj_high :\n",
    "                sj_high = data_frame.loc[row, 'San Jose']\n",
    "            if data_frame.loc[row, 'Sacramento'] > sac_high :\n",
    "                sac_high = data_frame.loc[row, 'Sacramento']\n",
    "                \n",
    "    X_by_week.loc[current_day] = [week_demand, pop, \\\n",
    "        la_high, sd_high, sj_high, sf_high, sac_high, f_high, current_day.weekday()]\n",
    "\n",
    "                \n",
    "    return X_by_week"
   ]
  },
  {
   "cell_type": "code",
   "execution_count": 48,
   "metadata": {},
   "outputs": [],
   "source": [
    "# Aggregate data on a daily basis\n",
    "def agg_daily(data_frame):\n",
    "    current_day = data_frame.index[0].date()\n",
    "    day_demand = 0.0\n",
    "    X_by_day = pd.DataFrame([], index=[current_day], \\\n",
    "        columns=['day_demand', 'CA_pop', 'la_high', 'sd_high', 'sj_high', 'sf_high',\\\n",
    "                 'sac_high', 'f_high', 'DOW' ])\n",
    "    la_high = 0\n",
    "    sd_high = 0\n",
    "    f_high = 0\n",
    "    sj_high = 0\n",
    "    sf_high = 0\n",
    "    sac_high = 0\n",
    "    pop = 0\n",
    "\n",
    "    for row in data_frame.index :\n",
    "        next_day = row.date()\n",
    "        if next_day != current_day :\n",
    "            X_by_day.loc[current_day] = [day_demand, pop, la_high, sd_high, sj_high, sf_high, \\\n",
    "                        sac_high, f_high, current_day.weekday()]\n",
    "            '''\n",
    "            {'day_demand' :day_demand, 'la_high': la_high,\\\n",
    "                'sd_high' : sd_high, 'f_high' : f_high, 'DOW' : current_day.weekday()}\n",
    "            '''\n",
    "            current_day = next_day\n",
    "            la_high = 0\n",
    "            sd_high = 0\n",
    "            sj_high = 0\n",
    "            sf_high = 0\n",
    "            sac_high = 0\n",
    "            f_high = 0\n",
    "            day_demand = 0\n",
    "            pop=0\n",
    "        else :\n",
    "            day_demand += data_frame.loc[row, 'demand']\n",
    "            pop = data_frame.loc[row, 'CA_pop']\n",
    "            if data_frame.loc[row, 'Los Angeles'] > la_high :\n",
    "                la_high = data_frame.loc[row, 'Los Angeles']\n",
    "            if data_frame.loc[row, 'San Diego'] > sd_high :\n",
    "                sd_high = data_frame.loc[row, 'San Diego']\n",
    "            if data_frame.loc[row, 'Fresno'] > f_high :\n",
    "                f_high = data_frame.loc[row, 'Fresno']\n",
    "            if data_frame.loc[row, 'San Jose'] > sj_high :\n",
    "                sj_high = data_frame.loc[row, 'San Jose']\n",
    "            if data_frame.loc[row, 'San Francisco'] > sf_high :\n",
    "                sf_high = data_frame.loc[row, 'San Francisco']\n",
    "            if data_frame.loc[row, 'Sacramento'] > sac_high :\n",
    "                sac_high = data_frame.loc[row, 'Sacramento']\n",
    "    \n",
    "    X_by_day.loc[current_day] = [day_demand, pop, la_high, sd_high, sj_high, sf_high, \\\n",
    "                sac_high, f_high, current_day.weekday()]\n",
    "    \n",
    "    return X_by_day\n",
    "\n",
    "    "
   ]
  },
  {
   "cell_type": "code",
   "execution_count": 49,
   "metadata": {},
   "outputs": [],
   "source": [
    "# drop all the rows before the start of the fisrt Monday\n",
    "def find_week_start(data) :\n",
    "    rows_to_drop = []\n",
    "    for row in data.index :\n",
    "        if data.loc[row, 'DOW'] != 0:\n",
    "            rows_to_drop.append(row)\n",
    "        else:\n",
    "            break\n",
    "            \n",
    "    return rows_to_drop"
   ]
  },
  {
   "cell_type": "code",
   "execution_count": 50,
   "metadata": {},
   "outputs": [],
   "source": [
    "X_val_daily = agg_daily(X_val)\n",
    "X_train_daily = agg_daily(X_train)\n"
   ]
  },
  {
   "cell_type": "code",
   "execution_count": 51,
   "metadata": {},
   "outputs": [
    {
     "data": {
      "text/html": [
       "<div>\n",
       "<style scoped>\n",
       "    .dataframe tbody tr th:only-of-type {\n",
       "        vertical-align: middle;\n",
       "    }\n",
       "\n",
       "    .dataframe tbody tr th {\n",
       "        vertical-align: top;\n",
       "    }\n",
       "\n",
       "    .dataframe thead th {\n",
       "        text-align: right;\n",
       "    }\n",
       "</style>\n",
       "<table border=\"1\" class=\"dataframe\">\n",
       "  <thead>\n",
       "    <tr style=\"text-align: right;\">\n",
       "      <th></th>\n",
       "      <th>day_demand</th>\n",
       "      <th>CA_pop</th>\n",
       "      <th>la_high</th>\n",
       "      <th>sd_high</th>\n",
       "      <th>sj_high</th>\n",
       "      <th>sf_high</th>\n",
       "      <th>sac_high</th>\n",
       "      <th>f_high</th>\n",
       "      <th>DOW</th>\n",
       "    </tr>\n",
       "  </thead>\n",
       "  <tbody>\n",
       "    <tr>\n",
       "      <th>2019-03-27</th>\n",
       "      <td>603317</td>\n",
       "      <td>1.41733e+07</td>\n",
       "      <td>69.71</td>\n",
       "      <td>66.64</td>\n",
       "      <td>67.03</td>\n",
       "      <td>61.34</td>\n",
       "      <td>65.39</td>\n",
       "      <td>72.08</td>\n",
       "      <td>2</td>\n",
       "    </tr>\n",
       "    <tr>\n",
       "      <th>2019-03-28</th>\n",
       "      <td>612332</td>\n",
       "      <td>1.41733e+07</td>\n",
       "      <td>67.49</td>\n",
       "      <td>66.66</td>\n",
       "      <td>64.57</td>\n",
       "      <td>61.27</td>\n",
       "      <td>61.21</td>\n",
       "      <td>68.11</td>\n",
       "      <td>3</td>\n",
       "    </tr>\n",
       "    <tr>\n",
       "      <th>2019-03-29</th>\n",
       "      <td>609430</td>\n",
       "      <td>1.41733e+07</td>\n",
       "      <td>70.69</td>\n",
       "      <td>66.45</td>\n",
       "      <td>62.49</td>\n",
       "      <td>58.67</td>\n",
       "      <td>61.7</td>\n",
       "      <td>67.93</td>\n",
       "      <td>4</td>\n",
       "    </tr>\n",
       "    <tr>\n",
       "      <th>2019-03-30</th>\n",
       "      <td>589672</td>\n",
       "      <td>1.41733e+07</td>\n",
       "      <td>79.99</td>\n",
       "      <td>69.88</td>\n",
       "      <td>66.95</td>\n",
       "      <td>62.73</td>\n",
       "      <td>67.95</td>\n",
       "      <td>69.09</td>\n",
       "      <td>5</td>\n",
       "    </tr>\n",
       "    <tr>\n",
       "      <th>2019-03-31</th>\n",
       "      <td>554156</td>\n",
       "      <td>1.41733e+07</td>\n",
       "      <td>82.54</td>\n",
       "      <td>79.76</td>\n",
       "      <td>74.24</td>\n",
       "      <td>68.53</td>\n",
       "      <td>72.14</td>\n",
       "      <td>74.41</td>\n",
       "      <td>6</td>\n",
       "    </tr>\n",
       "  </tbody>\n",
       "</table>\n",
       "</div>"
      ],
      "text/plain": [
       "           day_demand       CA_pop la_high sd_high sj_high sf_high sac_high  \\\n",
       "2019-03-27     603317  1.41733e+07   69.71   66.64   67.03   61.34    65.39   \n",
       "2019-03-28     612332  1.41733e+07   67.49   66.66   64.57   61.27    61.21   \n",
       "2019-03-29     609430  1.41733e+07   70.69   66.45   62.49   58.67     61.7   \n",
       "2019-03-30     589672  1.41733e+07   79.99   69.88   66.95   62.73    67.95   \n",
       "2019-03-31     554156  1.41733e+07   82.54   79.76   74.24   68.53    72.14   \n",
       "\n",
       "           f_high DOW  \n",
       "2019-03-27  72.08   2  \n",
       "2019-03-28  68.11   3  \n",
       "2019-03-29  67.93   4  \n",
       "2019-03-30  69.09   5  \n",
       "2019-03-31  74.41   6  "
      ]
     },
     "execution_count": 51,
     "metadata": {},
     "output_type": "execute_result"
    }
   ],
   "source": [
    "X_train_daily.tail()"
   ]
  },
  {
   "cell_type": "code",
   "execution_count": 52,
   "metadata": {},
   "outputs": [
    {
     "data": {
      "text/html": [
       "<div>\n",
       "<style scoped>\n",
       "    .dataframe tbody tr th:only-of-type {\n",
       "        vertical-align: middle;\n",
       "    }\n",
       "\n",
       "    .dataframe tbody tr th {\n",
       "        vertical-align: top;\n",
       "    }\n",
       "\n",
       "    .dataframe thead th {\n",
       "        text-align: right;\n",
       "    }\n",
       "</style>\n",
       "<table border=\"1\" class=\"dataframe\">\n",
       "  <thead>\n",
       "    <tr style=\"text-align: right;\">\n",
       "      <th></th>\n",
       "      <th>day_demand</th>\n",
       "      <th>CA_pop</th>\n",
       "      <th>la_high</th>\n",
       "      <th>sd_high</th>\n",
       "      <th>sj_high</th>\n",
       "      <th>sf_high</th>\n",
       "      <th>sac_high</th>\n",
       "      <th>f_high</th>\n",
       "      <th>DOW</th>\n",
       "    </tr>\n",
       "  </thead>\n",
       "  <tbody>\n",
       "    <tr>\n",
       "      <th>2019-04-01</th>\n",
       "      <td>626489</td>\n",
       "      <td>1.41733e+07</td>\n",
       "      <td>81.71</td>\n",
       "      <td>76.26</td>\n",
       "      <td>73.87</td>\n",
       "      <td>65.3</td>\n",
       "      <td>73.58</td>\n",
       "      <td>77.52</td>\n",
       "      <td>0</td>\n",
       "    </tr>\n",
       "    <tr>\n",
       "      <th>2019-04-02</th>\n",
       "      <td>639427</td>\n",
       "      <td>1.41733e+07</td>\n",
       "      <td>77.11</td>\n",
       "      <td>68.42</td>\n",
       "      <td>64.76</td>\n",
       "      <td>60.96</td>\n",
       "      <td>62.96</td>\n",
       "      <td>75.71</td>\n",
       "      <td>1</td>\n",
       "    </tr>\n",
       "    <tr>\n",
       "      <th>2019-04-03</th>\n",
       "      <td>637476</td>\n",
       "      <td>1.41733e+07</td>\n",
       "      <td>66.84</td>\n",
       "      <td>64.95</td>\n",
       "      <td>62.4</td>\n",
       "      <td>57.87</td>\n",
       "      <td>62.82</td>\n",
       "      <td>70.45</td>\n",
       "      <td>2</td>\n",
       "    </tr>\n",
       "    <tr>\n",
       "      <th>2019-04-04</th>\n",
       "      <td>637018</td>\n",
       "      <td>1.41733e+07</td>\n",
       "      <td>66.69</td>\n",
       "      <td>65.34</td>\n",
       "      <td>62.68</td>\n",
       "      <td>60.93</td>\n",
       "      <td>64.1</td>\n",
       "      <td>69.31</td>\n",
       "      <td>3</td>\n",
       "    </tr>\n",
       "    <tr>\n",
       "      <th>2019-04-05</th>\n",
       "      <td>610351</td>\n",
       "      <td>1.41733e+07</td>\n",
       "      <td>66.07</td>\n",
       "      <td>64.94</td>\n",
       "      <td>64.02</td>\n",
       "      <td>60.99</td>\n",
       "      <td>63.16</td>\n",
       "      <td>67.1</td>\n",
       "      <td>4</td>\n",
       "    </tr>\n",
       "  </tbody>\n",
       "</table>\n",
       "</div>"
      ],
      "text/plain": [
       "           day_demand       CA_pop la_high sd_high sj_high sf_high sac_high  \\\n",
       "2019-04-01     626489  1.41733e+07   81.71   76.26   73.87    65.3    73.58   \n",
       "2019-04-02     639427  1.41733e+07   77.11   68.42   64.76   60.96    62.96   \n",
       "2019-04-03     637476  1.41733e+07   66.84   64.95    62.4   57.87    62.82   \n",
       "2019-04-04     637018  1.41733e+07   66.69   65.34   62.68   60.93     64.1   \n",
       "2019-04-05     610351  1.41733e+07   66.07   64.94   64.02   60.99    63.16   \n",
       "\n",
       "           f_high DOW  \n",
       "2019-04-01  77.52   0  \n",
       "2019-04-02  75.71   1  \n",
       "2019-04-03  70.45   2  \n",
       "2019-04-04  69.31   3  \n",
       "2019-04-05   67.1   4  "
      ]
     },
     "execution_count": 52,
     "metadata": {},
     "output_type": "execute_result"
    }
   ],
   "source": [
    "X_val_daily.head()"
   ]
  },
  {
   "cell_type": "code",
   "execution_count": 53,
   "metadata": {},
   "outputs": [
    {
     "data": {
      "text/html": [
       "<div>\n",
       "<style scoped>\n",
       "    .dataframe tbody tr th:only-of-type {\n",
       "        vertical-align: middle;\n",
       "    }\n",
       "\n",
       "    .dataframe tbody tr th {\n",
       "        vertical-align: top;\n",
       "    }\n",
       "\n",
       "    .dataframe thead th {\n",
       "        text-align: right;\n",
       "    }\n",
       "</style>\n",
       "<table border=\"1\" class=\"dataframe\">\n",
       "  <thead>\n",
       "    <tr style=\"text-align: right;\">\n",
       "      <th></th>\n",
       "      <th>y</th>\n",
       "      <th>CA_pop</th>\n",
       "      <th>la_high</th>\n",
       "      <th>sd_high</th>\n",
       "      <th>sj_high</th>\n",
       "      <th>sf_high</th>\n",
       "      <th>sac_high</th>\n",
       "      <th>f_high</th>\n",
       "      <th>DOW</th>\n",
       "      <th>ds</th>\n",
       "    </tr>\n",
       "  </thead>\n",
       "  <tbody>\n",
       "    <tr>\n",
       "      <th>2019-03-27</th>\n",
       "      <td>603317</td>\n",
       "      <td>1.41733e+07</td>\n",
       "      <td>69.71</td>\n",
       "      <td>66.64</td>\n",
       "      <td>67.03</td>\n",
       "      <td>61.34</td>\n",
       "      <td>65.39</td>\n",
       "      <td>72.08</td>\n",
       "      <td>2</td>\n",
       "      <td>2019-03-27</td>\n",
       "    </tr>\n",
       "    <tr>\n",
       "      <th>2019-03-28</th>\n",
       "      <td>612332</td>\n",
       "      <td>1.41733e+07</td>\n",
       "      <td>67.49</td>\n",
       "      <td>66.66</td>\n",
       "      <td>64.57</td>\n",
       "      <td>61.27</td>\n",
       "      <td>61.21</td>\n",
       "      <td>68.11</td>\n",
       "      <td>3</td>\n",
       "      <td>2019-03-28</td>\n",
       "    </tr>\n",
       "    <tr>\n",
       "      <th>2019-03-29</th>\n",
       "      <td>609430</td>\n",
       "      <td>1.41733e+07</td>\n",
       "      <td>70.69</td>\n",
       "      <td>66.45</td>\n",
       "      <td>62.49</td>\n",
       "      <td>58.67</td>\n",
       "      <td>61.7</td>\n",
       "      <td>67.93</td>\n",
       "      <td>4</td>\n",
       "      <td>2019-03-29</td>\n",
       "    </tr>\n",
       "    <tr>\n",
       "      <th>2019-03-30</th>\n",
       "      <td>589672</td>\n",
       "      <td>1.41733e+07</td>\n",
       "      <td>79.99</td>\n",
       "      <td>69.88</td>\n",
       "      <td>66.95</td>\n",
       "      <td>62.73</td>\n",
       "      <td>67.95</td>\n",
       "      <td>69.09</td>\n",
       "      <td>5</td>\n",
       "      <td>2019-03-30</td>\n",
       "    </tr>\n",
       "    <tr>\n",
       "      <th>2019-03-31</th>\n",
       "      <td>554156</td>\n",
       "      <td>1.41733e+07</td>\n",
       "      <td>82.54</td>\n",
       "      <td>79.76</td>\n",
       "      <td>74.24</td>\n",
       "      <td>68.53</td>\n",
       "      <td>72.14</td>\n",
       "      <td>74.41</td>\n",
       "      <td>6</td>\n",
       "      <td>2019-03-31</td>\n",
       "    </tr>\n",
       "  </tbody>\n",
       "</table>\n",
       "</div>"
      ],
      "text/plain": [
       "                 y       CA_pop la_high sd_high sj_high sf_high sac_high  \\\n",
       "2019-03-27  603317  1.41733e+07   69.71   66.64   67.03   61.34    65.39   \n",
       "2019-03-28  612332  1.41733e+07   67.49   66.66   64.57   61.27    61.21   \n",
       "2019-03-29  609430  1.41733e+07   70.69   66.45   62.49   58.67     61.7   \n",
       "2019-03-30  589672  1.41733e+07   79.99   69.88   66.95   62.73    67.95   \n",
       "2019-03-31  554156  1.41733e+07   82.54   79.76   74.24   68.53    72.14   \n",
       "\n",
       "           f_high DOW          ds  \n",
       "2019-03-27  72.08   2  2019-03-27  \n",
       "2019-03-28  68.11   3  2019-03-28  \n",
       "2019-03-29  67.93   4  2019-03-29  \n",
       "2019-03-30  69.09   5  2019-03-30  \n",
       "2019-03-31  74.41   6  2019-03-31  "
      ]
     },
     "execution_count": 53,
     "metadata": {},
     "output_type": "execute_result"
    }
   ],
   "source": [
    "X_train_daily.rename({'day_demand' : 'y'}, axis=1, inplace=True)\n",
    "X_train_daily['ds'] = X_train_daily.index\n",
    "X_train_daily.index = pd.DatetimeIndex(X_train_daily.index)\n",
    "X_train_daily.tail()"
   ]
  },
  {
   "cell_type": "code",
   "execution_count": 54,
   "metadata": {},
   "outputs": [],
   "source": [
    "X_val_daily.rename({'day_demand' : 'y'}, axis=1, inplace=True)\n",
    "X_val_daily['ds'] = X_val_daily.index\n",
    "X_val_daily.index = pd.DatetimeIndex(X_val_daily.index)"
   ]
  },
  {
   "cell_type": "code",
   "execution_count": 61,
   "metadata": {},
   "outputs": [],
   "source": [
    "elec_df = X_train_daily.append(X_val_daily)"
   ]
  },
  {
   "cell_type": "code",
   "execution_count": 56,
   "metadata": {},
   "outputs": [],
   "source": [
    "def data_block(X, start, out_size) :\n",
    "    # get the slices of data frames to provide the blocks requested\n",
    "    block1 = X.iloc[start:start+out_size, :]\n",
    "        \n",
    "    return block1\n",
    "    "
   ]
  },
  {
   "cell_type": "code",
   "execution_count": 57,
   "metadata": {},
   "outputs": [],
   "source": [
    "def prophet_walk_forward_val(data, start_size, val_window, regressors, steps) :\n",
    "    '''\n",
    "        Function: walk_forward_val\n",
    "        \n",
    "        Arguments:\n",
    "            model - model class instantiator\n",
    "            data - pandas dataframe containing data of interest\n",
    "            start_size - initial number of rows for training\n",
    "            val_window - size of the validation window for each trail\n",
    "            regressors - list of regressors to add to the model\n",
    "            steps - number of walk forward steps to run\n",
    "        \n",
    "        Return:\n",
    "            mape_list - list of tupels with the last index for training window and mape for the window\n",
    "    '''\n",
    "    mape_list = []\n",
    "    # for each steps\n",
    "    for step in range(steps) :\n",
    "        print(start_size+step*val_window)\n",
    "        # Get the block of data for training\n",
    "        train_dat = data_block(data, 0, start_size+step*val_window)\n",
    "        \n",
    "        # Get a block of data for validation\n",
    "        val_dat = data_block(data, start_size+step*val_window, val_window)\n",
    "        \n",
    "        # Instantiate the model\n",
    "        m = Prophet(weekly_seasonality=True, yearly_seasonality=True)\n",
    "        \n",
    "        # Add regressors\n",
    "        for reg in regressors :\n",
    "            m.add_regressor(reg)\n",
    "            \n",
    "        # Fit the model\n",
    "        m.fit(train_dat)\n",
    "        \n",
    "        # Forecast for the validation step\n",
    "        forecast = m.predict(val_dat)\n",
    "        forecast.index = val_dat.index\n",
    "        print(forecast['ds'].values[0], val_dat['ds'].values[0])\n",
    "        \n",
    "        # Caluclate the MAPE for the window\n",
    "        ape = [np.abs(val_dat.loc[x, 'y'] - forecast.loc[x, 'yhat']) / val_dat.loc[x, 'y'] * 100 for x in val_dat.index]\n",
    "        \n",
    "        # Add the values to the list\n",
    "        mape_list.append((train_dat.index[-1], np.mean(ape)))\n",
    "        \n",
    "    # return the mape list\n",
    "    return mape_list"
   ]
  },
  {
   "cell_type": "code",
   "execution_count": 62,
   "metadata": {},
   "outputs": [
    {
     "data": {
      "text/html": [
       "<div>\n",
       "<style scoped>\n",
       "    .dataframe tbody tr th:only-of-type {\n",
       "        vertical-align: middle;\n",
       "    }\n",
       "\n",
       "    .dataframe tbody tr th {\n",
       "        vertical-align: top;\n",
       "    }\n",
       "\n",
       "    .dataframe thead th {\n",
       "        text-align: right;\n",
       "    }\n",
       "</style>\n",
       "<table border=\"1\" class=\"dataframe\">\n",
       "  <thead>\n",
       "    <tr style=\"text-align: right;\">\n",
       "      <th></th>\n",
       "      <th>y</th>\n",
       "      <th>CA_pop</th>\n",
       "      <th>la_high</th>\n",
       "      <th>sd_high</th>\n",
       "      <th>sj_high</th>\n",
       "      <th>sf_high</th>\n",
       "      <th>sac_high</th>\n",
       "      <th>f_high</th>\n",
       "      <th>DOW</th>\n",
       "      <th>ds</th>\n",
       "    </tr>\n",
       "  </thead>\n",
       "  <tbody>\n",
       "    <tr>\n",
       "      <th>2015-07-01</th>\n",
       "      <td>615661</td>\n",
       "      <td>1.38458e+07</td>\n",
       "      <td>85.78</td>\n",
       "      <td>75.72</td>\n",
       "      <td>92.65</td>\n",
       "      <td>69.25</td>\n",
       "      <td>98.16</td>\n",
       "      <td>96.38</td>\n",
       "      <td>2</td>\n",
       "      <td>2015-07-01</td>\n",
       "    </tr>\n",
       "    <tr>\n",
       "      <th>2015-07-02</th>\n",
       "      <td>916143</td>\n",
       "      <td>1.38458e+07</td>\n",
       "      <td>85.37</td>\n",
       "      <td>77.99</td>\n",
       "      <td>84.95</td>\n",
       "      <td>66.43</td>\n",
       "      <td>99.17</td>\n",
       "      <td>99.75</td>\n",
       "      <td>3</td>\n",
       "      <td>2015-07-02</td>\n",
       "    </tr>\n",
       "    <tr>\n",
       "      <th>2015-07-03</th>\n",
       "      <td>855334</td>\n",
       "      <td>1.38458e+07</td>\n",
       "      <td>82.31</td>\n",
       "      <td>76.39</td>\n",
       "      <td>83.64</td>\n",
       "      <td>68.14</td>\n",
       "      <td>97.25</td>\n",
       "      <td>99.66</td>\n",
       "      <td>4</td>\n",
       "      <td>2015-07-03</td>\n",
       "    </tr>\n",
       "    <tr>\n",
       "      <th>2015-07-04</th>\n",
       "      <td>818332</td>\n",
       "      <td>1.38458e+07</td>\n",
       "      <td>79.9</td>\n",
       "      <td>72.2</td>\n",
       "      <td>83.68</td>\n",
       "      <td>66.09</td>\n",
       "      <td>100.92</td>\n",
       "      <td>100.22</td>\n",
       "      <td>5</td>\n",
       "      <td>2015-07-04</td>\n",
       "    </tr>\n",
       "    <tr>\n",
       "      <th>2015-07-05</th>\n",
       "      <td>759824</td>\n",
       "      <td>1.38458e+07</td>\n",
       "      <td>77.41</td>\n",
       "      <td>69.72</td>\n",
       "      <td>82.13</td>\n",
       "      <td>67.46</td>\n",
       "      <td>95.88</td>\n",
       "      <td>101.26</td>\n",
       "      <td>6</td>\n",
       "      <td>2015-07-05</td>\n",
       "    </tr>\n",
       "  </tbody>\n",
       "</table>\n",
       "</div>"
      ],
      "text/plain": [
       "                 y       CA_pop la_high sd_high sj_high sf_high sac_high  \\\n",
       "2015-07-01  615661  1.38458e+07   85.78   75.72   92.65   69.25    98.16   \n",
       "2015-07-02  916143  1.38458e+07   85.37   77.99   84.95   66.43    99.17   \n",
       "2015-07-03  855334  1.38458e+07   82.31   76.39   83.64   68.14    97.25   \n",
       "2015-07-04  818332  1.38458e+07    79.9    72.2   83.68   66.09   100.92   \n",
       "2015-07-05  759824  1.38458e+07   77.41   69.72   82.13   67.46    95.88   \n",
       "\n",
       "            f_high DOW          ds  \n",
       "2015-07-01   96.38   2  2015-07-01  \n",
       "2015-07-02   99.75   3  2015-07-02  \n",
       "2015-07-03   99.66   4  2015-07-03  \n",
       "2015-07-04  100.22   5  2015-07-04  \n",
       "2015-07-05  101.26   6  2015-07-05  "
      ]
     },
     "execution_count": 62,
     "metadata": {},
     "output_type": "execute_result"
    }
   ],
   "source": [
    "elec_df.head()"
   ]
  },
  {
   "cell_type": "code",
   "execution_count": 63,
   "metadata": {},
   "outputs": [
    {
     "name": "stderr",
     "output_type": "stream",
     "text": [
      "INFO:fbprophet:Disabling daily seasonality. Run prophet with daily_seasonality=True to override this.\n"
     ]
    },
    {
     "name": "stdout",
     "output_type": "stream",
     "text": [
      "874\n"
     ]
    },
    {
     "name": "stderr",
     "output_type": "stream",
     "text": [
      "INFO:fbprophet:Disabling daily seasonality. Run prophet with daily_seasonality=True to override this.\n"
     ]
    },
    {
     "name": "stdout",
     "output_type": "stream",
     "text": [
      "2017-11-21T00:00:00.000000000 2017-11-21\n",
      "895\n"
     ]
    },
    {
     "name": "stderr",
     "output_type": "stream",
     "text": [
      "INFO:fbprophet:Disabling daily seasonality. Run prophet with daily_seasonality=True to override this.\n"
     ]
    },
    {
     "name": "stdout",
     "output_type": "stream",
     "text": [
      "2017-12-12T00:00:00.000000000 2017-12-12\n",
      "916\n"
     ]
    },
    {
     "name": "stderr",
     "output_type": "stream",
     "text": [
      "INFO:fbprophet:Disabling daily seasonality. Run prophet with daily_seasonality=True to override this.\n"
     ]
    },
    {
     "name": "stdout",
     "output_type": "stream",
     "text": [
      "2018-01-02T00:00:00.000000000 2018-01-02\n",
      "937\n"
     ]
    },
    {
     "name": "stderr",
     "output_type": "stream",
     "text": [
      "INFO:fbprophet:Disabling daily seasonality. Run prophet with daily_seasonality=True to override this.\n"
     ]
    },
    {
     "name": "stdout",
     "output_type": "stream",
     "text": [
      "2018-01-23T00:00:00.000000000 2018-01-23\n",
      "958\n"
     ]
    },
    {
     "name": "stderr",
     "output_type": "stream",
     "text": [
      "INFO:fbprophet:Disabling daily seasonality. Run prophet with daily_seasonality=True to override this.\n"
     ]
    },
    {
     "name": "stdout",
     "output_type": "stream",
     "text": [
      "2018-02-13T00:00:00.000000000 2018-02-13\n",
      "979\n"
     ]
    },
    {
     "name": "stderr",
     "output_type": "stream",
     "text": [
      "INFO:fbprophet:Disabling daily seasonality. Run prophet with daily_seasonality=True to override this.\n"
     ]
    },
    {
     "name": "stdout",
     "output_type": "stream",
     "text": [
      "2018-03-06T00:00:00.000000000 2018-03-06\n",
      "1000\n"
     ]
    },
    {
     "name": "stderr",
     "output_type": "stream",
     "text": [
      "INFO:fbprophet:Disabling daily seasonality. Run prophet with daily_seasonality=True to override this.\n"
     ]
    },
    {
     "name": "stdout",
     "output_type": "stream",
     "text": [
      "2018-03-27T00:00:00.000000000 2018-03-27\n",
      "1021\n"
     ]
    },
    {
     "name": "stderr",
     "output_type": "stream",
     "text": [
      "INFO:fbprophet:Disabling daily seasonality. Run prophet with daily_seasonality=True to override this.\n"
     ]
    },
    {
     "name": "stdout",
     "output_type": "stream",
     "text": [
      "2018-04-17T00:00:00.000000000 2018-04-17\n",
      "1042\n"
     ]
    },
    {
     "name": "stderr",
     "output_type": "stream",
     "text": [
      "INFO:fbprophet:Disabling daily seasonality. Run prophet with daily_seasonality=True to override this.\n"
     ]
    },
    {
     "name": "stdout",
     "output_type": "stream",
     "text": [
      "2018-05-08T00:00:00.000000000 2018-05-08\n",
      "1063\n"
     ]
    },
    {
     "name": "stderr",
     "output_type": "stream",
     "text": [
      "INFO:fbprophet:Disabling daily seasonality. Run prophet with daily_seasonality=True to override this.\n"
     ]
    },
    {
     "name": "stdout",
     "output_type": "stream",
     "text": [
      "2018-05-29T00:00:00.000000000 2018-05-29\n",
      "1084\n"
     ]
    },
    {
     "name": "stderr",
     "output_type": "stream",
     "text": [
      "INFO:fbprophet:Disabling daily seasonality. Run prophet with daily_seasonality=True to override this.\n"
     ]
    },
    {
     "name": "stdout",
     "output_type": "stream",
     "text": [
      "2018-06-19T00:00:00.000000000 2018-06-19\n",
      "1105\n"
     ]
    },
    {
     "name": "stderr",
     "output_type": "stream",
     "text": [
      "INFO:fbprophet:Disabling daily seasonality. Run prophet with daily_seasonality=True to override this.\n"
     ]
    },
    {
     "name": "stdout",
     "output_type": "stream",
     "text": [
      "2018-07-10T00:00:00.000000000 2018-07-10\n",
      "1126\n"
     ]
    },
    {
     "name": "stderr",
     "output_type": "stream",
     "text": [
      "INFO:fbprophet:Disabling daily seasonality. Run prophet with daily_seasonality=True to override this.\n"
     ]
    },
    {
     "name": "stdout",
     "output_type": "stream",
     "text": [
      "2018-07-31T00:00:00.000000000 2018-07-31\n",
      "1147\n"
     ]
    },
    {
     "name": "stderr",
     "output_type": "stream",
     "text": [
      "INFO:fbprophet:Disabling daily seasonality. Run prophet with daily_seasonality=True to override this.\n"
     ]
    },
    {
     "name": "stdout",
     "output_type": "stream",
     "text": [
      "2018-08-21T00:00:00.000000000 2018-08-21\n",
      "1168\n"
     ]
    },
    {
     "name": "stderr",
     "output_type": "stream",
     "text": [
      "INFO:fbprophet:Disabling daily seasonality. Run prophet with daily_seasonality=True to override this.\n"
     ]
    },
    {
     "name": "stdout",
     "output_type": "stream",
     "text": [
      "2018-09-11T00:00:00.000000000 2018-09-11\n",
      "1189\n"
     ]
    },
    {
     "name": "stderr",
     "output_type": "stream",
     "text": [
      "INFO:fbprophet:Disabling daily seasonality. Run prophet with daily_seasonality=True to override this.\n"
     ]
    },
    {
     "name": "stdout",
     "output_type": "stream",
     "text": [
      "2018-10-02T00:00:00.000000000 2018-10-02\n",
      "1210\n"
     ]
    },
    {
     "name": "stderr",
     "output_type": "stream",
     "text": [
      "INFO:fbprophet:Disabling daily seasonality. Run prophet with daily_seasonality=True to override this.\n"
     ]
    },
    {
     "name": "stdout",
     "output_type": "stream",
     "text": [
      "2018-10-23T00:00:00.000000000 2018-10-23\n",
      "1231\n"
     ]
    },
    {
     "name": "stderr",
     "output_type": "stream",
     "text": [
      "INFO:fbprophet:Disabling daily seasonality. Run prophet with daily_seasonality=True to override this.\n"
     ]
    },
    {
     "name": "stdout",
     "output_type": "stream",
     "text": [
      "2018-11-13T00:00:00.000000000 2018-11-13\n",
      "1252\n"
     ]
    },
    {
     "name": "stderr",
     "output_type": "stream",
     "text": [
      "INFO:fbprophet:Disabling daily seasonality. Run prophet with daily_seasonality=True to override this.\n"
     ]
    },
    {
     "name": "stdout",
     "output_type": "stream",
     "text": [
      "2018-12-04T00:00:00.000000000 2018-12-04\n",
      "1273\n"
     ]
    },
    {
     "name": "stderr",
     "output_type": "stream",
     "text": [
      "INFO:fbprophet:Disabling daily seasonality. Run prophet with daily_seasonality=True to override this.\n"
     ]
    },
    {
     "name": "stdout",
     "output_type": "stream",
     "text": [
      "2018-12-25T00:00:00.000000000 2018-12-25\n",
      "1294\n"
     ]
    },
    {
     "name": "stderr",
     "output_type": "stream",
     "text": [
      "INFO:fbprophet:Disabling daily seasonality. Run prophet with daily_seasonality=True to override this.\n"
     ]
    },
    {
     "name": "stdout",
     "output_type": "stream",
     "text": [
      "2019-01-15T00:00:00.000000000 2019-01-15\n",
      "1315\n"
     ]
    },
    {
     "name": "stderr",
     "output_type": "stream",
     "text": [
      "INFO:fbprophet:Disabling daily seasonality. Run prophet with daily_seasonality=True to override this.\n"
     ]
    },
    {
     "name": "stdout",
     "output_type": "stream",
     "text": [
      "2019-02-05T00:00:00.000000000 2019-02-05\n",
      "1336\n"
     ]
    },
    {
     "name": "stderr",
     "output_type": "stream",
     "text": [
      "INFO:fbprophet:Disabling daily seasonality. Run prophet with daily_seasonality=True to override this.\n"
     ]
    },
    {
     "name": "stdout",
     "output_type": "stream",
     "text": [
      "2019-02-26T00:00:00.000000000 2019-02-26\n",
      "1357\n"
     ]
    },
    {
     "name": "stderr",
     "output_type": "stream",
     "text": [
      "INFO:fbprophet:Disabling daily seasonality. Run prophet with daily_seasonality=True to override this.\n"
     ]
    },
    {
     "name": "stdout",
     "output_type": "stream",
     "text": [
      "2019-03-19T00:00:00.000000000 2019-03-19\n",
      "1378\n"
     ]
    },
    {
     "name": "stderr",
     "output_type": "stream",
     "text": [
      "INFO:fbprophet:Disabling daily seasonality. Run prophet with daily_seasonality=True to override this.\n"
     ]
    },
    {
     "name": "stdout",
     "output_type": "stream",
     "text": [
      "2019-04-09T00:00:00.000000000 2019-04-09\n",
      "1399\n"
     ]
    },
    {
     "name": "stderr",
     "output_type": "stream",
     "text": [
      "INFO:fbprophet:Disabling daily seasonality. Run prophet with daily_seasonality=True to override this.\n"
     ]
    },
    {
     "name": "stdout",
     "output_type": "stream",
     "text": [
      "2019-04-30T00:00:00.000000000 2019-04-30\n",
      "1420\n"
     ]
    },
    {
     "name": "stderr",
     "output_type": "stream",
     "text": [
      "INFO:fbprophet:Disabling daily seasonality. Run prophet with daily_seasonality=True to override this.\n"
     ]
    },
    {
     "name": "stdout",
     "output_type": "stream",
     "text": [
      "2019-05-21T00:00:00.000000000 2019-05-21\n",
      "1441\n"
     ]
    },
    {
     "name": "stderr",
     "output_type": "stream",
     "text": [
      "INFO:fbprophet:Disabling daily seasonality. Run prophet with daily_seasonality=True to override this.\n"
     ]
    },
    {
     "name": "stdout",
     "output_type": "stream",
     "text": [
      "2019-06-11T00:00:00.000000000 2019-06-11\n",
      "1462\n"
     ]
    },
    {
     "name": "stderr",
     "output_type": "stream",
     "text": [
      "INFO:fbprophet:Disabling daily seasonality. Run prophet with daily_seasonality=True to override this.\n"
     ]
    },
    {
     "name": "stdout",
     "output_type": "stream",
     "text": [
      "2019-07-02T00:00:00.000000000 2019-07-02\n",
      "1483\n"
     ]
    },
    {
     "name": "stderr",
     "output_type": "stream",
     "text": [
      "INFO:fbprophet:Disabling daily seasonality. Run prophet with daily_seasonality=True to override this.\n"
     ]
    },
    {
     "name": "stdout",
     "output_type": "stream",
     "text": [
      "2019-07-23T00:00:00.000000000 2019-07-23\n",
      "1504\n"
     ]
    },
    {
     "name": "stderr",
     "output_type": "stream",
     "text": [
      "INFO:fbprophet:Disabling daily seasonality. Run prophet with daily_seasonality=True to override this.\n"
     ]
    },
    {
     "name": "stdout",
     "output_type": "stream",
     "text": [
      "2019-08-13T00:00:00.000000000 2019-08-13\n",
      "1525\n"
     ]
    },
    {
     "name": "stderr",
     "output_type": "stream",
     "text": [
      "INFO:fbprophet:Disabling daily seasonality. Run prophet with daily_seasonality=True to override this.\n"
     ]
    },
    {
     "name": "stdout",
     "output_type": "stream",
     "text": [
      "2019-09-03T00:00:00.000000000 2019-09-03\n",
      "1546\n"
     ]
    },
    {
     "name": "stderr",
     "output_type": "stream",
     "text": [
      "INFO:fbprophet:Disabling daily seasonality. Run prophet with daily_seasonality=True to override this.\n"
     ]
    },
    {
     "name": "stdout",
     "output_type": "stream",
     "text": [
      "2019-09-24T00:00:00.000000000 2019-09-24\n",
      "1567\n"
     ]
    },
    {
     "name": "stderr",
     "output_type": "stream",
     "text": [
      "INFO:fbprophet:Disabling daily seasonality. Run prophet with daily_seasonality=True to override this.\n"
     ]
    },
    {
     "name": "stdout",
     "output_type": "stream",
     "text": [
      "2019-10-15T00:00:00.000000000 2019-10-15\n",
      "1588\n"
     ]
    },
    {
     "name": "stderr",
     "output_type": "stream",
     "text": [
      "INFO:fbprophet:Disabling daily seasonality. Run prophet with daily_seasonality=True to override this.\n"
     ]
    },
    {
     "name": "stdout",
     "output_type": "stream",
     "text": [
      "2019-11-05T00:00:00.000000000 2019-11-05\n",
      "1609\n"
     ]
    },
    {
     "name": "stderr",
     "output_type": "stream",
     "text": [
      "INFO:fbprophet:Disabling daily seasonality. Run prophet with daily_seasonality=True to override this.\n"
     ]
    },
    {
     "name": "stdout",
     "output_type": "stream",
     "text": [
      "2019-11-26T00:00:00.000000000 2019-11-26\n",
      "1630\n"
     ]
    },
    {
     "name": "stderr",
     "output_type": "stream",
     "text": [
      "INFO:fbprophet:Disabling daily seasonality. Run prophet with daily_seasonality=True to override this.\n"
     ]
    },
    {
     "name": "stdout",
     "output_type": "stream",
     "text": [
      "2019-12-17T00:00:00.000000000 2019-12-17\n",
      "1651\n"
     ]
    },
    {
     "name": "stderr",
     "output_type": "stream",
     "text": [
      "INFO:fbprophet:Disabling daily seasonality. Run prophet with daily_seasonality=True to override this.\n"
     ]
    },
    {
     "name": "stdout",
     "output_type": "stream",
     "text": [
      "2020-01-07T00:00:00.000000000 2020-01-07\n",
      "1672\n"
     ]
    },
    {
     "name": "stderr",
     "output_type": "stream",
     "text": [
      "INFO:fbprophet:Disabling daily seasonality. Run prophet with daily_seasonality=True to override this.\n"
     ]
    },
    {
     "name": "stdout",
     "output_type": "stream",
     "text": [
      "2020-01-28T00:00:00.000000000 2020-01-28\n",
      "1693\n",
      "2020-02-18T00:00:00.000000000 2020-02-18\n"
     ]
    }
   ],
   "source": [
    "exog_columns = ['CA_pop', 'la_high', 'sd_high', 'f_high', 'sj_high', 'sf_high', 'sac_high']\n",
    "results = prophet_walk_forward_val(elec_df, 874, 21, exog_columns, 40)"
   ]
  },
  {
   "cell_type": "code",
   "execution_count": 64,
   "metadata": {},
   "outputs": [
    {
     "data": {
      "text/plain": [
       "[<matplotlib.lines.Line2D at 0x7facf0907990>]"
      ]
     },
     "execution_count": 64,
     "metadata": {},
     "output_type": "execute_result"
    },
    {
     "data": {
      "image/png": "[encoded data removed]",
      "text/plain": [
       "<Figure size 864x576 with 1 Axes>"
      ]
     },
     "metadata": {
      "needs_background": "light"
     },
     "output_type": "display_data"
    }
   ],
   "source": [
    "fig = plt.figure(figsize=[12,8])\n",
    "results_x = [x[0].date() for x in results]\n",
    "results_y = [x[1] for x in results]\n",
    "timestamps = [x[0].timestamp() for x in results]\n",
    "z = np.polyfit(timestamps, results_y, 1)\n",
    "poly_func = np.poly1d(z)\n",
    "trend = [poly_func(x) for x in timestamps]\n",
    "plt.plot(results_x, results_y)\n",
    "plt.plot(results_x, trend)"
   ]
  },
  {
   "cell_type": "code",
   "execution_count": 14,
   "metadata": {},
   "outputs": [
    {
     "data": {
      "text/plain": [
       "numpy.float64"
      ]
     },
     "execution_count": 14,
     "metadata": {},
     "output_type": "execute_result"
    }
   ],
   "source": [
    "type(X_val_daily['la_high'].values[0])"
   ]
  },
  {
   "cell_type": "markdown",
   "metadata": {},
   "source": [
    "Simulate a forecast\n",
    "\n",
    "The article [Analysis of High Temperature Forecast\n",
    "Accuracy of Consumer Weather Forecasts\n",
    "from 2005-2016](https://www.forecastwatch.com/wp-content/uploads/High_Temperature_Accuracy_Study_12_Years.pdf) contains a longitudinal study of the accuracy of weather high temperature forecasts.  It tracks the improvements in 3, 5 and 9 day temperature forecasts from 2005 to 2016. The study concluded that:\n",
    "- The RMS Error for 1 Day High Temperature Forecasts is < 3 def F\n",
    "- The RMS Error for 5 Day High Temperature Forecasts is 5 deg F\n",
    "- The RMS Error for 9 Day High Temperature Forecasts is 6 deg F\n",
    "\n",
    "The data used for training is acutal temperature data.  In order to simulate forecasted temperatures I will add a random component to the actual temperature in a normal distribution around the actual temperature."
   ]
  },
  {
   "cell_type": "code",
   "execution_count": 15,
   "metadata": {},
   "outputs": [],
   "source": [
    "\n",
    "temp_rmse = 5.0\n",
    "X_val_daily['la_high_actual'] = X_val_daily['la_high']\n",
    "X_val_daily['sd_high_actual'] = X_val_daily['sd_high']\n",
    "X_val_daily['f_high_actual'] = X_val_daily['f_high']\n",
    "X_val_daily['sj_high_actual'] = X_val_daily['sj_high']\n",
    "X_val_daily['sf_high_actual'] = X_val_daily['sf_high']\n",
    "X_val_daily['sac_high_actual'] = X_val_daily['sac_high']\n",
    "\n",
    "temps = X_val_daily.loc[:,'la_high'].values\n",
    "forecast_temps = [x + np.random.normal(0, temp_rmse) for x in temps]\n",
    "X_val_daily['la_high'] = forecast_temps\n",
    "\n",
    "temps = X_val_daily.loc[:,'sd_high'].values\n",
    "forecast_temps = [x + np.random.normal(0, temp_rmse) for x in temps]\n",
    "X_val_daily['sd_high'] = forecast_temps\n",
    "\n",
    "temps = X_val_daily.loc[:,'f_high'].values\n",
    "forecast_temps = [x + np.random.normal(0, temp_rmse) for x in temps]\n",
    "X_val_daily['f_fr'] = forecast_temps\n",
    "\n",
    "temps = X_val_daily.loc[:,'sj_high'].values\n",
    "forecast_temps = [x + np.random.normal(0, temp_rmse) for x in temps]\n",
    "X_val_daily['sj_high'] = forecast_temps\n",
    "\n",
    "temps = X_val_daily.loc[:,'sf_high'].values\n",
    "forecast_temps = [x + np.random.normal(0, temp_rmse) for x in temps]\n",
    "X_val_daily['sf_high'] = forecast_temps\n",
    "\n",
    "temps = X_val_daily.loc[:,'sac_high'].values\n",
    "forecast_temps = [x + np.random.normal(0, temp_rmse) for x in temps]\n",
    "X_val_daily['sac_fr'] = forecast_temps"
   ]
  },
  {
   "cell_type": "markdown",
   "metadata": {},
   "source": [
    "Load the model"
   ]
  },
  {
   "cell_type": "code",
   "execution_count": 16,
   "metadata": {},
   "outputs": [
    {
     "name": "stderr",
     "output_type": "stream",
     "text": [
      "INFO:numexpr.utils:Note: NumExpr detected 16 cores but \"NUMEXPR_MAX_THREADS\" not set, so enforcing safe limit of 8.\n",
      "INFO:numexpr.utils:NumExpr defaulting to 8 threads.\n",
      "INFO:fbprophet:Disabling daily seasonality. Run prophet with daily_seasonality=True to override this.\n"
     ]
    },
    {
     "data": {
      "text/plain": [
       "<fbprophet.forecaster.Prophet at 0x7facc4315c90>"
      ]
     },
     "execution_count": 16,
     "metadata": {},
     "output_type": "execute_result"
    }
   ],
   "source": [
    "m = Prophet(weekly_seasonality=True, yearly_seasonality=True)\n",
    "m.add_regressor('la_high')\n",
    "m.add_regressor('sd_high')\n",
    "m.add_regressor('f_high')\n",
    "m.add_regressor('sj_high')\n",
    "m.add_regressor('sf_high')\n",
    "m.add_regressor('sac_high')\n",
    "m.add_regressor('CA_pop')\n",
    "m.fit(X_train_daily)"
   ]
  },
  {
   "cell_type": "code",
   "execution_count": 17,
   "metadata": {},
   "outputs": [],
   "source": [
    "forecast = m.predict(X_val_daily)"
   ]
  },
  {
   "cell_type": "code",
   "execution_count": 36,
   "metadata": {},
   "outputs": [
    {
     "name": "stderr",
     "output_type": "stream",
     "text": [
      "WARNING:matplotlib.legend:No handles with labels found to put in legend.\n"
     ]
    },
    {
     "data": {
      "image/png": "[encoded data removed]",
      "text/plain": [
       "<Figure size 864x576 with 1 Axes>"
      ]
     },
     "metadata": {
      "needs_background": "light"
     },
     "output_type": "display_data"
    }
   ],
   "source": [
    "fig = plt.figure(figsize=[12, 8])\n",
    "fig.patch.set_alpha(0.0)\n",
    "fig.patch.set_facecolor(None)\n",
    "\n",
    "ax = fig.add_subplot(1,1,1)\n",
    "ax.patch.set_visible(False)\n",
    "ax.set_alpha(0.0)\n",
    "\n",
    "plt.plot(facecolor=('#000000'), alpha=0.0)\n",
    "\n",
    "\n",
    "plt.title('Daily Demand Forecast\\n', fontsize=18)\n",
    "plt.xlabel('\\nDate', fontsize=15)\n",
    "plt.ylabel('Demand (MWH)\\n', fontsize=15)\n",
    "plt.legend(loc='lower right')\n",
    "\n",
    "plt.plot(X_train_daily.index[-20:], X_train_daily['y'].values[-20:], \\\n",
    "    c='cornflowerblue', label='Training Data', linewidth=2)\n",
    "plt.plot(forecast['ds'].values[:28], forecast['yhat'].values[:28], c='green', label='Forecast', linewidth=2)\n",
    "plt.plot(X_val_daily.index[:28], X_val_daily['y'].values[:28], c='b', label='Validation Data', linewidth=2)\n",
    "plt.vlines(X_val_daily.index[0], 0, 1000000, color='r', linestyle = '--', label='Three Week Evaluation Period')\n",
    "plt.vlines(X_val_daily.index[21], 0, 1000000, color='r', linestyle = '--')\n",
    "\n",
    "\n",
    "plt.legend( loc='lower right')\n",
    "\n",
    "plt.savefig('daily_demand_forecast_final.png', Transparent=True)"
   ]
  },
  {
   "cell_type": "code",
   "execution_count": 42,
   "metadata": {},
   "outputs": [
    {
     "name": "stderr",
     "output_type": "stream",
     "text": [
      "WARNING:matplotlib.legend:No handles with labels found to put in legend.\n"
     ]
    },
    {
     "data": {
      "image/png": "[encoded data removed]",
      "text/plain": [
       "<Figure size 864x576 with 1 Axes>"
      ]
     },
     "metadata": {
      "needs_background": "light"
     },
     "output_type": "display_data"
    }
   ],
   "source": [
    "fig = plt.figure(figsize=[12, 8])\n",
    "fig.patch.set_alpha(0.0)\n",
    "fig.patch.set_facecolor(None)\n",
    "\n",
    "ax = fig.add_subplot(1,1,1)\n",
    "ax.patch.set_visible(False)\n",
    "ax.set_alpha(0.0)\n",
    "\n",
    "plt.plot(facecolor=('#000000'), alpha=0.0)\n",
    "\n",
    "\n",
    "plt.title('Daily Demand Forecast\\n', fontsize=18)\n",
    "plt.xlabel('\\nDate', fontsize=15)\n",
    "plt.ylabel('Demand (MWH)\\n', fontsize=15)\n",
    "plt.legend(loc='lower right')\n",
    "\n",
    "plt.plot(X_train_daily.index[-20:], X_train_daily['y'].values[-20:], \\\n",
    "    c='cornflowerblue', label='Training Data', linewidth=2)\n",
    "plt.plot(forecast['ds'].values, forecast['yhat'].values, c='green', label='Forecast', linewidth=2)\n",
    "plt.plot(X_val_daily.index, X_val_daily['y'].values, c='b', label='Validation Data', linewidth=2)\n",
    "plt.vlines(X_train_daily.index[-1], 0, 1000000, color='r', linestyle = '--', label='Three Week Evaluation Period')\n",
    "plt.vlines(X_val_daily.index[21], 0, 1000000, color='r', linestyle = '--')\n",
    "\n",
    "plt.fill_between(forecast['ds'].values, forecast['yhat_lower'].values, forecast['yhat_upper'].values, color='k', alpha=0.2)\n",
    "\n",
    "\n",
    "plt.legend( loc='lower right')\n",
    "\n",
    "plt.savefig('daily_demand_forecast_final_big.png', Transparent=True)"
   ]
  },
  {
   "cell_type": "code",
   "execution_count": 21,
   "metadata": {},
   "outputs": [],
   "source": [
    "residuals3 = [abs(X_val_daily['y'].values[x] - forecast['yhat'].values[x])/ \\\n",
    "              X_val_daily['y'].values[x] * 100 for x in range(len(forecast['yhat'])-1)]\n",
    "\n",
    "timestamps = [int(x.timestamp()) for x in X_val_daily.index[:-1]]\n",
    "z = np.polyfit(timestamps, residuals3, 1)\n",
    "poly_trend = np.poly1d(z)\n",
    "trend = [np.mean(residuals3) for x in timestamps]"
   ]
  },
  {
   "cell_type": "code",
   "execution_count": 22,
   "metadata": {},
   "outputs": [
    {
     "name": "stdout",
     "output_type": "stream",
     "text": [
      "3.56089737728216\n"
     ]
    }
   ],
   "source": [
    "mape = np.mean(residuals3[:3])\n",
    "print(mape)"
   ]
  },
  {
   "cell_type": "code",
   "execution_count": 34,
   "metadata": {},
   "outputs": [
    {
     "data": {
      "text/plain": [
       "343"
      ]
     },
     "execution_count": 34,
     "metadata": {},
     "output_type": "execute_result"
    }
   ],
   "source": [
    "len(residuals3)"
   ]
  },
  {
   "cell_type": "code",
   "execution_count": 35,
   "metadata": {},
   "outputs": [
    {
     "name": "stderr",
     "output_type": "stream",
     "text": [
      "WARNING:matplotlib.legend:No handles with labels found to put in legend.\n"
     ]
    },
    {
     "data": {
      "image/png": "[encoded data removed]",
      "text/plain": [
       "<Figure size 864x576 with 1 Axes>"
      ]
     },
     "metadata": {
      "needs_background": "light"
     },
     "output_type": "display_data"
    }
   ],
   "source": [
    "fig = plt.figure(figsize=[12, 8])\n",
    "fig.patch.set_alpha(0.0)\n",
    "fig.patch.set_facecolor(None)\n",
    "\n",
    "ax = fig.add_subplot(1,1,1)\n",
    "ax.patch.set_visible(False)\n",
    "ax.set_alpha(0.0)\n",
    "\n",
    "plt.plot(facecolor=('#000000'), alpha=0.0)\n",
    "\n",
    "\n",
    "plt.title('Daily Demand Forecast\\n', fontsize=18)\n",
    "plt.xlabel('\\nDate', fontsize=15)\n",
    "plt.ylabel('Demand (MWH)\\n', fontsize=15)\n",
    "plt.legend(loc='lower right')\n",
    "\n",
    "plt.ylim(0, 15)\n",
    "\n",
    "plt.scatter(forecast['ds'].values[:342], residuals3[:342], c='b', alpha=0.5, label='Percent Demand Error')\n",
    "plt.plot(X_val_daily.index[:-1], trend,\"b--\", label='Average Percentage Error')\n",
    "\n",
    "plt.vlines(X_train_daily.index[-1], 0, 14, color='r', linestyle = '--', label='Three Week Evaluation Period')\n",
    "plt.vlines(X_val_daily.index[21], 0, 14, color='r', linestyle = '--')\n",
    "\n",
    "plt.legend(loc='lower right')\n",
    "\n",
    "\n",
    "plt.savefig('daily_demand_forecast_error_final_big.png', Transparent=True)"
   ]
  },
  {
   "cell_type": "code",
   "execution_count": 38,
   "metadata": {},
   "outputs": [
    {
     "name": "stderr",
     "output_type": "stream",
     "text": [
      "WARNING:matplotlib.legend:No handles with labels found to put in legend.\n"
     ]
    },
    {
     "data": {
      "image/png": "[encoded data removed]",
      "text/plain": [
       "<Figure size 864x576 with 1 Axes>"
      ]
     },
     "metadata": {
      "needs_background": "light"
     },
     "output_type": "display_data"
    }
   ],
   "source": [
    "fig = plt.figure(figsize=[12, 8])\n",
    "fig.patch.set_alpha(0.0)\n",
    "fig.patch.set_facecolor(None)\n",
    "\n",
    "ax = fig.add_subplot(1,1,1)\n",
    "ax.patch.set_visible(False)\n",
    "ax.set_alpha(0.0)\n",
    "\n",
    "plt.plot(facecolor=('#000000'), alpha=0.0)\n",
    "\n",
    "\n",
    "plt.title('Daily Demand Forecast Error\\n', fontsize=18)\n",
    "plt.xlabel('\\nDate', fontsize=15)\n",
    "plt.ylabel('Demand Error (%)\\n', fontsize=15)\n",
    "plt.legend(loc='lower right')\n",
    "\n",
    "plt.xlim()\n",
    "\n",
    "plt.scatter(forecast['ds'].values[:28], residuals3[:28], c='b', alpha=0.5, label='Percent Demand Error')\n",
    "plt.plot(X_val_daily.index[:28], trend[:28],\"b--\", label='Average Percentage Error')\n",
    "\n",
    "plt.vlines(X_val_daily.index[0], 0, 14, color='r', linestyle = '--', label='Three Week Evaluation Period')\n",
    "plt.vlines(X_val_daily.index[21], 0, 14, color='r', linestyle = '--')\n",
    "\n",
    "plt.legend(loc='lower right')\n",
    "plt.ylim(0, 15)\n",
    "\n",
    "plt.savefig('daily_demand_forecast_error_final.png', Transparent=True)"
   ]
  },
  {
   "cell_type": "code",
   "execution_count": 41,
   "metadata": {},
   "outputs": [
    {
     "name": "stderr",
     "output_type": "stream",
     "text": [
      "WARNING:matplotlib.legend:No handles with labels found to put in legend.\n"
     ]
    },
    {
     "data": {
      "image/png": "[encoded data removed]",
      "text/plain": [
       "<Figure size 864x576 with 1 Axes>"
      ]
     },
     "metadata": {
      "needs_background": "light"
     },
     "output_type": "display_data"
    }
   ],
   "source": [
    "fig = plt.figure(figsize=[12, 8])\n",
    "fig.patch.set_alpha(0.0)\n",
    "fig.patch.set_facecolor(None)\n",
    "\n",
    "ax = fig.add_subplot(1,1,1)\n",
    "ax.patch.set_visible(False)\n",
    "ax.set_alpha(0.0)\n",
    "\n",
    "plt.plot(facecolor=('#000000'), alpha=0.0)\n",
    "\n",
    "\n",
    "plt.title('Simulated Temperature Forecast\\n', fontsize=18)\n",
    "plt.xlabel('\\nDate', fontsize=15)\n",
    "plt.ylabel('Temperature (F)\\n', fontsize=15)\n",
    "plt.legend(loc='lower right')\n",
    "\n",
    "plt.plot(X_val_daily.index[:20], X_val_daily['la_high_actual'].values[:20], c='r', marker='+',\\\n",
    "        label='Actual')\n",
    "plt.plot(X_val_daily.index[:20], X_val_daily['la_high'].values[:20], c='magenta', marker='o', \\\n",
    "        label='Simulated Forecast')\n",
    "plt.legend(loc='lower right')\n",
    "\n",
    "plt.savefig('daily_demand_sim_temp_forecast_final.png', Transparent=True)"
   ]
  },
  {
   "cell_type": "code",
   "execution_count": 32,
   "metadata": {},
   "outputs": [],
   "source": [
    "samples = m.predictive_samples(forecast)"
   ]
  },
  {
   "cell_type": "code",
   "execution_count": 33,
   "metadata": {},
   "outputs": [
    {
     "data": {
      "text/plain": [
       "{'yhat': array([[-2.09768603e+07, -2.09596165e+07, -2.09267249e+07, ...,\n",
       "         -2.08827963e+07, -2.09282849e+07, -2.09391715e+07],\n",
       "        [-7.70024790e+07, -7.69856631e+07, -7.70834410e+07, ...,\n",
       "         -7.71272983e+07, -7.70586714e+07, -7.69609554e+07],\n",
       "        [-1.00640733e+08, -1.00712757e+08, -1.00647662e+08, ...,\n",
       "         -1.00654882e+08, -1.00664218e+08, -1.00693114e+08],\n",
       "        ...,\n",
       "        [-1.30966383e+08, -1.30965498e+08, -1.30992188e+08, ...,\n",
       "         -1.30959401e+08, -1.31017329e+08, -1.30934158e+08],\n",
       "        [-1.20333586e+08, -1.20350966e+08, -1.20305553e+08, ...,\n",
       "         -1.20353027e+08, -1.20319176e+08, -1.20325160e+08],\n",
       "        [-1.43067205e+08, -1.43030294e+08, -1.43028865e+08, ...,\n",
       "         -1.43001629e+08, -1.43183210e+08, -1.43057062e+08]]),\n",
       " 'trend': array([[645493.82042714, 645493.82042714, 645493.82042714, ...,\n",
       "         645493.82042714, 645493.82042714, 645493.82042714],\n",
       "        [645336.25653708, 645336.25653708, 645336.25653708, ...,\n",
       "         645336.25653708, 645336.25653708, 645336.25653708],\n",
       "        [645178.69264702, 645178.69264702, 645178.69264702, ...,\n",
       "         645178.69264702, 645178.69264702, 645178.69264702],\n",
       "        ...,\n",
       "        [602331.93638318, 601145.0289696 , 600726.67318348, ...,\n",
       "         595449.28465687, 588753.03372693, 598049.92510358],\n",
       "        [602204.11271805, 600994.08798211, 600623.66929501, ...,\n",
       "         595294.46187888, 588499.0542769 , 597925.85501732],\n",
       "        [602076.28905292, 600843.14699461, 600520.66540653, ...,\n",
       "         595139.63910089, 588241.13677637, 597801.78493106]])}"
      ]
     },
     "execution_count": 33,
     "metadata": {},
     "output_type": "execute_result"
    }
   ],
   "source": [
    "samples"
   ]
  },
  {
   "cell_type": "code",
   "execution_count": 34,
   "metadata": {},
   "outputs": [
    {
     "data": {
      "text/html": [
       "<div>\n",
       "<style scoped>\n",
       "    .dataframe tbody tr th:only-of-type {\n",
       "        vertical-align: middle;\n",
       "    }\n",
       "\n",
       "    .dataframe tbody tr th {\n",
       "        vertical-align: top;\n",
       "    }\n",
       "\n",
       "    .dataframe thead th {\n",
       "        text-align: right;\n",
       "    }\n",
       "</style>\n",
       "<table border=\"1\" class=\"dataframe\">\n",
       "  <thead>\n",
       "    <tr style=\"text-align: right;\">\n",
       "      <th></th>\n",
       "      <th>ds</th>\n",
       "      <th>trend</th>\n",
       "      <th>yhat_lower</th>\n",
       "      <th>yhat_upper</th>\n",
       "      <th>trend_lower</th>\n",
       "      <th>trend_upper</th>\n",
       "      <th>CA_pop</th>\n",
       "      <th>CA_pop_lower</th>\n",
       "      <th>CA_pop_upper</th>\n",
       "      <th>additive_terms</th>\n",
       "      <th>...</th>\n",
       "      <th>weekly</th>\n",
       "      <th>weekly_lower</th>\n",
       "      <th>weekly_upper</th>\n",
       "      <th>yearly</th>\n",
       "      <th>yearly_lower</th>\n",
       "      <th>yearly_upper</th>\n",
       "      <th>multiplicative_terms</th>\n",
       "      <th>multiplicative_terms_lower</th>\n",
       "      <th>multiplicative_terms_upper</th>\n",
       "      <th>yhat</th>\n",
       "    </tr>\n",
       "  </thead>\n",
       "  <tbody>\n",
       "    <tr>\n",
       "      <th>0</th>\n",
       "      <td>2019-04-01</td>\n",
       "      <td>645493.820427</td>\n",
       "      <td>576639.647832</td>\n",
       "      <td>674554.266074</td>\n",
       "      <td>645493.820427</td>\n",
       "      <td>645493.820427</td>\n",
       "      <td>53019.592368</td>\n",
       "      <td>53019.592368</td>\n",
       "      <td>53019.592368</td>\n",
       "      <td>-16695.417002</td>\n",
       "      <td>...</td>\n",
       "      <td>-7624.638203</td>\n",
       "      <td>-7624.638203</td>\n",
       "      <td>-7624.638203</td>\n",
       "      <td>-67755.107412</td>\n",
       "      <td>-67755.107412</td>\n",
       "      <td>-67755.107412</td>\n",
       "      <td>0.0</td>\n",
       "      <td>0.0</td>\n",
       "      <td>0.0</td>\n",
       "      <td>628798.403425</td>\n",
       "    </tr>\n",
       "    <tr>\n",
       "      <th>1</th>\n",
       "      <td>2019-04-02</td>\n",
       "      <td>645336.256537</td>\n",
       "      <td>558587.662144</td>\n",
       "      <td>657295.541840</td>\n",
       "      <td>645336.256537</td>\n",
       "      <td>645336.256537</td>\n",
       "      <td>53019.592368</td>\n",
       "      <td>53019.592368</td>\n",
       "      <td>53019.592368</td>\n",
       "      <td>-39760.791886</td>\n",
       "      <td>...</td>\n",
       "      <td>19371.953132</td>\n",
       "      <td>19371.953132</td>\n",
       "      <td>19371.953132</td>\n",
       "      <td>-67240.458164</td>\n",
       "      <td>-67240.458164</td>\n",
       "      <td>-67240.458164</td>\n",
       "      <td>0.0</td>\n",
       "      <td>0.0</td>\n",
       "      <td>0.0</td>\n",
       "      <td>605575.464651</td>\n",
       "    </tr>\n",
       "    <tr>\n",
       "      <th>2</th>\n",
       "      <td>2019-04-03</td>\n",
       "      <td>645178.692647</td>\n",
       "      <td>558591.889188</td>\n",
       "      <td>658416.085718</td>\n",
       "      <td>645178.692647</td>\n",
       "      <td>645178.692647</td>\n",
       "      <td>53019.592368</td>\n",
       "      <td>53019.592368</td>\n",
       "      <td>53019.592368</td>\n",
       "      <td>-39042.872021</td>\n",
       "      <td>...</td>\n",
       "      <td>20141.301617</td>\n",
       "      <td>20141.301617</td>\n",
       "      <td>20141.301617</td>\n",
       "      <td>-66815.088392</td>\n",
       "      <td>-66815.088392</td>\n",
       "      <td>-66815.088392</td>\n",
       "      <td>0.0</td>\n",
       "      <td>0.0</td>\n",
       "      <td>0.0</td>\n",
       "      <td>606135.820626</td>\n",
       "    </tr>\n",
       "    <tr>\n",
       "      <th>3</th>\n",
       "      <td>2019-04-04</td>\n",
       "      <td>645021.128757</td>\n",
       "      <td>572571.489778</td>\n",
       "      <td>669196.530291</td>\n",
       "      <td>645021.128757</td>\n",
       "      <td>645021.128757</td>\n",
       "      <td>53019.592368</td>\n",
       "      <td>53019.592368</td>\n",
       "      <td>53019.592368</td>\n",
       "      <td>-24385.985351</td>\n",
       "      <td>...</td>\n",
       "      <td>22718.561030</td>\n",
       "      <td>22718.561030</td>\n",
       "      <td>22718.561030</td>\n",
       "      <td>-66496.537494</td>\n",
       "      <td>-66496.537494</td>\n",
       "      <td>-66496.537494</td>\n",
       "      <td>0.0</td>\n",
       "      <td>0.0</td>\n",
       "      <td>0.0</td>\n",
       "      <td>620635.143406</td>\n",
       "    </tr>\n",
       "    <tr>\n",
       "      <th>4</th>\n",
       "      <td>2019-04-05</td>\n",
       "      <td>644863.564867</td>\n",
       "      <td>553281.822460</td>\n",
       "      <td>651511.247325</td>\n",
       "      <td>644863.564867</td>\n",
       "      <td>644863.564867</td>\n",
       "      <td>53019.592368</td>\n",
       "      <td>53019.592368</td>\n",
       "      <td>53019.592368</td>\n",
       "      <td>-40702.824512</td>\n",
       "      <td>...</td>\n",
       "      <td>18683.938469</td>\n",
       "      <td>18683.938469</td>\n",
       "      <td>18683.938469</td>\n",
       "      <td>-66296.851623</td>\n",
       "      <td>-66296.851623</td>\n",
       "      <td>-66296.851623</td>\n",
       "      <td>0.0</td>\n",
       "      <td>0.0</td>\n",
       "      <td>0.0</td>\n",
       "      <td>604160.740355</td>\n",
       "    </tr>\n",
       "    <tr>\n",
       "      <th>...</th>\n",
       "      <td>...</td>\n",
       "      <td>...</td>\n",
       "      <td>...</td>\n",
       "      <td>...</td>\n",
       "      <td>...</td>\n",
       "      <td>...</td>\n",
       "      <td>...</td>\n",
       "      <td>...</td>\n",
       "      <td>...</td>\n",
       "      <td>...</td>\n",
       "      <td>...</td>\n",
       "      <td>...</td>\n",
       "      <td>...</td>\n",
       "      <td>...</td>\n",
       "      <td>...</td>\n",
       "      <td>...</td>\n",
       "      <td>...</td>\n",
       "      <td>...</td>\n",
       "      <td>...</td>\n",
       "      <td>...</td>\n",
       "      <td>...</td>\n",
       "    </tr>\n",
       "    <tr>\n",
       "      <th>339</th>\n",
       "      <td>2020-03-05</td>\n",
       "      <td>592079.661696</td>\n",
       "      <td>639169.795345</td>\n",
       "      <td>746611.759583</td>\n",
       "      <td>573421.047503</td>\n",
       "      <td>609925.330045</td>\n",
       "      <td>78439.758085</td>\n",
       "      <td>78439.758085</td>\n",
       "      <td>78439.758085</td>\n",
       "      <td>102610.243288</td>\n",
       "      <td>...</td>\n",
       "      <td>22718.561030</td>\n",
       "      <td>22718.561030</td>\n",
       "      <td>22718.561030</td>\n",
       "      <td>-36118.859093</td>\n",
       "      <td>-36118.859093</td>\n",
       "      <td>-36118.859093</td>\n",
       "      <td>0.0</td>\n",
       "      <td>0.0</td>\n",
       "      <td>0.0</td>\n",
       "      <td>694689.904984</td>\n",
       "    </tr>\n",
       "    <tr>\n",
       "      <th>340</th>\n",
       "      <td>2020-03-06</td>\n",
       "      <td>591922.097806</td>\n",
       "      <td>595032.970812</td>\n",
       "      <td>703688.146114</td>\n",
       "      <td>573198.391117</td>\n",
       "      <td>609857.340790</td>\n",
       "      <td>78439.758085</td>\n",
       "      <td>78439.758085</td>\n",
       "      <td>78439.758085</td>\n",
       "      <td>58946.309654</td>\n",
       "      <td>...</td>\n",
       "      <td>18683.938469</td>\n",
       "      <td>18683.938469</td>\n",
       "      <td>18683.938469</td>\n",
       "      <td>-38948.635876</td>\n",
       "      <td>-38948.635876</td>\n",
       "      <td>-38948.635876</td>\n",
       "      <td>0.0</td>\n",
       "      <td>0.0</td>\n",
       "      <td>0.0</td>\n",
       "      <td>650868.407460</td>\n",
       "    </tr>\n",
       "    <tr>\n",
       "      <th>341</th>\n",
       "      <td>2020-03-07</td>\n",
       "      <td>591764.533916</td>\n",
       "      <td>525393.396260</td>\n",
       "      <td>632680.989463</td>\n",
       "      <td>573003.919707</td>\n",
       "      <td>609789.351536</td>\n",
       "      <td>78439.758085</td>\n",
       "      <td>78439.758085</td>\n",
       "      <td>78439.758085</td>\n",
       "      <td>-14575.112900</td>\n",
       "      <td>...</td>\n",
       "      <td>-19018.227136</td>\n",
       "      <td>-19018.227136</td>\n",
       "      <td>-19018.227136</td>\n",
       "      <td>-41880.584468</td>\n",
       "      <td>-41880.584468</td>\n",
       "      <td>-41880.584468</td>\n",
       "      <td>0.0</td>\n",
       "      <td>0.0</td>\n",
       "      <td>0.0</td>\n",
       "      <td>577189.421016</td>\n",
       "    </tr>\n",
       "    <tr>\n",
       "      <th>342</th>\n",
       "      <td>2020-03-08</td>\n",
       "      <td>591606.970026</td>\n",
       "      <td>456497.043140</td>\n",
       "      <td>561551.949850</td>\n",
       "      <td>572739.422995</td>\n",
       "      <td>609717.114425</td>\n",
       "      <td>78439.758085</td>\n",
       "      <td>78439.758085</td>\n",
       "      <td>78439.758085</td>\n",
       "      <td>-81835.372886</td>\n",
       "      <td>...</td>\n",
       "      <td>-54272.888909</td>\n",
       "      <td>-54272.888909</td>\n",
       "      <td>-54272.888909</td>\n",
       "      <td>-44870.433771</td>\n",
       "      <td>-44870.433771</td>\n",
       "      <td>-44870.433771</td>\n",
       "      <td>0.0</td>\n",
       "      <td>0.0</td>\n",
       "      <td>0.0</td>\n",
       "      <td>509771.597140</td>\n",
       "    </tr>\n",
       "    <tr>\n",
       "      <th>343</th>\n",
       "      <td>2020-03-09</td>\n",
       "      <td>591449.406136</td>\n",
       "      <td>487252.558641</td>\n",
       "      <td>594131.867930</td>\n",
       "      <td>572454.269685</td>\n",
       "      <td>609637.369400</td>\n",
       "      <td>78439.758085</td>\n",
       "      <td>78439.758085</td>\n",
       "      <td>78439.758085</td>\n",
       "      <td>-49290.201547</td>\n",
       "      <td>...</td>\n",
       "      <td>-7624.638203</td>\n",
       "      <td>-7624.638203</td>\n",
       "      <td>-7624.638203</td>\n",
       "      <td>-47872.529465</td>\n",
       "      <td>-47872.529465</td>\n",
       "      <td>-47872.529465</td>\n",
       "      <td>0.0</td>\n",
       "      <td>0.0</td>\n",
       "      <td>0.0</td>\n",
       "      <td>542159.204589</td>\n",
       "    </tr>\n",
       "  </tbody>\n",
       "</table>\n",
       "<p>344 rows × 43 columns</p>\n",
       "</div>"
      ],
      "text/plain": [
       "            ds          trend     yhat_lower     yhat_upper    trend_lower  \\\n",
       "0   2019-04-01  645493.820427  576639.647832  674554.266074  645493.820427   \n",
       "1   2019-04-02  645336.256537  558587.662144  657295.541840  645336.256537   \n",
       "2   2019-04-03  645178.692647  558591.889188  658416.085718  645178.692647   \n",
       "3   2019-04-04  645021.128757  572571.489778  669196.530291  645021.128757   \n",
       "4   2019-04-05  644863.564867  553281.822460  651511.247325  644863.564867   \n",
       "..         ...            ...            ...            ...            ...   \n",
       "339 2020-03-05  592079.661696  639169.795345  746611.759583  573421.047503   \n",
       "340 2020-03-06  591922.097806  595032.970812  703688.146114  573198.391117   \n",
       "341 2020-03-07  591764.533916  525393.396260  632680.989463  573003.919707   \n",
       "342 2020-03-08  591606.970026  456497.043140  561551.949850  572739.422995   \n",
       "343 2020-03-09  591449.406136  487252.558641  594131.867930  572454.269685   \n",
       "\n",
       "       trend_upper        CA_pop  CA_pop_lower  CA_pop_upper  additive_terms  \\\n",
       "0    645493.820427  53019.592368  53019.592368  53019.592368   -16695.417002   \n",
       "1    645336.256537  53019.592368  53019.592368  53019.592368   -39760.791886   \n",
       "2    645178.692647  53019.592368  53019.592368  53019.592368   -39042.872021   \n",
       "3    645021.128757  53019.592368  53019.592368  53019.592368   -24385.985351   \n",
       "4    644863.564867  53019.592368  53019.592368  53019.592368   -40702.824512   \n",
       "..             ...           ...           ...           ...             ...   \n",
       "339  609925.330045  78439.758085  78439.758085  78439.758085   102610.243288   \n",
       "340  609857.340790  78439.758085  78439.758085  78439.758085    58946.309654   \n",
       "341  609789.351536  78439.758085  78439.758085  78439.758085   -14575.112900   \n",
       "342  609717.114425  78439.758085  78439.758085  78439.758085   -81835.372886   \n",
       "343  609637.369400  78439.758085  78439.758085  78439.758085   -49290.201547   \n",
       "\n",
       "     ...        weekly  weekly_lower  weekly_upper        yearly  \\\n",
       "0    ...  -7624.638203  -7624.638203  -7624.638203 -67755.107412   \n",
       "1    ...  19371.953132  19371.953132  19371.953132 -67240.458164   \n",
       "2    ...  20141.301617  20141.301617  20141.301617 -66815.088392   \n",
       "3    ...  22718.561030  22718.561030  22718.561030 -66496.537494   \n",
       "4    ...  18683.938469  18683.938469  18683.938469 -66296.851623   \n",
       "..   ...           ...           ...           ...           ...   \n",
       "339  ...  22718.561030  22718.561030  22718.561030 -36118.859093   \n",
       "340  ...  18683.938469  18683.938469  18683.938469 -38948.635876   \n",
       "341  ... -19018.227136 -19018.227136 -19018.227136 -41880.584468   \n",
       "342  ... -54272.888909 -54272.888909 -54272.888909 -44870.433771   \n",
       "343  ...  -7624.638203  -7624.638203  -7624.638203 -47872.529465   \n",
       "\n",
       "     yearly_lower  yearly_upper  multiplicative_terms  \\\n",
       "0   -67755.107412 -67755.107412                   0.0   \n",
       "1   -67240.458164 -67240.458164                   0.0   \n",
       "2   -66815.088392 -66815.088392                   0.0   \n",
       "3   -66496.537494 -66496.537494                   0.0   \n",
       "4   -66296.851623 -66296.851623                   0.0   \n",
       "..            ...           ...                   ...   \n",
       "339 -36118.859093 -36118.859093                   0.0   \n",
       "340 -38948.635876 -38948.635876                   0.0   \n",
       "341 -41880.584468 -41880.584468                   0.0   \n",
       "342 -44870.433771 -44870.433771                   0.0   \n",
       "343 -47872.529465 -47872.529465                   0.0   \n",
       "\n",
       "     multiplicative_terms_lower  multiplicative_terms_upper           yhat  \n",
       "0                           0.0                         0.0  628798.403425  \n",
       "1                           0.0                         0.0  605575.464651  \n",
       "2                           0.0                         0.0  606135.820626  \n",
       "3                           0.0                         0.0  620635.143406  \n",
       "4                           0.0                         0.0  604160.740355  \n",
       "..                          ...                         ...            ...  \n",
       "339                         0.0                         0.0  694689.904984  \n",
       "340                         0.0                         0.0  650868.407460  \n",
       "341                         0.0                         0.0  577189.421016  \n",
       "342                         0.0                         0.0  509771.597140  \n",
       "343                         0.0                         0.0  542159.204589  \n",
       "\n",
       "[344 rows x 43 columns]"
      ]
     },
     "execution_count": 34,
     "metadata": {},
     "output_type": "execute_result"
    }
   ],
   "source": [
    "forecast"
   ]
  },
  {
   "cell_type": "code",
   "execution_count": 39,
   "metadata": {},
   "outputs": [
    {
     "data": {
      "text/html": [
       "<div>\n",
       "<style scoped>\n",
       "    .dataframe tbody tr th:only-of-type {\n",
       "        vertical-align: middle;\n",
       "    }\n",
       "\n",
       "    .dataframe tbody tr th {\n",
       "        vertical-align: top;\n",
       "    }\n",
       "\n",
       "    .dataframe thead th {\n",
       "        text-align: right;\n",
       "    }\n",
       "</style>\n",
       "<table border=\"1\" class=\"dataframe\">\n",
       "  <thead>\n",
       "    <tr style=\"text-align: right;\">\n",
       "      <th></th>\n",
       "      <th>y</th>\n",
       "      <th>CA_pop</th>\n",
       "      <th>la_high</th>\n",
       "      <th>sd_high</th>\n",
       "      <th>sj_high</th>\n",
       "      <th>sf_high</th>\n",
       "      <th>sac_high</th>\n",
       "      <th>f_high</th>\n",
       "      <th>DOW</th>\n",
       "      <th>ds</th>\n",
       "    </tr>\n",
       "  </thead>\n",
       "  <tbody>\n",
       "    <tr>\n",
       "      <th>2019-03-27</th>\n",
       "      <td>603317</td>\n",
       "      <td>1.41733e+07</td>\n",
       "      <td>69.71</td>\n",
       "      <td>66.64</td>\n",
       "      <td>67.03</td>\n",
       "      <td>61.34</td>\n",
       "      <td>65.39</td>\n",
       "      <td>72.08</td>\n",
       "      <td>2</td>\n",
       "      <td>2019-03-27</td>\n",
       "    </tr>\n",
       "    <tr>\n",
       "      <th>2019-03-28</th>\n",
       "      <td>612332</td>\n",
       "      <td>1.41733e+07</td>\n",
       "      <td>67.49</td>\n",
       "      <td>66.66</td>\n",
       "      <td>64.57</td>\n",
       "      <td>61.27</td>\n",
       "      <td>61.21</td>\n",
       "      <td>68.11</td>\n",
       "      <td>3</td>\n",
       "      <td>2019-03-28</td>\n",
       "    </tr>\n",
       "    <tr>\n",
       "      <th>2019-03-29</th>\n",
       "      <td>609430</td>\n",
       "      <td>1.41733e+07</td>\n",
       "      <td>70.69</td>\n",
       "      <td>66.45</td>\n",
       "      <td>62.49</td>\n",
       "      <td>58.67</td>\n",
       "      <td>61.7</td>\n",
       "      <td>67.93</td>\n",
       "      <td>4</td>\n",
       "      <td>2019-03-29</td>\n",
       "    </tr>\n",
       "    <tr>\n",
       "      <th>2019-03-30</th>\n",
       "      <td>589672</td>\n",
       "      <td>1.41733e+07</td>\n",
       "      <td>79.99</td>\n",
       "      <td>69.88</td>\n",
       "      <td>66.95</td>\n",
       "      <td>62.73</td>\n",
       "      <td>67.95</td>\n",
       "      <td>69.09</td>\n",
       "      <td>5</td>\n",
       "      <td>2019-03-30</td>\n",
       "    </tr>\n",
       "    <tr>\n",
       "      <th>2019-03-31</th>\n",
       "      <td>554156</td>\n",
       "      <td>1.41733e+07</td>\n",
       "      <td>82.54</td>\n",
       "      <td>79.76</td>\n",
       "      <td>74.24</td>\n",
       "      <td>68.53</td>\n",
       "      <td>72.14</td>\n",
       "      <td>74.41</td>\n",
       "      <td>6</td>\n",
       "      <td>2019-03-31</td>\n",
       "    </tr>\n",
       "  </tbody>\n",
       "</table>\n",
       "</div>"
      ],
      "text/plain": [
       "                 y       CA_pop la_high sd_high sj_high sf_high sac_high  \\\n",
       "2019-03-27  603317  1.41733e+07   69.71   66.64   67.03   61.34    65.39   \n",
       "2019-03-28  612332  1.41733e+07   67.49   66.66   64.57   61.27    61.21   \n",
       "2019-03-29  609430  1.41733e+07   70.69   66.45   62.49   58.67     61.7   \n",
       "2019-03-30  589672  1.41733e+07   79.99   69.88   66.95   62.73    67.95   \n",
       "2019-03-31  554156  1.41733e+07   82.54   79.76   74.24   68.53    72.14   \n",
       "\n",
       "           f_high DOW          ds  \n",
       "2019-03-27  72.08   2  2019-03-27  \n",
       "2019-03-28  68.11   3  2019-03-28  \n",
       "2019-03-29  67.93   4  2019-03-29  \n",
       "2019-03-30  69.09   5  2019-03-30  \n",
       "2019-03-31  74.41   6  2019-03-31  "
      ]
     },
     "execution_count": 39,
     "metadata": {},
     "output_type": "execute_result"
    }
   ],
   "source": [
    "X_train_daily.tail()\n"
   ]
  },
  {
   "cell_type": "code",
   "execution_count": 40,
   "metadata": {},
   "outputs": [
    {
     "data": {
      "text/html": [
       "<div>\n",
       "<style scoped>\n",
       "    .dataframe tbody tr th:only-of-type {\n",
       "        vertical-align: middle;\n",
       "    }\n",
       "\n",
       "    .dataframe tbody tr th {\n",
       "        vertical-align: top;\n",
       "    }\n",
       "\n",
       "    .dataframe thead th {\n",
       "        text-align: right;\n",
       "    }\n",
       "</style>\n",
       "<table border=\"1\" class=\"dataframe\">\n",
       "  <thead>\n",
       "    <tr style=\"text-align: right;\">\n",
       "      <th></th>\n",
       "      <th>y</th>\n",
       "      <th>CA_pop</th>\n",
       "      <th>la_high</th>\n",
       "      <th>sd_high</th>\n",
       "      <th>sj_high</th>\n",
       "      <th>sf_high</th>\n",
       "      <th>sac_high</th>\n",
       "      <th>f_high</th>\n",
       "      <th>DOW</th>\n",
       "      <th>ds</th>\n",
       "      <th>la_high_actual</th>\n",
       "      <th>sd_high_actual</th>\n",
       "      <th>f_high_actual</th>\n",
       "      <th>sj_high_actual</th>\n",
       "      <th>sf_high_actual</th>\n",
       "      <th>sac_high_actual</th>\n",
       "      <th>f_fr</th>\n",
       "      <th>sac_fr</th>\n",
       "    </tr>\n",
       "  </thead>\n",
       "  <tbody>\n",
       "    <tr>\n",
       "      <th>2019-04-01</th>\n",
       "      <td>626489</td>\n",
       "      <td>1.41733e+07</td>\n",
       "      <td>83.875962</td>\n",
       "      <td>78.380931</td>\n",
       "      <td>69.323728</td>\n",
       "      <td>71.317328</td>\n",
       "      <td>73.58</td>\n",
       "      <td>77.52</td>\n",
       "      <td>0</td>\n",
       "      <td>2019-04-01</td>\n",
       "      <td>81.71</td>\n",
       "      <td>76.26</td>\n",
       "      <td>77.52</td>\n",
       "      <td>73.87</td>\n",
       "      <td>65.3</td>\n",
       "      <td>73.58</td>\n",
       "      <td>82.641583</td>\n",
       "      <td>78.739702</td>\n",
       "    </tr>\n",
       "    <tr>\n",
       "      <th>2019-04-02</th>\n",
       "      <td>639427</td>\n",
       "      <td>1.41733e+07</td>\n",
       "      <td>70.345919</td>\n",
       "      <td>69.694783</td>\n",
       "      <td>69.248338</td>\n",
       "      <td>66.422230</td>\n",
       "      <td>62.96</td>\n",
       "      <td>75.71</td>\n",
       "      <td>1</td>\n",
       "      <td>2019-04-02</td>\n",
       "      <td>77.11</td>\n",
       "      <td>68.42</td>\n",
       "      <td>75.71</td>\n",
       "      <td>64.76</td>\n",
       "      <td>60.96</td>\n",
       "      <td>62.96</td>\n",
       "      <td>77.264614</td>\n",
       "      <td>68.830015</td>\n",
       "    </tr>\n",
       "    <tr>\n",
       "      <th>2019-04-03</th>\n",
       "      <td>637476</td>\n",
       "      <td>1.41733e+07</td>\n",
       "      <td>63.355498</td>\n",
       "      <td>59.593722</td>\n",
       "      <td>66.672565</td>\n",
       "      <td>53.364029</td>\n",
       "      <td>62.82</td>\n",
       "      <td>70.45</td>\n",
       "      <td>2</td>\n",
       "      <td>2019-04-03</td>\n",
       "      <td>66.84</td>\n",
       "      <td>64.95</td>\n",
       "      <td>70.45</td>\n",
       "      <td>62.4</td>\n",
       "      <td>57.87</td>\n",
       "      <td>62.82</td>\n",
       "      <td>71.461119</td>\n",
       "      <td>60.005091</td>\n",
       "    </tr>\n",
       "    <tr>\n",
       "      <th>2019-04-04</th>\n",
       "      <td>637018</td>\n",
       "      <td>1.41733e+07</td>\n",
       "      <td>71.394067</td>\n",
       "      <td>63.576444</td>\n",
       "      <td>60.136740</td>\n",
       "      <td>66.796452</td>\n",
       "      <td>64.1</td>\n",
       "      <td>69.31</td>\n",
       "      <td>3</td>\n",
       "      <td>2019-04-04</td>\n",
       "      <td>66.69</td>\n",
       "      <td>65.34</td>\n",
       "      <td>69.31</td>\n",
       "      <td>62.68</td>\n",
       "      <td>60.93</td>\n",
       "      <td>64.1</td>\n",
       "      <td>65.177935</td>\n",
       "      <td>56.800423</td>\n",
       "    </tr>\n",
       "    <tr>\n",
       "      <th>2019-04-05</th>\n",
       "      <td>610351</td>\n",
       "      <td>1.41733e+07</td>\n",
       "      <td>61.769308</td>\n",
       "      <td>74.231315</td>\n",
       "      <td>67.657846</td>\n",
       "      <td>55.327900</td>\n",
       "      <td>63.16</td>\n",
       "      <td>67.1</td>\n",
       "      <td>4</td>\n",
       "      <td>2019-04-05</td>\n",
       "      <td>66.07</td>\n",
       "      <td>64.94</td>\n",
       "      <td>67.1</td>\n",
       "      <td>64.02</td>\n",
       "      <td>60.99</td>\n",
       "      <td>63.16</td>\n",
       "      <td>71.636515</td>\n",
       "      <td>60.728372</td>\n",
       "    </tr>\n",
       "  </tbody>\n",
       "</table>\n",
       "</div>"
      ],
      "text/plain": [
       "                 y       CA_pop    la_high    sd_high    sj_high    sf_high  \\\n",
       "2019-04-01  626489  1.41733e+07  83.875962  78.380931  69.323728  71.317328   \n",
       "2019-04-02  639427  1.41733e+07  70.345919  69.694783  69.248338  66.422230   \n",
       "2019-04-03  637476  1.41733e+07  63.355498  59.593722  66.672565  53.364029   \n",
       "2019-04-04  637018  1.41733e+07  71.394067  63.576444  60.136740  66.796452   \n",
       "2019-04-05  610351  1.41733e+07  61.769308  74.231315  67.657846  55.327900   \n",
       "\n",
       "           sac_high f_high DOW          ds la_high_actual sd_high_actual  \\\n",
       "2019-04-01    73.58  77.52   0  2019-04-01          81.71          76.26   \n",
       "2019-04-02    62.96  75.71   1  2019-04-02          77.11          68.42   \n",
       "2019-04-03    62.82  70.45   2  2019-04-03          66.84          64.95   \n",
       "2019-04-04     64.1  69.31   3  2019-04-04          66.69          65.34   \n",
       "2019-04-05    63.16   67.1   4  2019-04-05          66.07          64.94   \n",
       "\n",
       "           f_high_actual sj_high_actual sf_high_actual sac_high_actual  \\\n",
       "2019-04-01         77.52          73.87           65.3           73.58   \n",
       "2019-04-02         75.71          64.76          60.96           62.96   \n",
       "2019-04-03         70.45           62.4          57.87           62.82   \n",
       "2019-04-04         69.31          62.68          60.93            64.1   \n",
       "2019-04-05          67.1          64.02          60.99           63.16   \n",
       "\n",
       "                 f_fr     sac_fr  \n",
       "2019-04-01  82.641583  78.739702  \n",
       "2019-04-02  77.264614  68.830015  \n",
       "2019-04-03  71.461119  60.005091  \n",
       "2019-04-04  65.177935  56.800423  \n",
       "2019-04-05  71.636515  60.728372  "
      ]
     },
     "execution_count": 40,
     "metadata": {},
     "output_type": "execute_result"
    }
   ],
   "source": [
    "X_val_daily.head()"
   ]
  },
  {
   "cell_type": "code",
   "execution_count": null,
   "metadata": {},
   "outputs": [],
   "source": []
  }
 ],
 "metadata": {
  "kernelspec": {
   "display_name": "Python 3",
   "language": "python",
   "name": "python3"
  },
  "language_info": {
   "codemirror_mode": {
    "name": "ipython",
    "version": 3
   },
   "file_extension": ".py",
   "mimetype": "text/x-python",
   "name": "python",
   "nbconvert_exporter": "python",
   "pygments_lexer": "ipython3",
   "version": "3.7.4"
  }
 },
 "nbformat": 4,
 "nbformat_minor": 4
}
