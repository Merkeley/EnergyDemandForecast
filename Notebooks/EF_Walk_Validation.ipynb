{
 "cells": [
  {
   "cell_type": "markdown",
   "metadata": {},
   "source": [
    "# Electricity Demand Forecasting\n",
    "\n",
    "In this project I am exploring time series modeling for Electricity Demand Forecasting for the state of California.\n",
    "\n",
    "This notebook is used to compare the walk forward validation steps for the the two models that consistently provided the best results in the initial model evaluations.  Both models use the daily demand data.  The notebook compares the prediction accuracy of a SARIMAX model and an Prophet model.  \n",
    "\n",
    "The SARIMAX model only uses the high temperatures for two cities as exogenous data.  The other data columns did not provide useful input based on the coefficient p-values.\n",
    "\n",
    "The Prophet model uses all the exogenous inputs.\n",
    "\n",
    "Each model is walked through 20 validation steps and the results are plotted at the end of the notebook.\n",
    "\n",
    "## <table id='Table_Of_Contents'>Table Of Contents</table>\n",
    "\n",
    "1. [Import Modules](#import)<br>\n",
    "2. [Read Data File](#read_data)<br>\n",
    "    2A. [Clean Data Frame](#clean_data)<br>\n",
    "    2B. [Extend Exogenous Data](#extend_dow)<br>\n",
    "3. [Walk Forward Validation](#walk_forward_validation)<br>\n",
    "    3A. [SARIMAX Walk Forward Validation](#walk_forward_sarimax)<br>\n",
    "    3B. [Prophet Walk Forward Validation](#walk_forward_prophet)<br>\n",
    "4. [Validation Results](#results_plot)\n"
   ]
  },
  {
   "cell_type": "markdown",
   "metadata": {},
   "source": [
    "----\n",
    "\n",
    "### <a id='import'> 1. Import Modules</a>\n",
    "\n",
    "----"
   ]
  },
  {
   "cell_type": "code",
   "execution_count": 1,
   "metadata": {},
   "outputs": [],
   "source": [
    "import sys\n",
    "\n",
    "import pandas as pd\n",
    "import numpy as np\n",
    "import re\n",
    "\n",
    "import json\n",
    "import datetime\n",
    "\n",
    "\n",
    "from statsmodels.graphics.tsaplots import plot_acf,plot_pacf \n",
    "from statsmodels.tsa.seasonal import seasonal_decompose\n",
    "\n",
    "from sklearn.preprocessing import StandardScaler\n",
    "\n",
    "#from pmdarima import auto_arima\n",
    "\n",
    "from sklearn.metrics import mean_squared_error\n",
    "from statsmodels.tools.eval_measures import rmse\n",
    "\n",
    "import pickle\n",
    "import warnings\n",
    "\n",
    "from dateutil import parser\n",
    "\n",
    "import matplotlib.pyplot as plt\n",
    "\n",
    "from statsmodels.tsa.statespace.sarimax import SARIMAX\n",
    "from statsmodels.tsa.arima.model import ARIMA\n",
    "import statsmodels.tsa.statespace.mlemodel\n",
    "from fbprophet import Prophet\n",
    "\n",
    "sys.path.append('../src')\n",
    "from EF_tools import prophet_walk_forward_val, sarimax_walk_forward_val"
   ]
  },
  {
   "cell_type": "code",
   "execution_count": 2,
   "metadata": {},
   "outputs": [],
   "source": [
    "# Turn off some of the warnings\n",
    "warnings.filterwarnings('ignore')"
   ]
  },
  {
   "cell_type": "markdown",
   "metadata": {
    "toc-hr-collapsed": true
   },
   "source": [
    "----\n",
    "\n",
    "### <a id='read_data'>2. Data Import </a>\n",
    "\n",
    "----"
   ]
  },
  {
   "cell_type": "code",
   "execution_count": 3,
   "metadata": {},
   "outputs": [],
   "source": [
    "# Read the datafile produced using the EF_EDA_CleanSplitAgg notebook.\n",
    "data_file = '../data/big_demand_temp_train_by_day.csv'"
   ]
  },
  {
   "cell_type": "code",
   "execution_count": 4,
   "metadata": {},
   "outputs": [
    {
     "data": {
      "text/html": [
       "<div>\n",
       "<style scoped>\n",
       "    .dataframe tbody tr th:only-of-type {\n",
       "        vertical-align: middle;\n",
       "    }\n",
       "\n",
       "    .dataframe tbody tr th {\n",
       "        vertical-align: top;\n",
       "    }\n",
       "\n",
       "    .dataframe thead th {\n",
       "        text-align: right;\n",
       "    }\n",
       "</style>\n",
       "<table border=\"1\" class=\"dataframe\">\n",
       "  <thead>\n",
       "    <tr style=\"text-align: right;\">\n",
       "      <th></th>\n",
       "      <th>day_demand</th>\n",
       "      <th>CA_pop</th>\n",
       "      <th>la_high</th>\n",
       "      <th>sd_high</th>\n",
       "      <th>sj_high</th>\n",
       "      <th>sf_high</th>\n",
       "      <th>sac_high</th>\n",
       "      <th>f_high</th>\n",
       "      <th>DOW</th>\n",
       "    </tr>\n",
       "  </thead>\n",
       "  <tbody>\n",
       "    <tr>\n",
       "      <th>2015-07-06</th>\n",
       "      <td>834762.0</td>\n",
       "      <td>13845790.0</td>\n",
       "      <td>76.53</td>\n",
       "      <td>69.43</td>\n",
       "      <td>79.45</td>\n",
       "      <td>68.22</td>\n",
       "      <td>91.88</td>\n",
       "      <td>95.83</td>\n",
       "      <td>0.0</td>\n",
       "    </tr>\n",
       "    <tr>\n",
       "      <th>2015-07-07</th>\n",
       "      <td>825173.0</td>\n",
       "      <td>13845790.0</td>\n",
       "      <td>77.05</td>\n",
       "      <td>69.61</td>\n",
       "      <td>79.38</td>\n",
       "      <td>68.29</td>\n",
       "      <td>90.67</td>\n",
       "      <td>92.31</td>\n",
       "      <td>1.0</td>\n",
       "    </tr>\n",
       "    <tr>\n",
       "      <th>2015-07-08</th>\n",
       "      <td>804819.0</td>\n",
       "      <td>13845790.0</td>\n",
       "      <td>73.90</td>\n",
       "      <td>70.08</td>\n",
       "      <td>74.78</td>\n",
       "      <td>64.59</td>\n",
       "      <td>86.60</td>\n",
       "      <td>91.83</td>\n",
       "      <td>2.0</td>\n",
       "    </tr>\n",
       "    <tr>\n",
       "      <th>2015-07-09</th>\n",
       "      <td>782610.0</td>\n",
       "      <td>13845790.0</td>\n",
       "      <td>74.22</td>\n",
       "      <td>71.30</td>\n",
       "      <td>74.00</td>\n",
       "      <td>63.23</td>\n",
       "      <td>78.27</td>\n",
       "      <td>88.91</td>\n",
       "      <td>3.0</td>\n",
       "    </tr>\n",
       "    <tr>\n",
       "      <th>2015-07-10</th>\n",
       "      <td>769752.0</td>\n",
       "      <td>13845790.0</td>\n",
       "      <td>74.57</td>\n",
       "      <td>73.32</td>\n",
       "      <td>73.66</td>\n",
       "      <td>68.02</td>\n",
       "      <td>78.92</td>\n",
       "      <td>82.60</td>\n",
       "      <td>4.0</td>\n",
       "    </tr>\n",
       "  </tbody>\n",
       "</table>\n",
       "</div>"
      ],
      "text/plain": [
       "            day_demand      CA_pop  la_high  sd_high  sj_high  sf_high  \\\n",
       "2015-07-06    834762.0  13845790.0    76.53    69.43    79.45    68.22   \n",
       "2015-07-07    825173.0  13845790.0    77.05    69.61    79.38    68.29   \n",
       "2015-07-08    804819.0  13845790.0    73.90    70.08    74.78    64.59   \n",
       "2015-07-09    782610.0  13845790.0    74.22    71.30    74.00    63.23   \n",
       "2015-07-10    769752.0  13845790.0    74.57    73.32    73.66    68.02   \n",
       "\n",
       "            sac_high  f_high  DOW  \n",
       "2015-07-06     91.88   95.83  0.0  \n",
       "2015-07-07     90.67   92.31  1.0  \n",
       "2015-07-08     86.60   91.83  2.0  \n",
       "2015-07-09     78.27   88.91  3.0  \n",
       "2015-07-10     78.92   82.60  4.0  "
      ]
     },
     "execution_count": 4,
     "metadata": {},
     "output_type": "execute_result"
    }
   ],
   "source": [
    "full_df = pd.read_csv(data_file, index_col=0)\n",
    "full_df.head()"
   ]
  },
  {
   "cell_type": "markdown",
   "metadata": {},
   "source": [
    "----\n",
    "\n",
    "#### <a id='clean_data'> 2.A Clean the data frame </a>\n",
    "\n",
    "----"
   ]
  },
  {
   "cell_type": "code",
   "execution_count": 5,
   "metadata": {},
   "outputs": [
    {
     "name": "stdout",
     "output_type": "stream",
     "text": [
      "<class 'pandas.core.frame.DataFrame'>\n",
      "DatetimeIndex: 852 entries, 2015-07-06 to 2017-11-03\n",
      "Data columns (total 9 columns):\n",
      " #   Column      Non-Null Count  Dtype  \n",
      "---  ------      --------------  -----  \n",
      " 0   day_demand  852 non-null    float64\n",
      " 1   CA_pop      852 non-null    float64\n",
      " 2   la_high     852 non-null    float64\n",
      " 3   sd_high     852 non-null    float64\n",
      " 4   sj_high     852 non-null    float64\n",
      " 5   sf_high     852 non-null    float64\n",
      " 6   sac_high    852 non-null    float64\n",
      " 7   f_high      852 non-null    float64\n",
      " 8   DOW         852 non-null    float64\n",
      "dtypes: float64(9)\n",
      "memory usage: 66.6 KB\n"
     ]
    }
   ],
   "source": [
    "# Convert the time string to a datetime object\n",
    "full_df.index = pd.DatetimeIndex(full_df.index)\n",
    "full_df.info()"
   ]
  },
  {
   "cell_type": "code",
   "execution_count": 6,
   "metadata": {},
   "outputs": [
    {
     "data": {
      "text/html": [
       "<div>\n",
       "<style scoped>\n",
       "    .dataframe tbody tr th:only-of-type {\n",
       "        vertical-align: middle;\n",
       "    }\n",
       "\n",
       "    .dataframe tbody tr th {\n",
       "        vertical-align: top;\n",
       "    }\n",
       "\n",
       "    .dataframe thead th {\n",
       "        text-align: right;\n",
       "    }\n",
       "</style>\n",
       "<table border=\"1\" class=\"dataframe\">\n",
       "  <thead>\n",
       "    <tr style=\"text-align: right;\">\n",
       "      <th></th>\n",
       "      <th>day_demand</th>\n",
       "      <th>CA_pop</th>\n",
       "      <th>la_high</th>\n",
       "      <th>sd_high</th>\n",
       "      <th>sj_high</th>\n",
       "      <th>sf_high</th>\n",
       "      <th>sac_high</th>\n",
       "      <th>f_high</th>\n",
       "      <th>DOW</th>\n",
       "    </tr>\n",
       "  </thead>\n",
       "  <tbody>\n",
       "    <tr>\n",
       "      <th>2015-07-06</th>\n",
       "      <td>834762.0</td>\n",
       "      <td>13845790.0</td>\n",
       "      <td>76.53</td>\n",
       "      <td>69.43</td>\n",
       "      <td>79.45</td>\n",
       "      <td>68.22</td>\n",
       "      <td>91.88</td>\n",
       "      <td>95.83</td>\n",
       "      <td>0.0</td>\n",
       "    </tr>\n",
       "    <tr>\n",
       "      <th>2015-07-07</th>\n",
       "      <td>825173.0</td>\n",
       "      <td>13845790.0</td>\n",
       "      <td>77.05</td>\n",
       "      <td>69.61</td>\n",
       "      <td>79.38</td>\n",
       "      <td>68.29</td>\n",
       "      <td>90.67</td>\n",
       "      <td>92.31</td>\n",
       "      <td>1.0</td>\n",
       "    </tr>\n",
       "    <tr>\n",
       "      <th>2015-07-08</th>\n",
       "      <td>804819.0</td>\n",
       "      <td>13845790.0</td>\n",
       "      <td>73.90</td>\n",
       "      <td>70.08</td>\n",
       "      <td>74.78</td>\n",
       "      <td>64.59</td>\n",
       "      <td>86.60</td>\n",
       "      <td>91.83</td>\n",
       "      <td>2.0</td>\n",
       "    </tr>\n",
       "    <tr>\n",
       "      <th>2015-07-09</th>\n",
       "      <td>782610.0</td>\n",
       "      <td>13845790.0</td>\n",
       "      <td>74.22</td>\n",
       "      <td>71.30</td>\n",
       "      <td>74.00</td>\n",
       "      <td>63.23</td>\n",
       "      <td>78.27</td>\n",
       "      <td>88.91</td>\n",
       "      <td>3.0</td>\n",
       "    </tr>\n",
       "    <tr>\n",
       "      <th>2015-07-10</th>\n",
       "      <td>769752.0</td>\n",
       "      <td>13845790.0</td>\n",
       "      <td>74.57</td>\n",
       "      <td>73.32</td>\n",
       "      <td>73.66</td>\n",
       "      <td>68.02</td>\n",
       "      <td>78.92</td>\n",
       "      <td>82.60</td>\n",
       "      <td>4.0</td>\n",
       "    </tr>\n",
       "  </tbody>\n",
       "</table>\n",
       "</div>"
      ],
      "text/plain": [
       "            day_demand      CA_pop  la_high  sd_high  sj_high  sf_high  \\\n",
       "2015-07-06    834762.0  13845790.0    76.53    69.43    79.45    68.22   \n",
       "2015-07-07    825173.0  13845790.0    77.05    69.61    79.38    68.29   \n",
       "2015-07-08    804819.0  13845790.0    73.90    70.08    74.78    64.59   \n",
       "2015-07-09    782610.0  13845790.0    74.22    71.30    74.00    63.23   \n",
       "2015-07-10    769752.0  13845790.0    74.57    73.32    73.66    68.02   \n",
       "\n",
       "            sac_high  f_high  DOW  \n",
       "2015-07-06     91.88   95.83  0.0  \n",
       "2015-07-07     90.67   92.31  1.0  \n",
       "2015-07-08     86.60   91.83  2.0  \n",
       "2015-07-09     78.27   88.91  3.0  \n",
       "2015-07-10     78.92   82.60  4.0  "
      ]
     },
     "execution_count": 6,
     "metadata": {},
     "output_type": "execute_result"
    }
   ],
   "source": [
    "full_df.head()"
   ]
  },
  {
   "cell_type": "markdown",
   "metadata": {},
   "source": [
    "#### <a id='extend_dow'>2B. Extending Exogenous Regressors To Include Day Of Week </a>"
   ]
  },
  {
   "cell_type": "code",
   "execution_count": 7,
   "metadata": {},
   "outputs": [
    {
     "data": {
      "text/html": [
       "<div>\n",
       "<style scoped>\n",
       "    .dataframe tbody tr th:only-of-type {\n",
       "        vertical-align: middle;\n",
       "    }\n",
       "\n",
       "    .dataframe tbody tr th {\n",
       "        vertical-align: top;\n",
       "    }\n",
       "\n",
       "    .dataframe thead th {\n",
       "        text-align: right;\n",
       "    }\n",
       "</style>\n",
       "<table border=\"1\" class=\"dataframe\">\n",
       "  <thead>\n",
       "    <tr style=\"text-align: right;\">\n",
       "      <th></th>\n",
       "      <th>day_demand</th>\n",
       "      <th>CA_pop</th>\n",
       "      <th>la_high</th>\n",
       "      <th>sd_high</th>\n",
       "      <th>sj_high</th>\n",
       "      <th>sf_high</th>\n",
       "      <th>sac_high</th>\n",
       "      <th>f_high</th>\n",
       "      <th>DOW</th>\n",
       "      <th>Mon</th>\n",
       "      <th>Tue</th>\n",
       "      <th>Wed</th>\n",
       "      <th>Thur</th>\n",
       "      <th>Fri</th>\n",
       "      <th>Sat</th>\n",
       "      <th>Sun</th>\n",
       "    </tr>\n",
       "  </thead>\n",
       "  <tbody>\n",
       "    <tr>\n",
       "      <th>2015-07-06</th>\n",
       "      <td>834762.0</td>\n",
       "      <td>13845790.0</td>\n",
       "      <td>76.53</td>\n",
       "      <td>69.43</td>\n",
       "      <td>79.45</td>\n",
       "      <td>68.22</td>\n",
       "      <td>91.88</td>\n",
       "      <td>95.83</td>\n",
       "      <td>0.0</td>\n",
       "      <td>1</td>\n",
       "      <td>0</td>\n",
       "      <td>0</td>\n",
       "      <td>0</td>\n",
       "      <td>0</td>\n",
       "      <td>0</td>\n",
       "      <td>0</td>\n",
       "    </tr>\n",
       "    <tr>\n",
       "      <th>2015-07-07</th>\n",
       "      <td>825173.0</td>\n",
       "      <td>13845790.0</td>\n",
       "      <td>77.05</td>\n",
       "      <td>69.61</td>\n",
       "      <td>79.38</td>\n",
       "      <td>68.29</td>\n",
       "      <td>90.67</td>\n",
       "      <td>92.31</td>\n",
       "      <td>1.0</td>\n",
       "      <td>0</td>\n",
       "      <td>1</td>\n",
       "      <td>0</td>\n",
       "      <td>0</td>\n",
       "      <td>0</td>\n",
       "      <td>0</td>\n",
       "      <td>0</td>\n",
       "    </tr>\n",
       "    <tr>\n",
       "      <th>2015-07-08</th>\n",
       "      <td>804819.0</td>\n",
       "      <td>13845790.0</td>\n",
       "      <td>73.90</td>\n",
       "      <td>70.08</td>\n",
       "      <td>74.78</td>\n",
       "      <td>64.59</td>\n",
       "      <td>86.60</td>\n",
       "      <td>91.83</td>\n",
       "      <td>2.0</td>\n",
       "      <td>0</td>\n",
       "      <td>0</td>\n",
       "      <td>1</td>\n",
       "      <td>0</td>\n",
       "      <td>0</td>\n",
       "      <td>0</td>\n",
       "      <td>0</td>\n",
       "    </tr>\n",
       "    <tr>\n",
       "      <th>2015-07-09</th>\n",
       "      <td>782610.0</td>\n",
       "      <td>13845790.0</td>\n",
       "      <td>74.22</td>\n",
       "      <td>71.30</td>\n",
       "      <td>74.00</td>\n",
       "      <td>63.23</td>\n",
       "      <td>78.27</td>\n",
       "      <td>88.91</td>\n",
       "      <td>3.0</td>\n",
       "      <td>0</td>\n",
       "      <td>0</td>\n",
       "      <td>0</td>\n",
       "      <td>1</td>\n",
       "      <td>0</td>\n",
       "      <td>0</td>\n",
       "      <td>0</td>\n",
       "    </tr>\n",
       "    <tr>\n",
       "      <th>2015-07-10</th>\n",
       "      <td>769752.0</td>\n",
       "      <td>13845790.0</td>\n",
       "      <td>74.57</td>\n",
       "      <td>73.32</td>\n",
       "      <td>73.66</td>\n",
       "      <td>68.02</td>\n",
       "      <td>78.92</td>\n",
       "      <td>82.60</td>\n",
       "      <td>4.0</td>\n",
       "      <td>0</td>\n",
       "      <td>0</td>\n",
       "      <td>0</td>\n",
       "      <td>0</td>\n",
       "      <td>1</td>\n",
       "      <td>0</td>\n",
       "      <td>0</td>\n",
       "    </tr>\n",
       "  </tbody>\n",
       "</table>\n",
       "</div>"
      ],
      "text/plain": [
       "            day_demand      CA_pop  la_high  sd_high  sj_high  sf_high  \\\n",
       "2015-07-06    834762.0  13845790.0    76.53    69.43    79.45    68.22   \n",
       "2015-07-07    825173.0  13845790.0    77.05    69.61    79.38    68.29   \n",
       "2015-07-08    804819.0  13845790.0    73.90    70.08    74.78    64.59   \n",
       "2015-07-09    782610.0  13845790.0    74.22    71.30    74.00    63.23   \n",
       "2015-07-10    769752.0  13845790.0    74.57    73.32    73.66    68.02   \n",
       "\n",
       "            sac_high  f_high  DOW  Mon  Tue  Wed  Thur  Fri  Sat  Sun  \n",
       "2015-07-06     91.88   95.83  0.0    1    0    0     0    0    0    0  \n",
       "2015-07-07     90.67   92.31  1.0    0    1    0     0    0    0    0  \n",
       "2015-07-08     86.60   91.83  2.0    0    0    1     0    0    0    0  \n",
       "2015-07-09     78.27   88.91  3.0    0    0    0     1    0    0    0  \n",
       "2015-07-10     78.92   82.60  4.0    0    0    0     0    1    0    0  "
      ]
     },
     "execution_count": 7,
     "metadata": {},
     "output_type": "execute_result"
    }
   ],
   "source": [
    "days = full_df['DOW']\n",
    "days_df = pd.get_dummies(days)\n",
    "days_df.columns=['Mon', 'Tue', 'Wed', 'Thur', 'Fri', 'Sat', 'Sun']\n",
    "days_df.index = full_df.index\n",
    "new_df = pd.concat([full_df, days_df], axis=1)\n",
    "col_names = []\n",
    "col_names.extend(full_df.columns)\n",
    "col_names.extend(days_df.columns)\n",
    "new_df.columns = col_names\n",
    "new_df.head()"
   ]
  },
  {
   "cell_type": "markdown",
   "metadata": {},
   "source": [
    "----\n",
    "----\n",
    "### <a id='walk_forward_val'>3. Walk Forward Validation</a>\n",
    "----"
   ]
  },
  {
   "cell_type": "code",
   "execution_count": 8,
   "metadata": {},
   "outputs": [],
   "source": [
    "# Create a log demand column for the sarimax model\n",
    "full_df['log_demand'] = np.log(full_df['day_demand'])\n",
    "\n",
    "# Create the date series and the demand columns for the prophet model\n",
    "full_df['ds'] = full_df.index\n",
    "full_df['y'] = full_df['day_demand']"
   ]
  },
  {
   "cell_type": "markdown",
   "metadata": {},
   "source": [
    "----\n",
    "\n",
    "#### <a id='walk_forward_sarimax'> 3A. SARIMAX Walk Forward Validation</a>\n",
    "\n",
    "----"
   ]
  },
  {
   "cell_type": "code",
   "execution_count": 9,
   "metadata": {
    "scrolled": true
   },
   "outputs": [
    {
     "name": "stdout",
     "output_type": "stream",
     "text": [
      "Step 1 starting at index 432\n",
      "Step 2 starting at index 453\n",
      "Step 3 starting at index 474\n",
      "Step 4 starting at index 495\n",
      "Step 5 starting at index 516\n",
      "Step 6 starting at index 537\n",
      "Step 7 starting at index 558\n",
      "Step 8 starting at index 579\n",
      "Step 9 starting at index 600\n",
      "Step 10 starting at index 621\n",
      "Step 11 starting at index 642\n",
      "Step 12 starting at index 663\n",
      "Step 13 starting at index 684\n",
      "Step 14 starting at index 705\n",
      "Step 15 starting at index 726\n",
      "Step 16 starting at index 747\n",
      "Step 17 starting at index 768\n",
      "Step 18 starting at index 789\n",
      "Step 19 starting at index 810\n",
      "Step 20 starting at index 831\n"
     ]
    }
   ],
   "source": [
    "exog_columns = ['la_high','f_high']\n",
    "results = sarimax_walk_forward_val(full_df, 432, 21, exog_columns, 20)"
   ]
  },
  {
   "cell_type": "markdown",
   "metadata": {},
   "source": [
    "----\n",
    "\n",
    "#### <a id='walk_forward_prophet'> 3B. Prophet Walk Forward Validation</a>\n",
    "\n",
    "----"
   ]
  },
  {
   "cell_type": "code",
   "execution_count": 10,
   "metadata": {
    "scrolled": false
   },
   "outputs": [
    {
     "name": "stdout",
     "output_type": "stream",
     "text": [
      "Step 1 starting at index 432\n"
     ]
    },
    {
     "name": "stderr",
     "output_type": "stream",
     "text": [
      "INFO:numexpr.utils:NumExpr defaulting to 4 threads.\n",
      "INFO:fbprophet:Disabling daily seasonality. Run prophet with daily_seasonality=True to override this.\n",
      "INFO:fbprophet:Disabling daily seasonality. Run prophet with daily_seasonality=True to override this.\n"
     ]
    },
    {
     "name": "stdout",
     "output_type": "stream",
     "text": [
      "2016-09-10T00:00:00.000000000 2016-09-10T00:00:00.000000000\n",
      "Step 2 starting at index 453\n"
     ]
    },
    {
     "name": "stderr",
     "output_type": "stream",
     "text": [
      "INFO:fbprophet:Disabling daily seasonality. Run prophet with daily_seasonality=True to override this.\n"
     ]
    },
    {
     "name": "stdout",
     "output_type": "stream",
     "text": [
      "2016-10-01T00:00:00.000000000 2016-10-01T00:00:00.000000000\n",
      "Step 3 starting at index 474\n"
     ]
    },
    {
     "name": "stderr",
     "output_type": "stream",
     "text": [
      "INFO:fbprophet:Disabling daily seasonality. Run prophet with daily_seasonality=True to override this.\n"
     ]
    },
    {
     "name": "stdout",
     "output_type": "stream",
     "text": [
      "2016-10-22T00:00:00.000000000 2016-10-22T00:00:00.000000000\n",
      "Step 4 starting at index 495\n"
     ]
    },
    {
     "name": "stderr",
     "output_type": "stream",
     "text": [
      "INFO:fbprophet:Disabling daily seasonality. Run prophet with daily_seasonality=True to override this.\n"
     ]
    },
    {
     "name": "stdout",
     "output_type": "stream",
     "text": [
      "2016-11-12T00:00:00.000000000 2016-11-12T00:00:00.000000000\n",
      "Step 5 starting at index 516\n"
     ]
    },
    {
     "name": "stderr",
     "output_type": "stream",
     "text": [
      "INFO:fbprophet:Disabling daily seasonality. Run prophet with daily_seasonality=True to override this.\n"
     ]
    },
    {
     "name": "stdout",
     "output_type": "stream",
     "text": [
      "2016-12-03T00:00:00.000000000 2016-12-03T00:00:00.000000000\n",
      "Step 6 starting at index 537\n"
     ]
    },
    {
     "name": "stderr",
     "output_type": "stream",
     "text": [
      "INFO:fbprophet:Disabling daily seasonality. Run prophet with daily_seasonality=True to override this.\n"
     ]
    },
    {
     "name": "stdout",
     "output_type": "stream",
     "text": [
      "2016-12-24T00:00:00.000000000 2016-12-24T00:00:00.000000000\n",
      "Step 7 starting at index 558\n"
     ]
    },
    {
     "name": "stderr",
     "output_type": "stream",
     "text": [
      "INFO:fbprophet:Disabling daily seasonality. Run prophet with daily_seasonality=True to override this.\n"
     ]
    },
    {
     "name": "stdout",
     "output_type": "stream",
     "text": [
      "2017-01-14T00:00:00.000000000 2017-01-14T00:00:00.000000000\n",
      "Step 8 starting at index 579\n"
     ]
    },
    {
     "name": "stderr",
     "output_type": "stream",
     "text": [
      "INFO:fbprophet:Disabling daily seasonality. Run prophet with daily_seasonality=True to override this.\n"
     ]
    },
    {
     "name": "stdout",
     "output_type": "stream",
     "text": [
      "2017-02-04T00:00:00.000000000 2017-02-04T00:00:00.000000000\n",
      "Step 9 starting at index 600\n"
     ]
    },
    {
     "name": "stderr",
     "output_type": "stream",
     "text": [
      "INFO:fbprophet:Disabling daily seasonality. Run prophet with daily_seasonality=True to override this.\n"
     ]
    },
    {
     "name": "stdout",
     "output_type": "stream",
     "text": [
      "2017-02-25T00:00:00.000000000 2017-02-25T00:00:00.000000000\n",
      "Step 10 starting at index 621\n"
     ]
    },
    {
     "name": "stderr",
     "output_type": "stream",
     "text": [
      "INFO:fbprophet:Disabling daily seasonality. Run prophet with daily_seasonality=True to override this.\n"
     ]
    },
    {
     "name": "stdout",
     "output_type": "stream",
     "text": [
      "2017-03-18T00:00:00.000000000 2017-03-18T00:00:00.000000000\n",
      "Step 11 starting at index 642\n"
     ]
    },
    {
     "name": "stderr",
     "output_type": "stream",
     "text": [
      "INFO:fbprophet:Disabling daily seasonality. Run prophet with daily_seasonality=True to override this.\n"
     ]
    },
    {
     "name": "stdout",
     "output_type": "stream",
     "text": [
      "2017-04-08T00:00:00.000000000 2017-04-08T00:00:00.000000000\n",
      "Step 12 starting at index 663\n"
     ]
    },
    {
     "name": "stderr",
     "output_type": "stream",
     "text": [
      "INFO:fbprophet:Disabling daily seasonality. Run prophet with daily_seasonality=True to override this.\n"
     ]
    },
    {
     "name": "stdout",
     "output_type": "stream",
     "text": [
      "2017-04-29T00:00:00.000000000 2017-04-29T00:00:00.000000000\n",
      "Step 13 starting at index 684\n"
     ]
    },
    {
     "name": "stderr",
     "output_type": "stream",
     "text": [
      "INFO:fbprophet:Disabling daily seasonality. Run prophet with daily_seasonality=True to override this.\n"
     ]
    },
    {
     "name": "stdout",
     "output_type": "stream",
     "text": [
      "2017-05-20T00:00:00.000000000 2017-05-20T00:00:00.000000000\n",
      "Step 14 starting at index 705\n"
     ]
    },
    {
     "name": "stderr",
     "output_type": "stream",
     "text": [
      "INFO:fbprophet:Disabling daily seasonality. Run prophet with daily_seasonality=True to override this.\n"
     ]
    },
    {
     "name": "stdout",
     "output_type": "stream",
     "text": [
      "2017-06-10T00:00:00.000000000 2017-06-10T00:00:00.000000000\n",
      "Step 15 starting at index 726\n"
     ]
    },
    {
     "name": "stderr",
     "output_type": "stream",
     "text": [
      "INFO:fbprophet:Disabling daily seasonality. Run prophet with daily_seasonality=True to override this.\n"
     ]
    },
    {
     "name": "stdout",
     "output_type": "stream",
     "text": [
      "2017-07-01T00:00:00.000000000 2017-07-01T00:00:00.000000000\n",
      "Step 16 starting at index 747\n"
     ]
    },
    {
     "name": "stderr",
     "output_type": "stream",
     "text": [
      "INFO:fbprophet:Disabling daily seasonality. Run prophet with daily_seasonality=True to override this.\n"
     ]
    },
    {
     "name": "stdout",
     "output_type": "stream",
     "text": [
      "2017-07-22T00:00:00.000000000 2017-07-22T00:00:00.000000000\n",
      "Step 17 starting at index 768\n"
     ]
    },
    {
     "name": "stderr",
     "output_type": "stream",
     "text": [
      "INFO:fbprophet:Disabling daily seasonality. Run prophet with daily_seasonality=True to override this.\n"
     ]
    },
    {
     "name": "stdout",
     "output_type": "stream",
     "text": [
      "2017-08-12T00:00:00.000000000 2017-08-12T00:00:00.000000000\n",
      "Step 18 starting at index 789\n"
     ]
    },
    {
     "name": "stderr",
     "output_type": "stream",
     "text": [
      "INFO:fbprophet:Disabling daily seasonality. Run prophet with daily_seasonality=True to override this.\n"
     ]
    },
    {
     "name": "stdout",
     "output_type": "stream",
     "text": [
      "2017-09-02T00:00:00.000000000 2017-09-02T00:00:00.000000000\n",
      "Step 19 starting at index 810\n"
     ]
    },
    {
     "name": "stderr",
     "output_type": "stream",
     "text": [
      "INFO:fbprophet:Disabling daily seasonality. Run prophet with daily_seasonality=True to override this.\n"
     ]
    },
    {
     "name": "stdout",
     "output_type": "stream",
     "text": [
      "2017-09-23T00:00:00.000000000 2017-09-23T00:00:00.000000000\n",
      "Step 20 starting at index 831\n",
      "2017-10-14T00:00:00.000000000 2017-10-14T00:00:00.000000000\n"
     ]
    }
   ],
   "source": [
    "exog_columns = ['CA_pop', 'la_high', 'sd_high', 'f_high', 'sj_high', 'sf_high', 'sac_high']\n",
    "results_prophet = prophet_walk_forward_val(full_df, 432, 21, exog_columns, 20)"
   ]
  },
  {
   "cell_type": "markdown",
   "metadata": {},
   "source": [
    "----\n",
    "\n",
    "### <a id='results_plot'> 4. Validation Results</a>\n",
    "\n",
    "----"
   ]
  },
  {
   "cell_type": "code",
   "execution_count": 11,
   "metadata": {},
   "outputs": [
    {
     "name": "stderr",
     "output_type": "stream",
     "text": [
      "WARNING:matplotlib.legend:No handles with labels found to put in legend.\n"
     ]
    },
    {
     "data": {
      "image/png": "[encoded data removed]",
      "text/plain": [
       "<Figure size 1296x792 with 1 Axes>"
      ]
     },
     "metadata": {
      "needs_background": "light"
     },
     "output_type": "display_data"
    }
   ],
   "source": [
    "# Plot the validation results for both models\n",
    "fig = plt.figure(figsize=[18,11])\n",
    "\n",
    "# These lines help make a transparent background for plot files\n",
    "fig.patch.set_alpha(0.0)\n",
    "fig.patch.set_facecolor(None)\n",
    "\n",
    "ax = fig.add_subplot(1,1,1)\n",
    "ax.patch.set_visible(False)\n",
    "ax.set_alpha(0.0)\n",
    "\n",
    "plt.plot(facecolor=('#000000'), alpha=0.0)\n",
    "\n",
    "# These definitions help keep font sizing consistent\n",
    "SMALL_SIZE = 18\n",
    "MEDIUM_SIZE = 24\n",
    "BIGGER_SIZE = 30\n",
    "\n",
    "plt.rc('font', size=SMALL_SIZE)          # controls default text sizes\n",
    "plt.rc('axes', titlesize=SMALL_SIZE)     # fontsize of the axes title\n",
    "plt.rc('axes', labelsize=MEDIUM_SIZE)    # fontsize of the x and y labels\n",
    "plt.rc('xtick', labelsize=SMALL_SIZE)    # fontsize of the tick labels\n",
    "plt.rc('ytick', labelsize=SMALL_SIZE)    # fontsize of the tick labels\n",
    "plt.rc('legend', fontsize=SMALL_SIZE)    # legend fontsize\n",
    "plt.rc('figure', titlesize=BIGGER_SIZE)  # fontsize of the figure title\n",
    "\n",
    "#plt.title('Walk Forward Validation\\n', fontsize=18)\n",
    "plt.xlabel('\\nValidation Step')\n",
    "plt.ylabel('MAPE (%)\\n')\n",
    "plt.legend(loc='lower right')\n",
    "\n",
    "# Plot the results for the prophet model\n",
    "prophet_results_x = [x[0].date() for x in results_prophet]\n",
    "prophet_results_x = pd.DatetimeIndex(prophet_results_x)\n",
    "\n",
    "xticks = prophet_results_x[4::5]\n",
    "xlabels = ['5', '10', '15', '20', '10','12']\n",
    "plt.xticks(xticks, xlabels, rotation=45)\n",
    "plt.yticks([5, 10, 15, 20, 25], ['5', '10', '15', '20', '25'])\n",
    "\n",
    "prophet_results_y = [x[1] for x in results_prophet]\n",
    "prophet_timestamps = [x[0].timestamp() for x in results_prophet]\n",
    "plt.plot(prophet_results_x, prophet_results_y, label='Prophet', c='cornflowerblue', linewidth=5)\n",
    "\n",
    "\n",
    "# Plot the SARIMAX validation results\n",
    "sarima_results_x = [x[0].date() for x in results]\n",
    "sarima_results_y = [x[1] for x in results]\n",
    "sarima_timestamps = [x[0].timestamp() for x in results]\n",
    "\n",
    "plt.plot(sarima_results_x, sarima_results_y,label='Sarimax', c='orange', linewidth=5)\n",
    "leg = plt.legend(loc='lower right', facecolor=None)\n",
    "leg.get_frame().set_alpha(0.0)\n",
    "\n",
    "# Save the figure for presentations\n",
    "plt.savefig('walk_validation_errors.png', Transparent=True)\n"
   ]
  },
  {
   "cell_type": "code",
   "execution_count": null,
   "metadata": {},
   "outputs": [],
   "source": []
  }
 ],
 "metadata": {
  "kernelspec": {
   "display_name": "Python 3",
   "language": "python",
   "name": "python3"
  },
  "language_info": {
   "codemirror_mode": {
    "name": "ipython",
    "version": 3
   },
   "file_extension": ".py",
   "mimetype": "text/x-python",
   "name": "python",
   "nbconvert_exporter": "python",
   "pygments_lexer": "ipython3",
   "version": "3.7.6"
  }
 },
 "nbformat": 4,
 "nbformat_minor": 4
}
