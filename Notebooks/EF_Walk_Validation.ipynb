{
 "cells": [
  {
   "cell_type": "markdown",
   "metadata": {},
   "source": [
    "# Electricity Demand Forecasting\n",
    "\n",
    "## <table id='Table_Of_Contents'>Table Of Contents</table>\n",
    "\n",
    "1. [Import Modules](#import)<br>\n",
    "2. [Read Data File](#read_data)<br>\n",
    "    1. [Clean Data Frame](#clean_data)<br>\n",
    "    2. [Data Split](#data_split)<br>\n",
    "\n",
    "\n"
   ]
  },
  {
   "cell_type": "markdown",
   "metadata": {},
   "source": [
    "### <a id='import'> 1. Import Modules</a>"
   ]
  },
  {
   "cell_type": "code",
   "execution_count": 101,
   "metadata": {},
   "outputs": [],
   "source": [
    "import pandas as pd\n",
    "import numpy as np\n",
    "import re\n",
    "\n",
    "import json\n",
    "import datetime\n",
    "\n",
    "\n",
    "from statsmodels.graphics.tsaplots import plot_acf,plot_pacf \n",
    "from statsmodels.tsa.seasonal import seasonal_decompose\n",
    "\n",
    "from sklearn.preprocessing import StandardScaler\n",
    "\n",
    "#from pmdarima import auto_arima\n",
    "\n",
    "from sklearn.metrics import mean_squared_error\n",
    "from statsmodels.tools.eval_measures import rmse\n",
    "\n",
    "import pickle\n",
    "import warnings\n",
    "\n",
    "from dateutil import parser\n",
    "\n",
    "import matplotlib.pyplot as plt\n",
    "\n",
    "from statsmodels.tsa.statespace.sarimax import SARIMAX\n",
    "from statsmodels.tsa.arima.model import ARIMA\n",
    "import statsmodels.tsa.statespace.mlemodel\n",
    "from fbprophet import Prophet"
   ]
  },
  {
   "cell_type": "code",
   "execution_count": 102,
   "metadata": {},
   "outputs": [],
   "source": [
    "warnings.filterwarnings('ignore')"
   ]
  },
  {
   "cell_type": "markdown",
   "metadata": {
    "toc-hr-collapsed": true
   },
   "source": [
    "### 2. Data Import <a id='read_data'></a>"
   ]
  },
  {
   "cell_type": "code",
   "execution_count": 103,
   "metadata": {},
   "outputs": [],
   "source": [
    "data_file = '../data/big_demand_temp_train_by_day.csv'"
   ]
  },
  {
   "cell_type": "code",
   "execution_count": 104,
   "metadata": {},
   "outputs": [
    {
     "data": {
      "text/html": [
       "<div>\n",
       "<style scoped>\n",
       "    .dataframe tbody tr th:only-of-type {\n",
       "        vertical-align: middle;\n",
       "    }\n",
       "\n",
       "    .dataframe tbody tr th {\n",
       "        vertical-align: top;\n",
       "    }\n",
       "\n",
       "    .dataframe thead th {\n",
       "        text-align: right;\n",
       "    }\n",
       "</style>\n",
       "<table border=\"1\" class=\"dataframe\">\n",
       "  <thead>\n",
       "    <tr style=\"text-align: right;\">\n",
       "      <th></th>\n",
       "      <th>day_demand</th>\n",
       "      <th>CA_pop</th>\n",
       "      <th>la_high</th>\n",
       "      <th>sd_high</th>\n",
       "      <th>sj_high</th>\n",
       "      <th>sf_high</th>\n",
       "      <th>sac_high</th>\n",
       "      <th>f_high</th>\n",
       "      <th>DOW</th>\n",
       "    </tr>\n",
       "  </thead>\n",
       "  <tbody>\n",
       "    <tr>\n",
       "      <th>2015-07-06</th>\n",
       "      <td>834762.0</td>\n",
       "      <td>13845790.0</td>\n",
       "      <td>76.53</td>\n",
       "      <td>69.43</td>\n",
       "      <td>79.45</td>\n",
       "      <td>68.22</td>\n",
       "      <td>91.88</td>\n",
       "      <td>95.83</td>\n",
       "      <td>0.0</td>\n",
       "    </tr>\n",
       "    <tr>\n",
       "      <th>2015-07-07</th>\n",
       "      <td>825173.0</td>\n",
       "      <td>13845790.0</td>\n",
       "      <td>77.05</td>\n",
       "      <td>69.61</td>\n",
       "      <td>79.38</td>\n",
       "      <td>68.29</td>\n",
       "      <td>90.67</td>\n",
       "      <td>92.31</td>\n",
       "      <td>1.0</td>\n",
       "    </tr>\n",
       "    <tr>\n",
       "      <th>2015-07-08</th>\n",
       "      <td>804819.0</td>\n",
       "      <td>13845790.0</td>\n",
       "      <td>73.90</td>\n",
       "      <td>70.08</td>\n",
       "      <td>74.78</td>\n",
       "      <td>64.59</td>\n",
       "      <td>86.60</td>\n",
       "      <td>91.83</td>\n",
       "      <td>2.0</td>\n",
       "    </tr>\n",
       "    <tr>\n",
       "      <th>2015-07-09</th>\n",
       "      <td>782610.0</td>\n",
       "      <td>13845790.0</td>\n",
       "      <td>74.22</td>\n",
       "      <td>71.30</td>\n",
       "      <td>74.00</td>\n",
       "      <td>63.23</td>\n",
       "      <td>78.27</td>\n",
       "      <td>88.91</td>\n",
       "      <td>3.0</td>\n",
       "    </tr>\n",
       "    <tr>\n",
       "      <th>2015-07-10</th>\n",
       "      <td>769752.0</td>\n",
       "      <td>13845790.0</td>\n",
       "      <td>74.57</td>\n",
       "      <td>73.32</td>\n",
       "      <td>73.66</td>\n",
       "      <td>68.02</td>\n",
       "      <td>78.92</td>\n",
       "      <td>82.60</td>\n",
       "      <td>4.0</td>\n",
       "    </tr>\n",
       "  </tbody>\n",
       "</table>\n",
       "</div>"
      ],
      "text/plain": [
       "            day_demand      CA_pop  la_high  sd_high  sj_high  sf_high  \\\n",
       "2015-07-06    834762.0  13845790.0    76.53    69.43    79.45    68.22   \n",
       "2015-07-07    825173.0  13845790.0    77.05    69.61    79.38    68.29   \n",
       "2015-07-08    804819.0  13845790.0    73.90    70.08    74.78    64.59   \n",
       "2015-07-09    782610.0  13845790.0    74.22    71.30    74.00    63.23   \n",
       "2015-07-10    769752.0  13845790.0    74.57    73.32    73.66    68.02   \n",
       "\n",
       "            sac_high  f_high  DOW  \n",
       "2015-07-06     91.88   95.83  0.0  \n",
       "2015-07-07     90.67   92.31  1.0  \n",
       "2015-07-08     86.60   91.83  2.0  \n",
       "2015-07-09     78.27   88.91  3.0  \n",
       "2015-07-10     78.92   82.60  4.0  "
      ]
     },
     "execution_count": 104,
     "metadata": {},
     "output_type": "execute_result"
    }
   ],
   "source": [
    "full_df = pd.read_csv(data_file, index_col=0)\n",
    "full_df.head()"
   ]
  },
  {
   "cell_type": "markdown",
   "metadata": {},
   "source": [
    "#### 2.A Clean the data frame <a id='clean_data'></a>"
   ]
  },
  {
   "cell_type": "code",
   "execution_count": 105,
   "metadata": {},
   "outputs": [
    {
     "name": "stdout",
     "output_type": "stream",
     "text": [
      "<class 'pandas.core.frame.DataFrame'>\n",
      "DatetimeIndex: 852 entries, 2015-07-06 to 2017-11-03\n",
      "Data columns (total 9 columns):\n",
      "day_demand    852 non-null float64\n",
      "CA_pop        852 non-null float64\n",
      "la_high       852 non-null float64\n",
      "sd_high       852 non-null float64\n",
      "sj_high       852 non-null float64\n",
      "sf_high       852 non-null float64\n",
      "sac_high      852 non-null float64\n",
      "f_high        852 non-null float64\n",
      "DOW           852 non-null float64\n",
      "dtypes: float64(9)\n",
      "memory usage: 66.6 KB\n"
     ]
    }
   ],
   "source": [
    "# Convert the time string to a datetime object\n",
    "full_df.index = pd.DatetimeIndex(full_df.index)\n",
    "full_df.info()"
   ]
  },
  {
   "cell_type": "code",
   "execution_count": 106,
   "metadata": {},
   "outputs": [
    {
     "data": {
      "text/html": [
       "<div>\n",
       "<style scoped>\n",
       "    .dataframe tbody tr th:only-of-type {\n",
       "        vertical-align: middle;\n",
       "    }\n",
       "\n",
       "    .dataframe tbody tr th {\n",
       "        vertical-align: top;\n",
       "    }\n",
       "\n",
       "    .dataframe thead th {\n",
       "        text-align: right;\n",
       "    }\n",
       "</style>\n",
       "<table border=\"1\" class=\"dataframe\">\n",
       "  <thead>\n",
       "    <tr style=\"text-align: right;\">\n",
       "      <th></th>\n",
       "      <th>day_demand</th>\n",
       "      <th>CA_pop</th>\n",
       "      <th>la_high</th>\n",
       "      <th>sd_high</th>\n",
       "      <th>sj_high</th>\n",
       "      <th>sf_high</th>\n",
       "      <th>sac_high</th>\n",
       "      <th>f_high</th>\n",
       "      <th>DOW</th>\n",
       "    </tr>\n",
       "  </thead>\n",
       "  <tbody>\n",
       "    <tr>\n",
       "      <th>2015-07-06</th>\n",
       "      <td>834762.0</td>\n",
       "      <td>13845790.0</td>\n",
       "      <td>76.53</td>\n",
       "      <td>69.43</td>\n",
       "      <td>79.45</td>\n",
       "      <td>68.22</td>\n",
       "      <td>91.88</td>\n",
       "      <td>95.83</td>\n",
       "      <td>0.0</td>\n",
       "    </tr>\n",
       "    <tr>\n",
       "      <th>2015-07-07</th>\n",
       "      <td>825173.0</td>\n",
       "      <td>13845790.0</td>\n",
       "      <td>77.05</td>\n",
       "      <td>69.61</td>\n",
       "      <td>79.38</td>\n",
       "      <td>68.29</td>\n",
       "      <td>90.67</td>\n",
       "      <td>92.31</td>\n",
       "      <td>1.0</td>\n",
       "    </tr>\n",
       "    <tr>\n",
       "      <th>2015-07-08</th>\n",
       "      <td>804819.0</td>\n",
       "      <td>13845790.0</td>\n",
       "      <td>73.90</td>\n",
       "      <td>70.08</td>\n",
       "      <td>74.78</td>\n",
       "      <td>64.59</td>\n",
       "      <td>86.60</td>\n",
       "      <td>91.83</td>\n",
       "      <td>2.0</td>\n",
       "    </tr>\n",
       "    <tr>\n",
       "      <th>2015-07-09</th>\n",
       "      <td>782610.0</td>\n",
       "      <td>13845790.0</td>\n",
       "      <td>74.22</td>\n",
       "      <td>71.30</td>\n",
       "      <td>74.00</td>\n",
       "      <td>63.23</td>\n",
       "      <td>78.27</td>\n",
       "      <td>88.91</td>\n",
       "      <td>3.0</td>\n",
       "    </tr>\n",
       "    <tr>\n",
       "      <th>2015-07-10</th>\n",
       "      <td>769752.0</td>\n",
       "      <td>13845790.0</td>\n",
       "      <td>74.57</td>\n",
       "      <td>73.32</td>\n",
       "      <td>73.66</td>\n",
       "      <td>68.02</td>\n",
       "      <td>78.92</td>\n",
       "      <td>82.60</td>\n",
       "      <td>4.0</td>\n",
       "    </tr>\n",
       "  </tbody>\n",
       "</table>\n",
       "</div>"
      ],
      "text/plain": [
       "            day_demand      CA_pop  la_high  sd_high  sj_high  sf_high  \\\n",
       "2015-07-06    834762.0  13845790.0    76.53    69.43    79.45    68.22   \n",
       "2015-07-07    825173.0  13845790.0    77.05    69.61    79.38    68.29   \n",
       "2015-07-08    804819.0  13845790.0    73.90    70.08    74.78    64.59   \n",
       "2015-07-09    782610.0  13845790.0    74.22    71.30    74.00    63.23   \n",
       "2015-07-10    769752.0  13845790.0    74.57    73.32    73.66    68.02   \n",
       "\n",
       "            sac_high  f_high  DOW  \n",
       "2015-07-06     91.88   95.83  0.0  \n",
       "2015-07-07     90.67   92.31  1.0  \n",
       "2015-07-08     86.60   91.83  2.0  \n",
       "2015-07-09     78.27   88.91  3.0  \n",
       "2015-07-10     78.92   82.60  4.0  "
      ]
     },
     "execution_count": 106,
     "metadata": {},
     "output_type": "execute_result"
    }
   ],
   "source": [
    "full_df.head()"
   ]
  },
  {
   "cell_type": "markdown",
   "metadata": {},
   "source": [
    "#### 2.B Extending Exogenous Regressors To Include Day Of Week <a id='extend_dow'></a>"
   ]
  },
  {
   "cell_type": "code",
   "execution_count": 107,
   "metadata": {},
   "outputs": [
    {
     "data": {
      "text/html": [
       "<div>\n",
       "<style scoped>\n",
       "    .dataframe tbody tr th:only-of-type {\n",
       "        vertical-align: middle;\n",
       "    }\n",
       "\n",
       "    .dataframe tbody tr th {\n",
       "        vertical-align: top;\n",
       "    }\n",
       "\n",
       "    .dataframe thead th {\n",
       "        text-align: right;\n",
       "    }\n",
       "</style>\n",
       "<table border=\"1\" class=\"dataframe\">\n",
       "  <thead>\n",
       "    <tr style=\"text-align: right;\">\n",
       "      <th></th>\n",
       "      <th>day_demand</th>\n",
       "      <th>CA_pop</th>\n",
       "      <th>la_high</th>\n",
       "      <th>sd_high</th>\n",
       "      <th>sj_high</th>\n",
       "      <th>sf_high</th>\n",
       "      <th>sac_high</th>\n",
       "      <th>f_high</th>\n",
       "      <th>DOW</th>\n",
       "      <th>Mon</th>\n",
       "      <th>Tue</th>\n",
       "      <th>Wed</th>\n",
       "      <th>Thur</th>\n",
       "      <th>Fri</th>\n",
       "      <th>Sat</th>\n",
       "      <th>Sun</th>\n",
       "    </tr>\n",
       "  </thead>\n",
       "  <tbody>\n",
       "    <tr>\n",
       "      <th>2015-07-06</th>\n",
       "      <td>834762.0</td>\n",
       "      <td>13845790.0</td>\n",
       "      <td>76.53</td>\n",
       "      <td>69.43</td>\n",
       "      <td>79.45</td>\n",
       "      <td>68.22</td>\n",
       "      <td>91.88</td>\n",
       "      <td>95.83</td>\n",
       "      <td>0.0</td>\n",
       "      <td>1</td>\n",
       "      <td>0</td>\n",
       "      <td>0</td>\n",
       "      <td>0</td>\n",
       "      <td>0</td>\n",
       "      <td>0</td>\n",
       "      <td>0</td>\n",
       "    </tr>\n",
       "    <tr>\n",
       "      <th>2015-07-07</th>\n",
       "      <td>825173.0</td>\n",
       "      <td>13845790.0</td>\n",
       "      <td>77.05</td>\n",
       "      <td>69.61</td>\n",
       "      <td>79.38</td>\n",
       "      <td>68.29</td>\n",
       "      <td>90.67</td>\n",
       "      <td>92.31</td>\n",
       "      <td>1.0</td>\n",
       "      <td>0</td>\n",
       "      <td>1</td>\n",
       "      <td>0</td>\n",
       "      <td>0</td>\n",
       "      <td>0</td>\n",
       "      <td>0</td>\n",
       "      <td>0</td>\n",
       "    </tr>\n",
       "    <tr>\n",
       "      <th>2015-07-08</th>\n",
       "      <td>804819.0</td>\n",
       "      <td>13845790.0</td>\n",
       "      <td>73.90</td>\n",
       "      <td>70.08</td>\n",
       "      <td>74.78</td>\n",
       "      <td>64.59</td>\n",
       "      <td>86.60</td>\n",
       "      <td>91.83</td>\n",
       "      <td>2.0</td>\n",
       "      <td>0</td>\n",
       "      <td>0</td>\n",
       "      <td>1</td>\n",
       "      <td>0</td>\n",
       "      <td>0</td>\n",
       "      <td>0</td>\n",
       "      <td>0</td>\n",
       "    </tr>\n",
       "    <tr>\n",
       "      <th>2015-07-09</th>\n",
       "      <td>782610.0</td>\n",
       "      <td>13845790.0</td>\n",
       "      <td>74.22</td>\n",
       "      <td>71.30</td>\n",
       "      <td>74.00</td>\n",
       "      <td>63.23</td>\n",
       "      <td>78.27</td>\n",
       "      <td>88.91</td>\n",
       "      <td>3.0</td>\n",
       "      <td>0</td>\n",
       "      <td>0</td>\n",
       "      <td>0</td>\n",
       "      <td>1</td>\n",
       "      <td>0</td>\n",
       "      <td>0</td>\n",
       "      <td>0</td>\n",
       "    </tr>\n",
       "    <tr>\n",
       "      <th>2015-07-10</th>\n",
       "      <td>769752.0</td>\n",
       "      <td>13845790.0</td>\n",
       "      <td>74.57</td>\n",
       "      <td>73.32</td>\n",
       "      <td>73.66</td>\n",
       "      <td>68.02</td>\n",
       "      <td>78.92</td>\n",
       "      <td>82.60</td>\n",
       "      <td>4.0</td>\n",
       "      <td>0</td>\n",
       "      <td>0</td>\n",
       "      <td>0</td>\n",
       "      <td>0</td>\n",
       "      <td>1</td>\n",
       "      <td>0</td>\n",
       "      <td>0</td>\n",
       "    </tr>\n",
       "  </tbody>\n",
       "</table>\n",
       "</div>"
      ],
      "text/plain": [
       "            day_demand      CA_pop  la_high  sd_high  sj_high  sf_high  \\\n",
       "2015-07-06    834762.0  13845790.0    76.53    69.43    79.45    68.22   \n",
       "2015-07-07    825173.0  13845790.0    77.05    69.61    79.38    68.29   \n",
       "2015-07-08    804819.0  13845790.0    73.90    70.08    74.78    64.59   \n",
       "2015-07-09    782610.0  13845790.0    74.22    71.30    74.00    63.23   \n",
       "2015-07-10    769752.0  13845790.0    74.57    73.32    73.66    68.02   \n",
       "\n",
       "            sac_high  f_high  DOW  Mon  Tue  Wed  Thur  Fri  Sat  Sun  \n",
       "2015-07-06     91.88   95.83  0.0    1    0    0     0    0    0    0  \n",
       "2015-07-07     90.67   92.31  1.0    0    1    0     0    0    0    0  \n",
       "2015-07-08     86.60   91.83  2.0    0    0    1     0    0    0    0  \n",
       "2015-07-09     78.27   88.91  3.0    0    0    0     1    0    0    0  \n",
       "2015-07-10     78.92   82.60  4.0    0    0    0     0    1    0    0  "
      ]
     },
     "execution_count": 107,
     "metadata": {},
     "output_type": "execute_result"
    }
   ],
   "source": [
    "days = full_df['DOW']\n",
    "days_df = pd.get_dummies(days)\n",
    "days_df.columns=['Mon', 'Tue', 'Wed', 'Thur', 'Fri', 'Sat', 'Sun']\n",
    "days_df.index = full_df.index\n",
    "new_df = pd.concat([full_df, days_df], axis=1)\n",
    "col_names = []\n",
    "col_names.extend(full_df.columns)\n",
    "col_names.extend(days_df.columns)\n",
    "new_df.columns = col_names\n",
    "new_df.head()"
   ]
  },
  {
   "cell_type": "markdown",
   "metadata": {},
   "source": [
    "#### 2.C Data Split <a id='data_split'></a>"
   ]
  },
  {
   "cell_type": "code",
   "execution_count": 108,
   "metadata": {},
   "outputs": [],
   "source": [
    "# Split the data into training and test sections\n",
    "data_len = new_df.shape[0]"
   ]
  },
  {
   "cell_type": "code",
   "execution_count": 109,
   "metadata": {},
   "outputs": [],
   "source": [
    "# Split the data frame into two parts\n",
    "train_len = int(0.7 * data_len)\n",
    "window_len = int(0.1 * data_len)"
   ]
  },
  {
   "cell_type": "code",
   "execution_count": 110,
   "metadata": {},
   "outputs": [],
   "source": [
    "# Make the primary train/validation split\n",
    "X_train = new_df.iloc[:train_len, :]\n",
    "\n",
    "# Make intermediate trail windows for walk forward validation\n",
    "X_walk1 = new_df.iloc[train_len:train_len+window_len, :]\n",
    "X_walk2 = new_df.iloc[train_len+window_len:train_len+2*window_len, :]\n",
    "X_walk3 = new_df.iloc[train_len+2*window_len:train_len+3*window_len, :]"
   ]
  },
  {
   "cell_type": "code",
   "execution_count": 111,
   "metadata": {},
   "outputs": [
    {
     "name": "stdout",
     "output_type": "stream",
     "text": [
      "<class 'pandas.core.frame.DataFrame'>\n",
      "DatetimeIndex: 596 entries, 2015-07-06 to 2017-02-20\n",
      "Data columns (total 16 columns):\n",
      "day_demand    596 non-null float64\n",
      "CA_pop        596 non-null float64\n",
      "la_high       596 non-null float64\n",
      "sd_high       596 non-null float64\n",
      "sj_high       596 non-null float64\n",
      "sf_high       596 non-null float64\n",
      "sac_high      596 non-null float64\n",
      "f_high        596 non-null float64\n",
      "DOW           596 non-null float64\n",
      "Mon           596 non-null uint8\n",
      "Tue           596 non-null uint8\n",
      "Wed           596 non-null uint8\n",
      "Thur          596 non-null uint8\n",
      "Fri           596 non-null uint8\n",
      "Sat           596 non-null uint8\n",
      "Sun           596 non-null uint8\n",
      "dtypes: float64(9), uint8(7)\n",
      "memory usage: 50.6 KB\n"
     ]
    }
   ],
   "source": [
    "# Look at the dataframe contents\n",
    "X_train.info()"
   ]
  },
  {
   "cell_type": "markdown",
   "metadata": {},
   "source": [
    "----\n",
    "----\n",
    "#### Walk Forward\n",
    "----"
   ]
  },
  {
   "cell_type": "code",
   "execution_count": 112,
   "metadata": {},
   "outputs": [],
   "source": [
    "full_df['log_demand'] = np.log(full_df['day_demand'])\n",
    "full_df['ds'] = full_df.index\n",
    "full_df['y'] = full_df['day_demand']"
   ]
  },
  {
   "cell_type": "code",
   "execution_count": 113,
   "metadata": {},
   "outputs": [
    {
     "data": {
      "text/plain": [
       "(852, 12)"
      ]
     },
     "execution_count": 113,
     "metadata": {},
     "output_type": "execute_result"
    }
   ],
   "source": [
    "full_df.shape"
   ]
  },
  {
   "cell_type": "code",
   "execution_count": 114,
   "metadata": {},
   "outputs": [],
   "source": [
    "def data_block(X, start, out_size) :\n",
    "    # get the slices of data frames to provide the blocks requested\n",
    "    block1 = X.iloc[start:start+out_size, :]\n",
    "        \n",
    "    return block1\n",
    "    "
   ]
  },
  {
   "cell_type": "code",
   "execution_count": 115,
   "metadata": {},
   "outputs": [],
   "source": [
    "def prophet_walk_forward_val(data, start_size, val_window, regressors, steps) :\n",
    "    '''\n",
    "        Function: walk_forward_val\n",
    "        \n",
    "        Arguments:\n",
    "            model - model class instantiator\n",
    "            data - pandas dataframe containing data of interest\n",
    "            start_size - initial number of rows for training\n",
    "            val_window - size of the validation window for each trail\n",
    "            regressors - list of regressors to add to the model\n",
    "            steps - number of walk forward steps to run\n",
    "        \n",
    "        Return:\n",
    "            mape_list - list of tupels with the last index for training window and mape for the window\n",
    "    '''\n",
    "    mape_list = []\n",
    "    # for each steps\n",
    "    for step in range(steps) :\n",
    "        print(start_size+step*val_window)\n",
    "        # Get the block of data for training\n",
    "        train_dat = data_block(data, 0, start_size+step*val_window)\n",
    "        \n",
    "        # Get a block of data for validation\n",
    "        val_dat = data_block(data, start_size+step*val_window, val_window)\n",
    "        \n",
    "        # Instantiate the model\n",
    "        m = Prophet(weekly_seasonality=True, yearly_seasonality=True)\n",
    "        \n",
    "        # Add regressors\n",
    "        for reg in regressors :\n",
    "            m.add_regressor(reg)\n",
    "            \n",
    "        # Fit the model\n",
    "        m.fit(train_dat)\n",
    "        \n",
    "        # Forecast for the validation step\n",
    "        forecast = m.predict(val_dat)\n",
    "        forecast.index = val_dat.index\n",
    "        print(forecast['ds'].values[0], val_dat['ds'].values[0])\n",
    "        \n",
    "        # Caluclate the MAPE for the window\n",
    "        ape = [np.abs(val_dat.loc[x, 'y'] - forecast.loc[x, 'yhat']) / val_dat.loc[x, 'y'] * 100 for x in val_dat.index]\n",
    "        \n",
    "        # Add the values to the list\n",
    "        mape_list.append((train_dat.index[-1], np.mean(ape)))\n",
    "        \n",
    "    # return the mape list\n",
    "    return mape_list"
   ]
  },
  {
   "cell_type": "code",
   "execution_count": 116,
   "metadata": {},
   "outputs": [],
   "source": [
    "def sarimax_walk_forward_val(data, start_size, val_window, regressors, steps) :\n",
    "    '''\n",
    "        Function: sarimax_walk_forward_val\n",
    "        \n",
    "        Arguments:\n",
    "            model - model class instantiator\n",
    "            data - pandas dataframe containing data of interest\n",
    "            start_size - initial number of rows for training\n",
    "            val_window - size of the validation window for each trail\n",
    "            regressors - list of regressors to add to the model\n",
    "            steps - number of walk forward steps to run\n",
    "        \n",
    "        Return:\n",
    "            mape_list - list of tupels with the last index for training window and mape for the window\n",
    "    '''\n",
    "    # Now choose the results that seem to work the best above and fit the model\n",
    "\n",
    "    best_order3 = (5, 0, 0)\n",
    "    best_seasonal_order3 = (3, 0, 1, 7)\n",
    "    \n",
    "    mape_list = []\n",
    "    # for each steps\n",
    "    for step in range(steps) :\n",
    "        print(start_size+step*val_window)\n",
    "        # Get the block of data for training\n",
    "        train_dat = data_block(data, 0, start_size+step*val_window)\n",
    "        \n",
    "        # Get a block of data for validation\n",
    "        val_dat = data_block(data, start_size+step*val_window, val_window)\n",
    "        \n",
    "\n",
    "        model = SARIMAX(data['log_demand'], order=best_order3, \\\n",
    "                    seasonal_order=best_seasonal_order3, exog=data[exog_columns])\n",
    "        res = model.fit()\n",
    "        \n",
    "        # Forecast for the validation step\n",
    "        predict = res.get_forecast(val_window, exog=val_dat[regressors].values[:val_window, :])\n",
    "        \n",
    "        forecast = np.exp(predict.predicted_mean)\n",
    "        \n",
    "        # Caluclate the MAPE for the window\n",
    "        ape = [np.abs(val_dat['day_demand'].values[x] - forecast[x]) / val_dat['day_demand'].values[x] * 100 for x in range(len(val_dat.index))]\n",
    "        \n",
    "        # Add the values to the list\n",
    "        mape_list.append((train_dat.index[-1], np.mean(ape)))\n",
    "        \n",
    "    # return the mape list\n",
    "    return mape_list"
   ]
  },
  {
   "cell_type": "code",
   "execution_count": 117,
   "metadata": {},
   "outputs": [
    {
     "name": "stdout",
     "output_type": "stream",
     "text": [
      "432\n",
      "453\n",
      "474\n",
      "495\n",
      "516\n",
      "537\n",
      "558\n",
      "579\n",
      "600\n",
      "621\n",
      "642\n",
      "663\n",
      "684\n",
      "705\n",
      "726\n",
      "747\n",
      "768\n",
      "789\n",
      "810\n",
      "831\n"
     ]
    }
   ],
   "source": [
    "exog_columns = ['la_high','f_high']\n",
    "results = sarimax_walk_forward_val(full_df, 432, 21, exog_columns, 20)"
   ]
  },
  {
   "cell_type": "code",
   "execution_count": 118,
   "metadata": {},
   "outputs": [
    {
     "name": "stderr",
     "output_type": "stream",
     "text": [
      "INFO:fbprophet:Disabling daily seasonality. Run prophet with daily_seasonality=True to override this.\n"
     ]
    },
    {
     "name": "stdout",
     "output_type": "stream",
     "text": [
      "432\n"
     ]
    },
    {
     "name": "stderr",
     "output_type": "stream",
     "text": [
      "INFO:fbprophet:Disabling daily seasonality. Run prophet with daily_seasonality=True to override this.\n"
     ]
    },
    {
     "name": "stdout",
     "output_type": "stream",
     "text": [
      "2016-09-10T00:00:00.000000000 2016-09-10T00:00:00.000000000\n",
      "453\n"
     ]
    },
    {
     "name": "stderr",
     "output_type": "stream",
     "text": [
      "INFO:fbprophet:Disabling daily seasonality. Run prophet with daily_seasonality=True to override this.\n"
     ]
    },
    {
     "name": "stdout",
     "output_type": "stream",
     "text": [
      "2016-10-01T00:00:00.000000000 2016-10-01T00:00:00.000000000\n",
      "474\n"
     ]
    },
    {
     "name": "stderr",
     "output_type": "stream",
     "text": [
      "INFO:fbprophet:Disabling daily seasonality. Run prophet with daily_seasonality=True to override this.\n"
     ]
    },
    {
     "name": "stdout",
     "output_type": "stream",
     "text": [
      "2016-10-22T00:00:00.000000000 2016-10-22T00:00:00.000000000\n",
      "495\n"
     ]
    },
    {
     "name": "stderr",
     "output_type": "stream",
     "text": [
      "INFO:fbprophet:Disabling daily seasonality. Run prophet with daily_seasonality=True to override this.\n"
     ]
    },
    {
     "name": "stdout",
     "output_type": "stream",
     "text": [
      "2016-11-12T00:00:00.000000000 2016-11-12T00:00:00.000000000\n",
      "516\n"
     ]
    },
    {
     "name": "stderr",
     "output_type": "stream",
     "text": [
      "INFO:fbprophet:Disabling daily seasonality. Run prophet with daily_seasonality=True to override this.\n"
     ]
    },
    {
     "name": "stdout",
     "output_type": "stream",
     "text": [
      "2016-12-03T00:00:00.000000000 2016-12-03T00:00:00.000000000\n",
      "537\n"
     ]
    },
    {
     "name": "stderr",
     "output_type": "stream",
     "text": [
      "INFO:fbprophet:Disabling daily seasonality. Run prophet with daily_seasonality=True to override this.\n"
     ]
    },
    {
     "name": "stdout",
     "output_type": "stream",
     "text": [
      "2016-12-24T00:00:00.000000000 2016-12-24T00:00:00.000000000\n",
      "558\n"
     ]
    },
    {
     "name": "stderr",
     "output_type": "stream",
     "text": [
      "INFO:fbprophet:Disabling daily seasonality. Run prophet with daily_seasonality=True to override this.\n"
     ]
    },
    {
     "name": "stdout",
     "output_type": "stream",
     "text": [
      "2017-01-14T00:00:00.000000000 2017-01-14T00:00:00.000000000\n",
      "579\n"
     ]
    },
    {
     "name": "stderr",
     "output_type": "stream",
     "text": [
      "INFO:fbprophet:Disabling daily seasonality. Run prophet with daily_seasonality=True to override this.\n"
     ]
    },
    {
     "name": "stdout",
     "output_type": "stream",
     "text": [
      "2017-02-04T00:00:00.000000000 2017-02-04T00:00:00.000000000\n",
      "600\n"
     ]
    },
    {
     "name": "stderr",
     "output_type": "stream",
     "text": [
      "INFO:fbprophet:Disabling daily seasonality. Run prophet with daily_seasonality=True to override this.\n"
     ]
    },
    {
     "name": "stdout",
     "output_type": "stream",
     "text": [
      "2017-02-25T00:00:00.000000000 2017-02-25T00:00:00.000000000\n",
      "621\n"
     ]
    },
    {
     "name": "stderr",
     "output_type": "stream",
     "text": [
      "INFO:fbprophet:Disabling daily seasonality. Run prophet with daily_seasonality=True to override this.\n"
     ]
    },
    {
     "name": "stdout",
     "output_type": "stream",
     "text": [
      "2017-03-18T00:00:00.000000000 2017-03-18T00:00:00.000000000\n",
      "642\n"
     ]
    },
    {
     "name": "stderr",
     "output_type": "stream",
     "text": [
      "INFO:fbprophet:Disabling daily seasonality. Run prophet with daily_seasonality=True to override this.\n"
     ]
    },
    {
     "name": "stdout",
     "output_type": "stream",
     "text": [
      "2017-04-08T00:00:00.000000000 2017-04-08T00:00:00.000000000\n",
      "663\n"
     ]
    },
    {
     "name": "stderr",
     "output_type": "stream",
     "text": [
      "INFO:fbprophet:Disabling daily seasonality. Run prophet with daily_seasonality=True to override this.\n"
     ]
    },
    {
     "name": "stdout",
     "output_type": "stream",
     "text": [
      "2017-04-29T00:00:00.000000000 2017-04-29T00:00:00.000000000\n",
      "684\n"
     ]
    },
    {
     "name": "stderr",
     "output_type": "stream",
     "text": [
      "INFO:fbprophet:Disabling daily seasonality. Run prophet with daily_seasonality=True to override this.\n"
     ]
    },
    {
     "name": "stdout",
     "output_type": "stream",
     "text": [
      "2017-05-20T00:00:00.000000000 2017-05-20T00:00:00.000000000\n",
      "705\n"
     ]
    },
    {
     "name": "stderr",
     "output_type": "stream",
     "text": [
      "INFO:fbprophet:Disabling daily seasonality. Run prophet with daily_seasonality=True to override this.\n"
     ]
    },
    {
     "name": "stdout",
     "output_type": "stream",
     "text": [
      "2017-06-10T00:00:00.000000000 2017-06-10T00:00:00.000000000\n",
      "726\n"
     ]
    },
    {
     "name": "stderr",
     "output_type": "stream",
     "text": [
      "INFO:fbprophet:Disabling daily seasonality. Run prophet with daily_seasonality=True to override this.\n"
     ]
    },
    {
     "name": "stdout",
     "output_type": "stream",
     "text": [
      "2017-07-01T00:00:00.000000000 2017-07-01T00:00:00.000000000\n",
      "747\n"
     ]
    },
    {
     "name": "stderr",
     "output_type": "stream",
     "text": [
      "INFO:fbprophet:Disabling daily seasonality. Run prophet with daily_seasonality=True to override this.\n"
     ]
    },
    {
     "name": "stdout",
     "output_type": "stream",
     "text": [
      "2017-07-22T00:00:00.000000000 2017-07-22T00:00:00.000000000\n",
      "768\n"
     ]
    },
    {
     "name": "stderr",
     "output_type": "stream",
     "text": [
      "INFO:fbprophet:Disabling daily seasonality. Run prophet with daily_seasonality=True to override this.\n"
     ]
    },
    {
     "name": "stdout",
     "output_type": "stream",
     "text": [
      "2017-08-12T00:00:00.000000000 2017-08-12T00:00:00.000000000\n",
      "789\n"
     ]
    },
    {
     "name": "stderr",
     "output_type": "stream",
     "text": [
      "INFO:fbprophet:Disabling daily seasonality. Run prophet with daily_seasonality=True to override this.\n"
     ]
    },
    {
     "name": "stdout",
     "output_type": "stream",
     "text": [
      "2017-09-02T00:00:00.000000000 2017-09-02T00:00:00.000000000\n",
      "810\n"
     ]
    },
    {
     "name": "stderr",
     "output_type": "stream",
     "text": [
      "INFO:fbprophet:Disabling daily seasonality. Run prophet with daily_seasonality=True to override this.\n"
     ]
    },
    {
     "name": "stdout",
     "output_type": "stream",
     "text": [
      "2017-09-23T00:00:00.000000000 2017-09-23T00:00:00.000000000\n",
      "831\n",
      "2017-10-14T00:00:00.000000000 2017-10-14T00:00:00.000000000\n"
     ]
    }
   ],
   "source": [
    "exog_columns = ['CA_pop', 'la_high', 'sd_high', 'f_high', 'sj_high', 'sf_high', 'sac_high']\n",
    "results_prophet = prophet_walk_forward_val(full_df, 432, 21, exog_columns, 20)"
   ]
  },
  {
   "cell_type": "code",
   "execution_count": 119,
   "metadata": {},
   "outputs": [
    {
     "data": {
      "text/plain": [
       "(pandas._libs.tslibs.timestamps.Timestamp,\n",
       " pandas._libs.tslibs.timestamps.Timestamp)"
      ]
     },
     "execution_count": 119,
     "metadata": {},
     "output_type": "execute_result"
    }
   ],
   "source": [
    "type(results[0][0]), type(results_prophet[0][0])"
   ]
  },
  {
   "cell_type": "code",
   "execution_count": 125,
   "metadata": {},
   "outputs": [
    {
     "name": "stderr",
     "output_type": "stream",
     "text": [
      "WARNING:matplotlib.legend:No handles with labels found to put in legend.\n"
     ]
    },
    {
     "data": {
      "image/png": "[encoded data removed]",
      "text/plain": [
       "<Figure size 1296x792 with 1 Axes>"
      ]
     },
     "metadata": {
      "needs_background": "light"
     },
     "output_type": "display_data"
    }
   ],
   "source": [
    "fig = plt.figure(figsize=[18,11])\n",
    "fig.patch.set_alpha(0.0)\n",
    "fig.patch.set_facecolor(None)\n",
    "\n",
    "ax = fig.add_subplot(1,1,1)\n",
    "ax.patch.set_visible(False)\n",
    "ax.set_alpha(0.0)\n",
    "\n",
    "plt.plot(facecolor=('#000000'), alpha=0.0)\n",
    "\n",
    "SMALL_SIZE = 18\n",
    "MEDIUM_SIZE = 24\n",
    "BIGGER_SIZE = 30\n",
    "\n",
    "plt.rc('font', size=SMALL_SIZE)          # controls default text sizes\n",
    "plt.rc('axes', titlesize=SMALL_SIZE)     # fontsize of the axes title\n",
    "plt.rc('axes', labelsize=MEDIUM_SIZE)    # fontsize of the x and y labels\n",
    "plt.rc('xtick', labelsize=SMALL_SIZE)    # fontsize of the tick labels\n",
    "plt.rc('ytick', labelsize=SMALL_SIZE)    # fontsize of the tick labels\n",
    "plt.rc('legend', fontsize=SMALL_SIZE)    # legend fontsize\n",
    "plt.rc('figure', titlesize=BIGGER_SIZE)  # fontsize of the figure title\n",
    "\n",
    "#plt.title('Walk Forward Validation\\n', fontsize=18)\n",
    "plt.xlabel('\\nValidation Step')\n",
    "plt.ylabel('MAPE (%)\\n')\n",
    "plt.legend(loc='lower right')\n",
    "\n",
    "prophet_results_x = [x[0].date() for x in results_prophet]\n",
    "prophet_results_x = pd.DatetimeIndex(prophet_results_x)\n",
    "\n",
    "xticks = prophet_results_x[4::5]\n",
    "xlabels = ['5', '10', '15', '20', '10','12']\n",
    "plt.xticks(xticks, xlabels, rotation=45)\n",
    "plt.yticks([5, 10, 15, 20, 25], ['5', '10', '15', '20', '25'])\n",
    "\n",
    "\n",
    "\n",
    "prophet_results_y = [x[1] for x in results_prophet]\n",
    "prophet_timestamps = [x[0].timestamp() for x in results_prophet]\n",
    "\n",
    "prophet_z = np.polyfit(prophet_timestamps, prophet_results_y, 1)\n",
    "prophet_poly_func = np.poly1d(prophet_z)\n",
    "prophet_trend = [prophet_poly_func(x) for x in prophet_timestamps]\n",
    "\n",
    "plt.plot(prophet_results_x, prophet_results_y, label='Prophet', c='cornflowerblue', linewidth=5)\n",
    "#plt.plot(prophet_results_x, prophet_trend, c='b', linestyle='--')\n",
    "\n",
    "sarima_results_x = [x[0].date() for x in results]\n",
    "sarima_results_y = [x[1] for x in results]\n",
    "sarima_timestamps = [x[0].timestamp() for x in results]\n",
    "\n",
    "sarima_z = np.polyfit(sarima_timestamps, sarima_results_y, 1)\n",
    "sarima_poly_func = np.poly1d(sarima_z)\n",
    "sarima_trend = [sarima_poly_func(x) for x in sarima_timestamps]\n",
    "\n",
    "plt.plot(sarima_results_x, sarima_results_y,label='Sarimax', c='orange', linewidth=5)\n",
    "leg = plt.legend(loc='lower right', facecolor=None)\n",
    "leg.get_frame().set_alpha(0.0)\n",
    "plt.savefig('walk_validation_errors.png', Transparent=True)\n",
    "#plt.plot(sarima_results_x, sarima_trend, c='red', linestyle='--')"
   ]
  },
  {
   "cell_type": "code",
   "execution_count": null,
   "metadata": {},
   "outputs": [],
   "source": []
  }
 ],
 "metadata": {
  "kernelspec": {
   "display_name": "Python 3",
   "language": "python",
   "name": "python3"
  },
  "language_info": {
   "codemirror_mode": {
    "name": "ipython",
    "version": 3
   },
   "file_extension": ".py",
   "mimetype": "text/x-python",
   "name": "python",
   "nbconvert_exporter": "python",
   "pygments_lexer": "ipython3",
   "version": "3.7.4"
  }
 },
 "nbformat": 4,
 "nbformat_minor": 4
}
