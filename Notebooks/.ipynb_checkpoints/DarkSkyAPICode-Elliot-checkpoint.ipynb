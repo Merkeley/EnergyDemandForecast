{
 "cells": [
  {
   "cell_type": "code",
   "execution_count": null,
   "metadata": {},
   "outputs": [],
   "source": [
    "from bs4 import BeautifulSoup\n",
    "import requests\n",
    "from fake_useragent import UserAgent\n",
    "from IPython.core.display import display, HTML\n",
    "import json\n",
    "ua = UserAgent()\n",
    "user_agent = {'User-agent': ua.random}\n",
    "print(user_agent)\n",
    "def weather(row):\n",
    "    index = row.name\n",
    "    darksky_key = <PUT KEY HERE>\n",
    "    TIMESTAMP = str(row['Start Date'].timestamp()).split('.',1)[0]\n",
    "    LAT = str(row['Latitude'])\n",
    "    LONG = str(row['Longitude'])\n",
    "    darksky_url = 'https://api.darksky.net/forecast/' + darksky_key + '/' + LAT + ',' + LONG + ',' + TIMESTAMP + '?exclude=currently,flags'\n",
    "    response = requests.get(darksky_url, headers = user_agent)\n",
    "    weather_data = response.json()\n",
    "    total_data.loc[index, 'High'] = weather_data['daily']['data'][0]['temperatureHigh']\n",
    "    total_data.loc[index, 'Low'] = weather_data['daily']['data'][0]['temperatureLow']\n",
    "    total_data.loc[index, 'Humidity'] = weather_data['daily']['data'][0]['humidity']\n",
    "    total_data.loc[index, 'Dewpoint'] = weather_data['daily']['data'][0]['dewPoint']\n",
    "    total_data.loc[index, 'Pressure'] = weather_data['daily']['data'][0]['pressure']\n",
    "    total_data.loc[index, 'Windspeed'] = weather_data['daily']['data'][0]['windSpeed']\n",
    "    total_data.loc[index, 'Windgust'] = weather_data['daily']['data'][0]['windGust']\n",
    "    total_data.loc[index, 'Cover'] = weather_data['daily']['data'][0]['cloudCover']"
   ]
  }
 ],
 "metadata": {
  "kernelspec": {
   "display_name": "Python 3",
   "language": "python",
   "name": "python3"
  },
  "language_info": {
   "codemirror_mode": {
    "name": "ipython",
    "version": 3
   },
   "file_extension": ".py",
   "mimetype": "text/x-python",
   "name": "python",
   "nbconvert_exporter": "python",
   "pygments_lexer": "ipython3",
   "version": "3.7.4"
  }
 },
 "nbformat": 4,
 "nbformat_minor": 4
}
