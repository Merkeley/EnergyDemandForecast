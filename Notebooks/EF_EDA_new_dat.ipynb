{
 "cells": [
  {
   "cell_type": "markdown",
   "metadata": {},
   "source": [
    "# Electricity Demand Forecasting\n",
    "\n",
    "## <table id='Table_Of_Contents'>Table Of Contents</table>\n",
    "\n",
    "1. [Import Modules](#import)<br>\n",
    "2. [Read Data File](#read_data)<br>\n",
    "    1. [Clean Data Frame](#clean_data)<br>\n",
    "    2. [Data Split](#data_split)<br>\n",
    "\n",
    "\n"
   ]
  },
  {
   "cell_type": "markdown",
   "metadata": {},
   "source": [
    "### <a id='import'> 1. Import Modules</a>"
   ]
  },
  {
   "cell_type": "code",
   "execution_count": 3,
   "metadata": {},
   "outputs": [],
   "source": [
    "import pandas as pd\n",
    "import numpy as np\n",
    "import re\n",
    "\n",
    "import json\n",
    "import datetime\n",
    "\n",
    "\n",
    "from statsmodels.graphics.tsaplots import plot_acf,plot_pacf \n",
    "from statsmodels.tsa.seasonal import seasonal_decompose\n",
    "\n",
    "from sklearn.preprocessing import StandardScaler\n",
    "\n",
    "#from pmdarima import auto_arima\n",
    "\n",
    "from sklearn.metrics import mean_squared_error\n",
    "from statsmodels.tools.eval_measures import rmse\n",
    "\n",
    "\n",
    "import warnings\n",
    "\n",
    "from dateutil import parser\n",
    "\n",
    "import matplotlib.pyplot as plt\n",
    "\n",
    "from statsmodels.tsa.statespace.sarimax import SARIMAX\n",
    "from statsmodels.tsa.arima.model import ARIMA\n",
    "import statsmodels.tsa.statespace.mlemodel"
   ]
  },
  {
   "cell_type": "markdown",
   "metadata": {
    "toc-hr-collapsed": true
   },
   "source": [
    "### 2. Data Import <a id='read_data'></a>"
   ]
  },
  {
   "cell_type": "code",
   "execution_count": 4,
   "metadata": {},
   "outputs": [],
   "source": [
    "data_file = '../data/elec_demand.csv'"
   ]
  },
  {
   "cell_type": "code",
   "execution_count": 11,
   "metadata": {},
   "outputs": [],
   "source": [
    "full_df = pd.read_csv(data_file, index_col=0).astype({'demand':'float'})"
   ]
  },
  {
   "cell_type": "markdown",
   "metadata": {},
   "source": [
    "#### 2.A Clean the data frame <a id='clean_data'></a>"
   ]
  },
  {
   "cell_type": "code",
   "execution_count": 12,
   "metadata": {},
   "outputs": [
    {
     "name": "stdout",
     "output_type": "stream",
     "text": [
      "<class 'pandas.core.frame.DataFrame'>\n",
      "DatetimeIndex: 378 entries, 2020-03-09 00:00:00+00:00 to 2020-03-24 17:00:00+00:00\n",
      "Data columns (total 1 columns):\n",
      "demand    378 non-null float64\n",
      "dtypes: float64(1)\n",
      "memory usage: 5.9 KB\n"
     ]
    }
   ],
   "source": [
    "# Convert the time string to a datetime object\n",
    "dt_time = [parser.isoparse(x) for x in full_df.loc[:, 'time']]\n",
    "full_df.index = pd.DatetimeIndex(dt_time)\n",
    "full_df.drop('time', axis=1, inplace=True)\n",
    "full_df.sort_index(inplace=True)\n",
    "full_df.info()"
   ]
  },
  {
   "cell_type": "code",
   "execution_count": 17,
   "metadata": {},
   "outputs": [
    {
     "name": "stdout",
     "output_type": "stream",
     "text": [
      "<class 'pandas.core.frame.DataFrame'>\n",
      "DatetimeIndex: 378 entries, 2020-03-09 00:00:00+00:00 to 2020-03-24 17:00:00+00:00\n",
      "Data columns (total 2 columns):\n",
      "demand    378 non-null float64\n",
      "date      378 non-null object\n",
      "dtypes: float64(1), object(1)\n",
      "memory usage: 8.9+ KB\n"
     ]
    }
   ],
   "source": [
    "full_df.index = pd.DatetimeIndex(full_df.index)\n",
    "full_df['date'] = [x.date() for x in full_df.index]\n",
    "full_df.info()"
   ]
  },
  {
   "cell_type": "code",
   "execution_count": 18,
   "metadata": {},
   "outputs": [
    {
     "data": {
      "text/html": [
       "<div>\n",
       "<style scoped>\n",
       "    .dataframe tbody tr th:only-of-type {\n",
       "        vertical-align: middle;\n",
       "    }\n",
       "\n",
       "    .dataframe tbody tr th {\n",
       "        vertical-align: top;\n",
       "    }\n",
       "\n",
       "    .dataframe thead th {\n",
       "        text-align: right;\n",
       "    }\n",
       "</style>\n",
       "<table border=\"1\" class=\"dataframe\">\n",
       "  <thead>\n",
       "    <tr style=\"text-align: right;\">\n",
       "      <th></th>\n",
       "      <th>demand</th>\n",
       "      <th>date</th>\n",
       "    </tr>\n",
       "  </thead>\n",
       "  <tbody>\n",
       "    <tr>\n",
       "      <th>2020-03-09 00:00:00+00:00</th>\n",
       "      <td>24260.0</td>\n",
       "      <td>2020-03-09</td>\n",
       "    </tr>\n",
       "    <tr>\n",
       "      <th>2020-03-09 01:00:00+00:00</th>\n",
       "      <td>25786.0</td>\n",
       "      <td>2020-03-09</td>\n",
       "    </tr>\n",
       "    <tr>\n",
       "      <th>2020-03-09 02:00:00+00:00</th>\n",
       "      <td>28496.0</td>\n",
       "      <td>2020-03-09</td>\n",
       "    </tr>\n",
       "    <tr>\n",
       "      <th>2020-03-09 03:00:00+00:00</th>\n",
       "      <td>30754.0</td>\n",
       "      <td>2020-03-09</td>\n",
       "    </tr>\n",
       "    <tr>\n",
       "      <th>2020-03-09 04:00:00+00:00</th>\n",
       "      <td>30688.0</td>\n",
       "      <td>2020-03-09</td>\n",
       "    </tr>\n",
       "  </tbody>\n",
       "</table>\n",
       "</div>"
      ],
      "text/plain": [
       "                            demand        date\n",
       "2020-03-09 00:00:00+00:00  24260.0  2020-03-09\n",
       "2020-03-09 01:00:00+00:00  25786.0  2020-03-09\n",
       "2020-03-09 02:00:00+00:00  28496.0  2020-03-09\n",
       "2020-03-09 03:00:00+00:00  30754.0  2020-03-09\n",
       "2020-03-09 04:00:00+00:00  30688.0  2020-03-09"
      ]
     },
     "execution_count": 18,
     "metadata": {},
     "output_type": "execute_result"
    }
   ],
   "source": [
    "full_df.head()"
   ]
  },
  {
   "cell_type": "code",
   "execution_count": 21,
   "metadata": {},
   "outputs": [],
   "source": [
    "day_demand = full_df.groupby('date').sum()\n",
    "day_demand.to_csv('../data/new_demand.csv')"
   ]
  },
  {
   "cell_type": "code",
   "execution_count": null,
   "metadata": {},
   "outputs": [],
   "source": []
  }
 ],
 "metadata": {
  "kernelspec": {
   "display_name": "Python 3",
   "language": "python",
   "name": "python3"
  },
  "language_info": {
   "codemirror_mode": {
    "name": "ipython",
    "version": 3
   },
   "file_extension": ".py",
   "mimetype": "text/x-python",
   "name": "python",
   "nbconvert_exporter": "python",
   "pygments_lexer": "ipython3",
   "version": "3.7.4"
  }
 },
 "nbformat": 4,
 "nbformat_minor": 4
}
